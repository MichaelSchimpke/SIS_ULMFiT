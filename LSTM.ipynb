{
 "cells": [
  {
   "cell_type": "code",
   "execution_count": 87,
   "metadata": {},
   "outputs": [
    {
     "name": "stdout",
     "output_type": "stream",
     "text": [
      "Requirement already satisfied: fastai==0.7.0 in /Users/michaelschimpke/anaconda3/envs/fastai-cpu/lib/python3.6/site-packages (0.7.0)\n",
      "Requirement already satisfied: wcwidth in /Users/michaelschimpke/anaconda3/envs/fastai-cpu/lib/python3.6/site-packages (from fastai==0.7.0) (0.1.7)\n",
      "Requirement already satisfied: matplotlib in /Users/michaelschimpke/anaconda3/envs/fastai-cpu/lib/python3.6/site-packages (from fastai==0.7.0) (2.2.3)\n",
      "Requirement already satisfied: python-dateutil in /Users/michaelschimpke/anaconda3/envs/fastai-cpu/lib/python3.6/site-packages (from fastai==0.7.0) (2.7.5)\n",
      "Requirement already satisfied: tornado in /Users/michaelschimpke/anaconda3/envs/fastai-cpu/lib/python3.6/site-packages (from fastai==0.7.0) (4.5.3)\n",
      "Requirement already satisfied: jedi in /Users/michaelschimpke/anaconda3/envs/fastai-cpu/lib/python3.6/site-packages (from fastai==0.7.0) (0.13.2)\n",
      "Requirement already satisfied: ptyprocess in /Users/michaelschimpke/anaconda3/envs/fastai-cpu/lib/python3.6/site-packages (from fastai==0.7.0) (0.6.0)\n",
      "Requirement already satisfied: PyYAML in /Users/michaelschimpke/anaconda3/envs/fastai-cpu/lib/python3.6/site-packages (from fastai==0.7.0) (3.13)\n",
      "Requirement already satisfied: widgetsnbextension in /Users/michaelschimpke/anaconda3/envs/fastai-cpu/lib/python3.6/site-packages (from fastai==0.7.0) (3.4.2)\n",
      "Requirement already satisfied: Pygments in /Users/michaelschimpke/anaconda3/envs/fastai-cpu/lib/python3.6/site-packages (from fastai==0.7.0) (2.3.1)\n",
      "Requirement already satisfied: torch<0.4 in /Users/michaelschimpke/anaconda3/envs/fastai-cpu/lib/python3.6/site-packages (from fastai==0.7.0) (0.3.1.post2)\n",
      "Requirement already satisfied: Pillow in /Users/michaelschimpke/anaconda3/envs/fastai-cpu/lib/python3.6/site-packages (from fastai==0.7.0) (5.4.1)\n",
      "Requirement already satisfied: torchvision in /Users/michaelschimpke/anaconda3/envs/fastai-cpu/lib/python3.6/site-packages (from fastai==0.7.0) (0.1.9)\n",
      "Requirement already satisfied: webencodings in /Users/michaelschimpke/anaconda3/envs/fastai-cpu/lib/python3.6/site-packages (from fastai==0.7.0) (0.5.1)\n",
      "Requirement already satisfied: jupyter in /Users/michaelschimpke/anaconda3/envs/fastai-cpu/lib/python3.6/site-packages (from fastai==0.7.0) (1.0.0)\n",
      "Requirement already satisfied: ipykernel in /Users/michaelschimpke/anaconda3/envs/fastai-cpu/lib/python3.6/site-packages (from fastai==0.7.0) (5.1.0)\n",
      "Requirement already satisfied: ipython in /Users/michaelschimpke/anaconda3/envs/fastai-cpu/lib/python3.6/site-packages (from fastai==0.7.0) (7.2.0)\n",
      "Requirement already satisfied: MarkupSafe in /Users/michaelschimpke/anaconda3/envs/fastai-cpu/lib/python3.6/site-packages (from fastai==0.7.0) (1.1.0)\n",
      "Requirement already satisfied: pandas in /Users/michaelschimpke/anaconda3/envs/fastai-cpu/lib/python3.6/site-packages (from fastai==0.7.0) (0.24.0)\n",
      "Requirement already satisfied: certifi in /Users/michaelschimpke/anaconda3/envs/fastai-cpu/lib/python3.6/site-packages (from fastai==0.7.0) (2018.11.29)\n",
      "Requirement already satisfied: graphviz in /Users/michaelschimpke/anaconda3/envs/fastai-cpu/lib/python3.6/site-packages (from fastai==0.7.0) (0.10.1)\n",
      "Requirement already satisfied: ipython-genutils in /Users/michaelschimpke/anaconda3/envs/fastai-cpu/lib/python3.6/site-packages (from fastai==0.7.0) (0.2.0)\n",
      "Requirement already satisfied: feather-format in /Users/michaelschimpke/anaconda3/envs/fastai-cpu/lib/python3.6/site-packages (from fastai==0.7.0) (0.4.0)\n",
      "Requirement already satisfied: torchtext in /Users/michaelschimpke/anaconda3/envs/fastai-cpu/lib/python3.6/site-packages (from fastai==0.7.0) (0.2.3)\n",
      "Requirement already satisfied: tqdm in /Users/michaelschimpke/anaconda3/envs/fastai-cpu/lib/python3.6/site-packages (from fastai==0.7.0) (4.29.1)\n",
      "Requirement already satisfied: pickleshare in /Users/michaelschimpke/anaconda3/envs/fastai-cpu/lib/python3.6/site-packages (from fastai==0.7.0) (0.7.5)\n",
      "Requirement already satisfied: Jinja2 in /Users/michaelschimpke/anaconda3/envs/fastai-cpu/lib/python3.6/site-packages (from fastai==0.7.0) (2.10)\n",
      "Requirement already satisfied: entrypoints in /Users/michaelschimpke/anaconda3/envs/fastai-cpu/lib/python3.6/site-packages (from fastai==0.7.0) (0.3)\n",
      "Requirement already satisfied: sklearn-pandas in /Users/michaelschimpke/anaconda3/envs/fastai-cpu/lib/python3.6/site-packages (from fastai==0.7.0) (1.8.0)\n",
      "Requirement already satisfied: ipywidgets in /Users/michaelschimpke/anaconda3/envs/fastai-cpu/lib/python3.6/site-packages (from fastai==0.7.0) (7.4.2)\n",
      "Requirement already satisfied: pytz in /Users/michaelschimpke/anaconda3/envs/fastai-cpu/lib/python3.6/site-packages (from fastai==0.7.0) (2018.9)\n",
      "Requirement already satisfied: pyzmq in /Users/michaelschimpke/anaconda3/envs/fastai-cpu/lib/python3.6/site-packages (from fastai==0.7.0) (17.1.2)\n",
      "Requirement already satisfied: simplegeneric in /Users/michaelschimpke/anaconda3/envs/fastai-cpu/lib/python3.6/site-packages (from fastai==0.7.0) (0.8.1)\n",
      "Requirement already satisfied: cycler in /Users/michaelschimpke/anaconda3/envs/fastai-cpu/lib/python3.6/site-packages (from fastai==0.7.0) (0.10.0)\n",
      "Requirement already satisfied: bleach in /Users/michaelschimpke/anaconda3/envs/fastai-cpu/lib/python3.6/site-packages (from fastai==0.7.0) (3.1.0)\n",
      "Requirement already satisfied: isoweek in /Users/michaelschimpke/anaconda3/envs/fastai-cpu/lib/python3.6/site-packages (from fastai==0.7.0) (1.3.3)\n",
      "Requirement already satisfied: bcolz in /Users/michaelschimpke/anaconda3/envs/fastai-cpu/lib/python3.6/site-packages (from fastai==0.7.0) (1.2.1)\n",
      "Requirement already satisfied: numpy in /Users/michaelschimpke/anaconda3/envs/fastai-cpu/lib/python3.6/site-packages (from fastai==0.7.0) (1.15.4)\n",
      "Requirement already satisfied: decorator in /Users/michaelschimpke/anaconda3/envs/fastai-cpu/lib/python3.6/site-packages (from fastai==0.7.0) (4.3.0)\n",
      "Requirement already satisfied: scipy in /Users/michaelschimpke/anaconda3/envs/fastai-cpu/lib/python3.6/site-packages (from fastai==0.7.0) (1.2.0)\n",
      "Requirement already satisfied: testpath in /Users/michaelschimpke/anaconda3/envs/fastai-cpu/lib/python3.6/site-packages (from fastai==0.7.0) (0.4.2)\n",
      "Requirement already satisfied: seaborn in /Users/michaelschimpke/anaconda3/envs/fastai-cpu/lib/python3.6/site-packages (from fastai==0.7.0) (0.9.0)\n",
      "Requirement already satisfied: html5lib in /Users/michaelschimpke/anaconda3/envs/fastai-cpu/lib/python3.6/site-packages (from fastai==0.7.0) (1.0.1)\n",
      "Requirement already satisfied: pyparsing in /Users/michaelschimpke/anaconda3/envs/fastai-cpu/lib/python3.6/site-packages (from fastai==0.7.0) (2.3.1)\n",
      "Requirement already satisfied: jsonschema in /Users/michaelschimpke/anaconda3/envs/fastai-cpu/lib/python3.6/site-packages (from fastai==0.7.0) (2.6.0)\n",
      "Requirement already satisfied: traitlets in /Users/michaelschimpke/anaconda3/envs/fastai-cpu/lib/python3.6/site-packages (from fastai==0.7.0) (4.3.2)\n",
      "Requirement already satisfied: pandas-summary in /Users/michaelschimpke/anaconda3/envs/fastai-cpu/lib/python3.6/site-packages (from fastai==0.7.0) (0.0.6)\n",
      "Requirement already satisfied: plotnine in /Users/michaelschimpke/anaconda3/envs/fastai-cpu/lib/python3.6/site-packages (from fastai==0.7.0) (0.5.1)\n",
      "Requirement already satisfied: opencv-python in /Users/michaelschimpke/anaconda3/envs/fastai-cpu/lib/python3.6/site-packages (from fastai==0.7.0) (4.0.0.21)\n",
      "Requirement already satisfied: six>=1.10 in /Users/michaelschimpke/anaconda3/envs/fastai-cpu/lib/python3.6/site-packages (from matplotlib->fastai==0.7.0) (1.12.0)\n",
      "Requirement already satisfied: kiwisolver>=1.0.1 in /Users/michaelschimpke/anaconda3/envs/fastai-cpu/lib/python3.6/site-packages (from matplotlib->fastai==0.7.0) (1.0.1)\n",
      "Requirement already satisfied: parso>=0.3.0 in /Users/michaelschimpke/anaconda3/envs/fastai-cpu/lib/python3.6/site-packages (from jedi->fastai==0.7.0) (0.3.1)\n",
      "Requirement already satisfied: notebook>=4.4.1 in /Users/michaelschimpke/anaconda3/envs/fastai-cpu/lib/python3.6/site-packages (from widgetsnbextension->fastai==0.7.0) (5.7.4)\n",
      "Requirement already satisfied: nbconvert in /Users/michaelschimpke/anaconda3/envs/fastai-cpu/lib/python3.6/site-packages (from jupyter->fastai==0.7.0) (5.4.0)\n",
      "Requirement already satisfied: qtconsole in /Users/michaelschimpke/anaconda3/envs/fastai-cpu/lib/python3.6/site-packages (from jupyter->fastai==0.7.0) (4.4.3)\n",
      "Requirement already satisfied: jupyter-console in /Users/michaelschimpke/anaconda3/envs/fastai-cpu/lib/python3.6/site-packages (from jupyter->fastai==0.7.0) (6.0.0)\n",
      "Requirement already satisfied: jupyter-client in /Users/michaelschimpke/anaconda3/envs/fastai-cpu/lib/python3.6/site-packages (from ipykernel->fastai==0.7.0) (5.2.4)\n",
      "Requirement already satisfied: setuptools>=18.5 in /Users/michaelschimpke/anaconda3/envs/fastai-cpu/lib/python3.6/site-packages (from ipython->fastai==0.7.0) (40.6.3)\n",
      "Requirement already satisfied: prompt-toolkit<2.1.0,>=2.0.0 in /Users/michaelschimpke/anaconda3/envs/fastai-cpu/lib/python3.6/site-packages (from ipython->fastai==0.7.0) (2.0.7)\n",
      "Requirement already satisfied: backcall in /Users/michaelschimpke/anaconda3/envs/fastai-cpu/lib/python3.6/site-packages (from ipython->fastai==0.7.0) (0.1.0)\n"
     ]
    },
    {
     "name": "stdout",
     "output_type": "stream",
     "text": [
      "Requirement already satisfied: appnope; sys_platform == \"darwin\" in /Users/michaelschimpke/anaconda3/envs/fastai-cpu/lib/python3.6/site-packages (from ipython->fastai==0.7.0) (0.1.0)\n",
      "Requirement already satisfied: pexpect; sys_platform != \"win32\" in /Users/michaelschimpke/anaconda3/envs/fastai-cpu/lib/python3.6/site-packages (from ipython->fastai==0.7.0) (4.6.0)\n",
      "Requirement already satisfied: pyarrow>=0.4.0 in /Users/michaelschimpke/anaconda3/envs/fastai-cpu/lib/python3.6/site-packages (from feather-format->fastai==0.7.0) (0.12.0)\n",
      "Requirement already satisfied: requests in /Users/michaelschimpke/anaconda3/envs/fastai-cpu/lib/python3.6/site-packages (from torchtext->fastai==0.7.0) (2.21.0)\n",
      "Requirement already satisfied: scikit-learn>=0.15.0 in /Users/michaelschimpke/anaconda3/envs/fastai-cpu/lib/python3.6/site-packages (from sklearn-pandas->fastai==0.7.0) (0.20.2)\n",
      "Requirement already satisfied: nbformat>=4.2.0 in /Users/michaelschimpke/anaconda3/envs/fastai-cpu/lib/python3.6/site-packages (from ipywidgets->fastai==0.7.0) (4.4.0)\n",
      "Requirement already satisfied: patsy>=0.4.1 in /Users/michaelschimpke/anaconda3/envs/fastai-cpu/lib/python3.6/site-packages (from plotnine->fastai==0.7.0) (0.5.1)\n",
      "Requirement already satisfied: mizani>=0.5.2 in /Users/michaelschimpke/anaconda3/envs/fastai-cpu/lib/python3.6/site-packages (from plotnine->fastai==0.7.0) (0.5.3)\n",
      "Requirement already satisfied: descartes>=1.1.0 in /Users/michaelschimpke/anaconda3/envs/fastai-cpu/lib/python3.6/site-packages (from plotnine->fastai==0.7.0) (1.1.0)\n",
      "Requirement already satisfied: statsmodels>=0.8.0 in /Users/michaelschimpke/anaconda3/envs/fastai-cpu/lib/python3.6/site-packages (from plotnine->fastai==0.7.0) (0.9.0)\n",
      "Requirement already satisfied: Send2Trash in /Users/michaelschimpke/anaconda3/envs/fastai-cpu/lib/python3.6/site-packages (from notebook>=4.4.1->widgetsnbextension->fastai==0.7.0) (1.5.0)\n",
      "Requirement already satisfied: terminado>=0.8.1 in /Users/michaelschimpke/anaconda3/envs/fastai-cpu/lib/python3.6/site-packages (from notebook>=4.4.1->widgetsnbextension->fastai==0.7.0) (0.8.1)\n",
      "Requirement already satisfied: prometheus-client in /Users/michaelschimpke/anaconda3/envs/fastai-cpu/lib/python3.6/site-packages (from notebook>=4.4.1->widgetsnbextension->fastai==0.7.0) (0.5.0)\n",
      "Requirement already satisfied: jupyter-core>=4.4.0 in /Users/michaelschimpke/anaconda3/envs/fastai-cpu/lib/python3.6/site-packages (from notebook>=4.4.1->widgetsnbextension->fastai==0.7.0) (4.4.0)\n",
      "Requirement already satisfied: mistune>=0.8.1 in /Users/michaelschimpke/anaconda3/envs/fastai-cpu/lib/python3.6/site-packages (from nbconvert->jupyter->fastai==0.7.0) (0.8.4)\n",
      "Requirement already satisfied: pandocfilters>=1.4.1 in /Users/michaelschimpke/anaconda3/envs/fastai-cpu/lib/python3.6/site-packages (from nbconvert->jupyter->fastai==0.7.0) (1.4.2)\n",
      "Requirement already satisfied: defusedxml in /Users/michaelschimpke/anaconda3/envs/fastai-cpu/lib/python3.6/site-packages (from nbconvert->jupyter->fastai==0.7.0) (0.5.0)\n",
      "Requirement already satisfied: urllib3<1.25,>=1.21.1 in /Users/michaelschimpke/anaconda3/envs/fastai-cpu/lib/python3.6/site-packages (from requests->torchtext->fastai==0.7.0) (1.24.1)\n",
      "Requirement already satisfied: chardet<3.1.0,>=3.0.2 in /Users/michaelschimpke/anaconda3/envs/fastai-cpu/lib/python3.6/site-packages (from requests->torchtext->fastai==0.7.0) (3.0.4)\n",
      "Requirement already satisfied: idna<2.9,>=2.5 in /Users/michaelschimpke/anaconda3/envs/fastai-cpu/lib/python3.6/site-packages (from requests->torchtext->fastai==0.7.0) (2.8)\n",
      "Requirement already satisfied: palettable in /Users/michaelschimpke/anaconda3/envs/fastai-cpu/lib/python3.6/site-packages (from mizani>=0.5.2->plotnine->fastai==0.7.0) (3.1.1)\n",
      "Requirement already satisfied: torchtext==0.2.3 in /Users/michaelschimpke/anaconda3/envs/fastai-cpu/lib/python3.6/site-packages (0.2.3)\n",
      "Requirement already satisfied: requests in /Users/michaelschimpke/anaconda3/envs/fastai-cpu/lib/python3.6/site-packages (from torchtext==0.2.3) (2.21.0)\n",
      "Requirement already satisfied: tqdm in /Users/michaelschimpke/anaconda3/envs/fastai-cpu/lib/python3.6/site-packages (from torchtext==0.2.3) (4.29.1)\n",
      "Requirement already satisfied: urllib3<1.25,>=1.21.1 in /Users/michaelschimpke/anaconda3/envs/fastai-cpu/lib/python3.6/site-packages (from requests->torchtext==0.2.3) (1.24.1)\n",
      "Requirement already satisfied: certifi>=2017.4.17 in /Users/michaelschimpke/anaconda3/envs/fastai-cpu/lib/python3.6/site-packages (from requests->torchtext==0.2.3) (2018.11.29)\n",
      "Requirement already satisfied: chardet<3.1.0,>=3.0.2 in /Users/michaelschimpke/anaconda3/envs/fastai-cpu/lib/python3.6/site-packages (from requests->torchtext==0.2.3) (3.0.4)\n",
      "Requirement already satisfied: idna<2.9,>=2.5 in /Users/michaelschimpke/anaconda3/envs/fastai-cpu/lib/python3.6/site-packages (from requests->torchtext==0.2.3) (2.8)\n",
      "Requirement already satisfied: spacy in /Users/michaelschimpke/anaconda3/envs/fastai-cpu/lib/python3.6/site-packages (2.0.18)\n",
      "Requirement already satisfied: numpy>=1.15.0 in /Users/michaelschimpke/anaconda3/envs/fastai-cpu/lib/python3.6/site-packages (from spacy) (1.15.4)\n",
      "Requirement already satisfied: murmurhash<1.1.0,>=0.28.0 in /Users/michaelschimpke/anaconda3/envs/fastai-cpu/lib/python3.6/site-packages (from spacy) (1.0.1)\n",
      "Requirement already satisfied: cymem<2.1.0,>=2.0.2 in /Users/michaelschimpke/anaconda3/envs/fastai-cpu/lib/python3.6/site-packages (from spacy) (2.0.2)\n",
      "Requirement already satisfied: preshed<2.1.0,>=2.0.1 in /Users/michaelschimpke/anaconda3/envs/fastai-cpu/lib/python3.6/site-packages (from spacy) (2.0.1)\n",
      "Requirement already satisfied: thinc<6.13.0,>=6.12.1 in /Users/michaelschimpke/anaconda3/envs/fastai-cpu/lib/python3.6/site-packages (from spacy) (6.12.1)\n",
      "Requirement already satisfied: plac<1.0.0,>=0.9.6 in /Users/michaelschimpke/anaconda3/envs/fastai-cpu/lib/python3.6/site-packages (from spacy) (0.9.6)\n",
      "Requirement already satisfied: ujson>=1.35 in /Users/michaelschimpke/anaconda3/envs/fastai-cpu/lib/python3.6/site-packages (from spacy) (1.35)\n",
      "Requirement already satisfied: dill<0.3,>=0.2 in /Users/michaelschimpke/anaconda3/envs/fastai-cpu/lib/python3.6/site-packages (from spacy) (0.2.8.2)\n",
      "Requirement already satisfied: regex==2018.01.10 in /Users/michaelschimpke/anaconda3/envs/fastai-cpu/lib/python3.6/site-packages (from spacy) (2018.1.10)\n",
      "Requirement already satisfied: requests<3.0.0,>=2.13.0 in /Users/michaelschimpke/anaconda3/envs/fastai-cpu/lib/python3.6/site-packages (from spacy) (2.21.0)\n",
      "Requirement already satisfied: msgpack<0.6.0,>=0.5.6 in /Users/michaelschimpke/anaconda3/envs/fastai-cpu/lib/python3.6/site-packages (from thinc<6.13.0,>=6.12.1->spacy) (0.5.6)\n",
      "Requirement already satisfied: msgpack-numpy<0.4.4 in /Users/michaelschimpke/anaconda3/envs/fastai-cpu/lib/python3.6/site-packages (from thinc<6.13.0,>=6.12.1->spacy) (0.4.3.2)\n",
      "Requirement already satisfied: cytoolz<0.10,>=0.9.0 in /Users/michaelschimpke/anaconda3/envs/fastai-cpu/lib/python3.6/site-packages (from thinc<6.13.0,>=6.12.1->spacy) (0.9.0.1)\n",
      "Requirement already satisfied: wrapt<1.11.0,>=1.10.0 in /Users/michaelschimpke/anaconda3/envs/fastai-cpu/lib/python3.6/site-packages (from thinc<6.13.0,>=6.12.1->spacy) (1.10.11)\n",
      "Requirement already satisfied: tqdm<5.0.0,>=4.10.0 in /Users/michaelschimpke/anaconda3/envs/fastai-cpu/lib/python3.6/site-packages (from thinc<6.13.0,>=6.12.1->spacy) (4.29.1)\n",
      "Requirement already satisfied: six<2.0.0,>=1.10.0 in /Users/michaelschimpke/anaconda3/envs/fastai-cpu/lib/python3.6/site-packages (from thinc<6.13.0,>=6.12.1->spacy) (1.12.0)\n",
      "Requirement already satisfied: urllib3<1.25,>=1.21.1 in /Users/michaelschimpke/anaconda3/envs/fastai-cpu/lib/python3.6/site-packages (from requests<3.0.0,>=2.13.0->spacy) (1.24.1)\n",
      "Requirement already satisfied: chardet<3.1.0,>=3.0.2 in /Users/michaelschimpke/anaconda3/envs/fastai-cpu/lib/python3.6/site-packages (from requests<3.0.0,>=2.13.0->spacy) (3.0.4)\n",
      "Requirement already satisfied: idna<2.9,>=2.5 in /Users/michaelschimpke/anaconda3/envs/fastai-cpu/lib/python3.6/site-packages (from requests<3.0.0,>=2.13.0->spacy) (2.8)\n",
      "Requirement already satisfied: certifi>=2017.4.17 in /Users/michaelschimpke/anaconda3/envs/fastai-cpu/lib/python3.6/site-packages (from requests<3.0.0,>=2.13.0->spacy) (2018.11.29)\n",
      "Requirement already satisfied: toolz>=0.8.0 in /Users/michaelschimpke/anaconda3/envs/fastai-cpu/lib/python3.6/site-packages (from cytoolz<0.10,>=0.9.0->thinc<6.13.0,>=6.12.1->spacy) (0.9.0)\n"
     ]
    },
    {
     "name": "stdout",
     "output_type": "stream",
     "text": [
      "Requirement already satisfied: en_core_web_sm==2.0.0 from https://github.com/explosion/spacy-models/releases/download/en_core_web_sm-2.0.0/en_core_web_sm-2.0.0.tar.gz#egg=en_core_web_sm==2.0.0 in /Users/michaelschimpke/anaconda3/envs/fastai-cpu/lib/python3.6/site-packages (2.0.0)\n",
      "\n",
      "\u001b[93m    Linking successful\u001b[0m\n",
      "    /Users/michaelschimpke/anaconda3/envs/fastai-cpu/lib/python3.6/site-packages/en_core_web_sm\n",
      "    -->\n",
      "    /Users/michaelschimpke/anaconda3/envs/fastai-cpu/lib/python3.6/site-packages/spacy/data/en\n",
      "\n",
      "    You can now load the model via spacy.load('en')\n",
      "\n"
     ]
    }
   ],
   "source": [
    "import pandas as pd\n",
    "import numpy as np\n",
    "import torch\n",
    "!pip install fastai==0.7.0\n",
    "!pip install torchtext==0.2.3\n",
    "\n",
    "import fastai\n",
    "from fastai.imports import *\n",
    "from fastai.torch_imports import *\n",
    "from fastai.core import *\n",
    "from fastai.model import fit\n",
    "from fastai.dataset import *\n",
    "\n",
    "import torchtext\n",
    "from torchtext import vocab, data\n",
    "from torchtext.datasets import language_modeling\n",
    "\n",
    "from fastai.rnn_reg import *\n",
    "from fastai.rnn_train import *\n",
    "from fastai.nlp import *\n",
    "from fastai.lm_rnn import *\n",
    "from fastai.text import *\n",
    "\n",
    "import dill as pickle\n",
    "!pip install spacy\n",
    "!python -m spacy download en\n",
    "import spacy\n",
    "import html\n",
    "\n",
    "import pickle\n",
    "import collections\n",
    "import math"
   ]
  },
  {
   "cell_type": "code",
   "execution_count": 793,
   "metadata": {},
   "outputs": [
    {
     "name": "stderr",
     "output_type": "stream",
     "text": [
      "/Users/michaelschimpke/anaconda3/envs/fastai-cpu/lib/python3.6/site-packages/ipykernel_launcher.py:6: FutureWarning: Method .as_matrix will be removed in a future version. Use .values instead.\n",
      "  \n",
      "/Users/michaelschimpke/anaconda3/envs/fastai-cpu/lib/python3.6/site-packages/ipykernel_launcher.py:7: FutureWarning: Method .as_matrix will be removed in a future version. Use .values instead.\n",
      "  import sys\n"
     ]
    }
   ],
   "source": [
    "text = 'Hello what is your'\n",
    "labels = 0\n",
    "text = pd.Series(text)\n",
    "labels = pd.Series(labels)\n",
    "\n",
    "text = pd.Series.as_matrix(text)\n",
    "labels = pd.Series.as_matrix(labels)\n",
    "\n",
    "colNames = ['labels','text']\n",
    "textdf = pd.DataFrame({'text':text, 'labels':labels}, columns = colNames)\n",
    "textdf.to_csv('Test_lm/text.csv', header=False, index=False)"
   ]
  },
  {
   "cell_type": "code",
   "execution_count": 794,
   "metadata": {},
   "outputs": [],
   "source": [
    "re1 = re.compile(r'  +')\n",
    "\n",
    "# cleaning function\n",
    "def cleaning(x):\n",
    "   x = x.replace('#', '').replace('&amp;', '&')\n",
    "   #return re1.sub(' ', html.unescape(x))\n",
    "   return re1.sub(' ', re.sub('https?://[A-Za-z0-9./]+', '',html.unescape(x)))\n",
    "\n",
    "\n",
    "# tokenizer function\n",
    "def get_texts(df, n_lbls=1):\n",
    "    labels = np.unique(df.iloc[:,range(n_lbls)].values, return_inverse=True)[n_lbls]\n",
    "    texts = f'\\n{BOS} ' + df[n_lbls].astype(str)\n",
    "    for i in range(n_lbls+1, len(df.columns)): \n",
    "        texts += df[i].astype(str)\n",
    "    texts = texts.apply(cleaning).values.astype(str)\n",
    "    tok = Tokenizer().proc_all_mp(partition_by_cores(texts))\n",
    "    return tok, list(labels)\n",
    "\n",
    "# iterator function\n",
    "def get_all(df, n_lbls):\n",
    "    tok, labels = [], []\n",
    "    for i, r in enumerate(df):\n",
    "        print(i)\n",
    "        tok_, labels_ = get_texts(r, n_lbls)\n",
    "        tok += tok_;\n",
    "        labels += labels_\n",
    "    return tok, labels"
   ]
  },
  {
   "cell_type": "code",
   "execution_count": 795,
   "metadata": {},
   "outputs": [
    {
     "name": "stdout",
     "output_type": "stream",
     "text": [
      "0\n",
      "[['\\n', 'xbos', 'hello', 'what', 'is', 'your']]\n"
     ]
    }
   ],
   "source": [
    "chunksize = 1\n",
    "BOS = 'xbos'\n",
    "textdf = pd.read_csv('Test_lm/text.csv', header=None, chunksize=chunksize)\n",
    "\n",
    "tok_text = get_all(textdf,1)\n",
    "tok = (tok_text[0])\n",
    "print(tok)"
   ]
  },
  {
   "cell_type": "code",
   "execution_count": 7,
   "metadata": {},
   "outputs": [
    {
     "data": {
      "text/plain": [
       "[('_unk_', 0),\n",
       " ('_pad_', 1),\n",
       " ('\\n', 2),\n",
       " ('xbos', 3),\n",
       " ('.', 4),\n",
       " ('to', 5),\n",
       " ('i', 6),\n",
       " ('the', 7),\n",
       " ('t_up', 8),\n",
       " ('!', 9)]"
      ]
     },
     "execution_count": 7,
     "metadata": {},
     "output_type": "execute_result"
    }
   ],
   "source": [
    "with open('lm/itos.pkl', 'rb') as pickle_file:\n",
    "    itos = pickle.load(pickle_file)\n",
    "\n",
    "stoi = collections.defaultdict(lambda:0, \n",
    "                               {v:k for k,v in enumerate(itos)})\n",
    "\n",
    "list(stoi.items())[0:10]"
   ]
  },
  {
   "cell_type": "code",
   "execution_count": 796,
   "metadata": {},
   "outputs": [
    {
     "name": "stdout",
     "output_type": "stream",
     "text": [
      "[2, 3, 874, 61, 22, 31]\n"
     ]
    }
   ],
   "source": [
    "textLm = [[stoi[o] for o in p] for p in tok]\n",
    "textLm = textLm[0]\n",
    "print(textLm)"
   ]
  },
  {
   "cell_type": "code",
   "execution_count": 797,
   "metadata": {},
   "outputs": [
    {
     "name": "stdout",
     "output_type": "stream",
     "text": [
      "[[0. 0. 1. 0. ... 0. 0. 0. 0.]\n",
      " [0. 0. 0. 1. ... 0. 0. 0. 0.]\n",
      " [0. 0. 0. 0. ... 0. 0. 0. 0.]\n",
      " [0. 0. 0. 0. ... 0. 0. 0. 0.]\n",
      " [0. 0. 0. 0. ... 0. 0. 0. 0.]\n",
      " [0. 0. 0. 0. ... 0. 0. 0. 0.]]\n"
     ]
    },
    {
     "data": {
      "text/plain": [
       "(6, 4409)"
      ]
     },
     "execution_count": 797,
     "metadata": {},
     "output_type": "execute_result"
    }
   ],
   "source": [
    "def oneHot(sequences, dimension=len(itos)):\n",
    "      results = np.zeros((len(sequences), dimension))\n",
    "      for i, sequence in enumerate(sequences):\n",
    "        results[i, sequence] = 1\n",
    "      return results\n",
    "\n",
    "onehot = oneHot(textLm)\n",
    "one = np.array([onehot])\n",
    "\n",
    "np.set_printoptions(edgeitems=4)\n",
    "print(one[0])\n",
    "onehot.shape"
   ]
  },
  {
   "cell_type": "code",
   "execution_count": 798,
   "metadata": {},
   "outputs": [
    {
     "name": "stdout",
     "output_type": "stream",
     "text": [
      "[[-0.37896 -0.37842 -0.19198  0.09403 ... -0.21748  0.04106  0.24902  0.09481]\n",
      " [-0.11337 -0.29701 -0.09582  0.09519 ...  0.00417 -0.00866  1.10079 -0.14191]\n",
      " [-0.16737 -0.44848 -0.04136  0.17024 ... -0.02828  0.05867  0.33854  0.18265]\n",
      " [ 0.04131  0.61636 -0.12456  0.37107 ...  0.05903  0.04707  0.64659  0.08474]\n",
      " [-0.1449   0.9734  -0.10638 -0.1773  ...  0.01902 -0.06392 -0.54776  0.10417]\n",
      " [-0.23652 -0.98352 -0.09888 -0.09476 ...  0.17836 -0.10366  0.97914  0.2162 ]]\n"
     ]
    },
    {
     "data": {
      "text/plain": [
       "(6, 400)"
      ]
     },
     "execution_count": 798,
     "metadata": {},
     "output_type": "execute_result"
    }
   ],
   "source": [
    "lm_wgts_unfr = torch.load('models/lm2.h5', map_location=lambda storage, \n",
    "                  loc: storage)\n",
    "\n",
    "embed = np.matmul(one[0], lm_wgts_unfr['0.encoder.weight'])\n",
    "print(embed)\n",
    "embed.shape"
   ]
  },
  {
   "cell_type": "markdown",
   "metadata": {},
   "source": [
    "## LSTM Tryout"
   ]
  },
  {
   "cell_type": "code",
   "execution_count": 15,
   "metadata": {},
   "outputs": [
    {
     "data": {
      "text/plain": [
       "numpy.ndarray"
      ]
     },
     "execution_count": 15,
     "metadata": {},
     "output_type": "execute_result"
    }
   ],
   "source": [
    "type(embed)"
   ]
  },
  {
   "cell_type": "code",
   "execution_count": 468,
   "metadata": {},
   "outputs": [],
   "source": [
    "def sigmoid(x):\n",
    "    return 1 / (1 + np.exp(-x))\n",
    "\n",
    "def LSTM (input, model, nh, stage):\n",
    "    #input weights and bias\n",
    "    wii = np.matrix(model['0.rnns.'+stage+'.module.weight_ih_l0'][:nh].numpy())\n",
    "    wif = np.matrix(model['0.rnns.'+stage+'.module.weight_ih_l0'][nh:2*nh].numpy())\n",
    "    wig = np.matrix(model['0.rnns.'+stage+'.module.weight_ih_l0'][2*nh:3*nh].numpy())\n",
    "    wio = np.matrix(model['0.rnns.'+stage+'.module.weight_ih_l0'][3*nh:4*nh].numpy())\n",
    "    \n",
    "    bii = np.matrix(model['0.rnns.'+stage+'.module.bias_ih_l0'][:nh].numpy())\n",
    "    bif = np.matrix(model['0.rnns.'+stage+'.module.bias_ih_l0'][nh:2*nh].numpy())\n",
    "    big = np.matrix(model['0.rnns.'+stage+'.module.bias_ih_l0'][2*nh:3*nh].numpy())\n",
    "    bio = np.matrix(model['0.rnns.'+stage+'.module.bias_ih_l0'][3*nh:4*nh].numpy())\n",
    "    #output weights and bias\n",
    "    whi = np.matrix(model['0.rnns.'+stage+'.module.weight_hh_l0_raw'][:nh].numpy())\n",
    "    whf = np.matrix(model['0.rnns.'+stage+'.module.weight_hh_l0_raw'][nh:2*nh].numpy())\n",
    "    whg = np.matrix(model['0.rnns.'+stage+'.module.weight_hh_l0_raw'][2*nh:3*nh].numpy())\n",
    "    who = np.matrix(model['0.rnns.'+stage+'.module.weight_hh_l0_raw'][3*nh:4*nh].numpy())\n",
    "    \n",
    "    bhi = np.matrix(model['0.rnns.'+stage+'.module.bias_hh_l0'][:nh].numpy())\n",
    "    bhf = np.matrix(model['0.rnns.'+stage+'.module.bias_hh_l0'][nh:2*nh].numpy())\n",
    "    bhg = np.matrix(model['0.rnns.'+stage+'.module.bias_hh_l0'][2*nh:3*nh].numpy())\n",
    "    bho = np.matrix(model['0.rnns.'+stage+'.module.bias_hh_l0'][3*nh:4*nh].numpy())\n",
    "    \n",
    "    ht = np.zeros(nh)\n",
    "    ct = np.zeros(nh)\n",
    "    hidden_matrix = np.empty((0,nh))\n",
    "    \n",
    "    for t,v in enumerate(input):\n",
    "        it = sigmoid(np.matmul(wii,input[t]) + bii + np.matmul(ht,whi) + bhi)\n",
    "        ft = sigmoid(np.matmul(wif,input[t]) + bif + np.matmul(ht,whf) + bhf)\n",
    "        gt = np.tanh(np.matmul(wig,input[t]) + big + np.matmul(ht,whg) + bhg)\n",
    "        ot = sigmoid(np.matmul(wio,input[t]) + bio + np.matmul(ht,who) + bho)\n",
    "        ct = np.multiply(ft,ct) + np.multiply(it,gt)\n",
    "        ht = np.multiply(ot,np.tanh(ct))\n",
    "        hidden_matrix = np.append(hidden_matrix, ht, axis=0)\n",
    "    \n",
    "    hidden_state = np.array(hidden_matrix)\n",
    "    return hidden_state"
   ]
  },
  {
   "cell_type": "code",
   "execution_count": 467,
   "metadata": {},
   "outputs": [
    {
     "ename": "ValueError",
     "evalue": "result of slicing is an empty tensor",
     "output_type": "error",
     "traceback": [
      "\u001b[0;31m---------------------------------------------------------------------------\u001b[0m",
      "\u001b[0;31mValueError\u001b[0m                                Traceback (most recent call last)",
      "\u001b[0;32m<ipython-input-467-18cd99019636>\u001b[0m in \u001b[0;36m<module>\u001b[0;34m\u001b[0m\n\u001b[0;32m----> 1\u001b[0;31m \u001b[0mnp\u001b[0m\u001b[0;34m.\u001b[0m\u001b[0mmatrix\u001b[0m\u001b[0;34m(\u001b[0m\u001b[0mlm_wgts_unfr\u001b[0m\u001b[0;34m[\u001b[0m\u001b[0;34m'0.rnns.0.module.weight_hh_l0_raw'\u001b[0m\u001b[0;34m]\u001b[0m\u001b[0;34m[\u001b[0m\u001b[0;34m:\u001b[0m\u001b[0mnh\u001b[0m\u001b[0;34m,\u001b[0m \u001b[0mnh\u001b[0m\u001b[0;34m:\u001b[0m\u001b[0;36m2\u001b[0m\u001b[0;34m*\u001b[0m\u001b[0mnh\u001b[0m\u001b[0;34m]\u001b[0m\u001b[0;34m.\u001b[0m\u001b[0mnumpy\u001b[0m\u001b[0;34m(\u001b[0m\u001b[0;34m)\u001b[0m\u001b[0;34m)\u001b[0m\u001b[0;34m\u001b[0m\u001b[0;34m\u001b[0m\u001b[0m\n\u001b[0m",
      "\u001b[0;31mValueError\u001b[0m: result of slicing is an empty tensor"
     ]
    }
   ],
   "source": [
    "np.matrix(lm_wgts_unfr['0.rnns.0.module.weight_hh_l0_raw'][:nh, nh:2*nh].numpy())"
   ]
  },
  {
   "cell_type": "code",
   "execution_count": 799,
   "metadata": {
    "scrolled": true
   },
   "outputs": [],
   "source": [
    "alpha = LSTM(embed, lm_wgts_unfr, 1150, stage = '0')\n",
    "beta = LSTM(alpha, lm_wgts_unfr, 1150, stage = '1')\n",
    "gamma = LSTM(beta, lm_wgts_unfr, 400, stage = '2')"
   ]
  },
  {
   "cell_type": "code",
   "execution_count": 800,
   "metadata": {},
   "outputs": [
    {
     "name": "stdout",
     "output_type": "stream",
     "text": [
      "[[-0.15425  0.00635  0.06167  0.00478 ...  0.00305  0.12759 -0.05522  0.03215]\n",
      " [ 0.10493 -0.01119  0.06614  0.42933 ...  0.01206  0.6021  -0.17489  0.07547]\n",
      " [-0.21283  0.04279 -0.09859  0.10598 ...  0.00062  0.5574  -0.0191   0.01187]\n",
      " [-0.02336  0.04026 -0.02976  0.01746 ... -0.32244  0.02244 -0.0061  -0.05338]\n",
      " [-0.00781  0.0301   0.28934 -0.02776 ...  0.00196 -0.00132 -0.01145  0.00249]\n",
      " [-0.01336  0.2432  -0.05934  0.04848 ... -0.18229  0.04554  0.00846  0.07499]]\n"
     ]
    },
    {
     "data": {
      "text/plain": [
       "(6, 1150)"
      ]
     },
     "execution_count": 800,
     "metadata": {},
     "output_type": "execute_result"
    }
   ],
   "source": [
    "print(alpha)\n",
    "alpha.shape"
   ]
  },
  {
   "cell_type": "code",
   "execution_count": 801,
   "metadata": {},
   "outputs": [
    {
     "name": "stdout",
     "output_type": "stream",
     "text": [
      "[[ 0.0062   0.00442 -0.11493 -0.01229 ...  0.04158 -0.00033 -0.0592  -0.00177]\n",
      " [ 0.00318  0.00068 -0.07347  0.00099 ...  0.01347  0.01952 -0.20328 -0.01462]\n",
      " [ 0.01166  0.00504 -0.08449 -0.00989 ... -0.00054  0.05532 -0.0907  -0.00557]\n",
      " [ 0.35734  0.01474 -0.01913 -0.02387 ...  0.00054  0.06855 -0.44543 -0.00195]\n",
      " [ 0.234   -0.03623 -0.00133 -0.00509 ... -0.00262  0.2074  -0.0772  -0.00466]\n",
      " [ 0.0707   0.00277  0.02339 -0.00714 ... -0.06681  0.10778 -0.13495 -0.02039]]\n"
     ]
    },
    {
     "data": {
      "text/plain": [
       "(6, 1150)"
      ]
     },
     "execution_count": 801,
     "metadata": {},
     "output_type": "execute_result"
    }
   ],
   "source": [
    "print(beta)\n",
    "beta.shape"
   ]
  },
  {
   "cell_type": "code",
   "execution_count": 802,
   "metadata": {},
   "outputs": [
    {
     "name": "stdout",
     "output_type": "stream",
     "text": [
      "[[-0.07604  0.21237 -0.61837 -0.01263 ... -0.00011 -0.09578  0.14449  0.0666 ]\n",
      " [-0.29052  0.44175 -0.76797 -0.11513 ...  0.05797 -0.33318  0.06172 -0.18974]\n",
      " [-0.21353  0.20345 -0.68511 -0.02195 ... -0.17163 -0.35223 -0.06984  0.06681]\n",
      " [-0.04537  0.22954 -0.61536 -0.01184 ... -0.09889 -0.41603 -0.06546  0.23309]\n",
      " [ 0.0198   0.17629 -0.66869 -0.01044 ... -0.17377 -0.13723  0.04795  0.37522]\n",
      " [-0.14241 -0.039   -0.51813 -0.14967 ... -0.51524 -0.31871  0.08614  0.00981]]\n"
     ]
    },
    {
     "data": {
      "text/plain": [
       "(6, 400)"
      ]
     },
     "execution_count": 802,
     "metadata": {},
     "output_type": "execute_result"
    }
   ],
   "source": [
    "print(gamma)\n",
    "gamma.shape"
   ]
  },
  {
   "cell_type": "code",
   "execution_count": 803,
   "metadata": {},
   "outputs": [],
   "source": [
    "def softmax(x):\n",
    "    e_x = np.exp(x - np.max(x))\n",
    "    return e_x / e_x.sum()\n",
    "\n",
    "prediction = np.matmul(gamma[5], np.transpose(lm_wgts_unfr['1.decoder.weight']))\n",
    "pred = softmax(prediction)"
   ]
  },
  {
   "cell_type": "code",
   "execution_count": 618,
   "metadata": {},
   "outputs": [
    {
     "name": "stdout",
     "output_type": "stream",
     "text": [
      "[0. 0. 0. 0. 0. 0. 0. 0. 0.]\n"
     ]
    }
   ],
   "source": [
    "print(pred[4400:4413])"
   ]
  },
  {
   "cell_type": "code",
   "execution_count": 603,
   "metadata": {},
   "outputs": [
    {
     "data": {
      "text/plain": [
       "(array([55]),)"
      ]
     },
     "execution_count": 603,
     "metadata": {},
     "output_type": "execute_result"
    }
   ],
   "source": [
    "np.where(pred==max(pred))\n",
    "#max(pred)"
   ]
  },
  {
   "cell_type": "code",
   "execution_count": 805,
   "metadata": {},
   "outputs": [
    {
     "name": "stdout",
     "output_type": "stream",
     "text": [
      "[329 230 472 454 274 118   0  55 385 228 316 325 437  34  52  66 481 791 162]\n"
     ]
    }
   ],
   "source": [
    "pred_tok = pred.argsort()[-19:][::-1]\n",
    "pred_prob = pred[pred_tok]\n",
    "print(pred_tok)"
   ]
  },
  {
   "cell_type": "code",
   "execution_count": 804,
   "metadata": {},
   "outputs": [
    {
     "name": "stdout",
     "output_type": "stream",
     "text": [
      "[145   7 149 512 221 139   0 306 192 313  34 235  50 467 890  70 375  92 316]\n"
     ]
    }
   ],
   "source": [
    "print(pred_tok)"
   ]
  },
  {
   "cell_type": "markdown",
   "metadata": {},
   "source": [
    "### Prediction"
   ]
  },
  {
   "cell_type": "code",
   "execution_count": 806,
   "metadata": {},
   "outputs": [
    {
     "name": "stdout",
     "output_type": "stream",
     "text": [
      "         word  probability\n",
      "329      team     0.037297\n",
      "230      best     0.025882\n",
      "472    policy     0.022328\n",
      "454   company     0.021925\n",
      "274   website     0.016830\n",
      "118   airline     0.014698\n",
      "0       _unk_     0.013337\n",
      "55          \"     0.012549\n",
      "385      site     0.012248\n",
      "228     staff     0.011937\n",
      "316   awesome     0.010509\n",
      "325  business     0.009440\n",
      "437      show     0.009026\n",
      "34        not     0.008619\n",
      "52    service     0.008091\n",
      "66   customer     0.007573\n",
      "481   account     0.007449\n",
      "791      kind     0.007408\n",
      "162       new     0.007303\n"
     ]
    }
   ],
   "source": [
    "vs = 4409\n",
    "stoi_df = pd.DataFrame(list(stoi.keys())[:vs], list(stoi.values())[:vs], columns = ['word'])\n",
    "stoi_df['probability'] = list(pred)\n",
    "print(stoi_df.iloc[pred_tok])"
   ]
  },
  {
   "cell_type": "markdown",
   "metadata": {},
   "source": [
    "### Alternativer Weg"
   ]
  },
  {
   "cell_type": "code",
   "execution_count": 780,
   "metadata": {},
   "outputs": [
    {
     "name": "stdout",
     "output_type": "stream",
     "text": [
      "           0      prob\n",
      "0                     \n",
      "7        the  0.534758\n",
      "11         a  0.092828\n",
      "8       t_up  0.055385\n",
      "42         -  0.054523\n",
      "19        my  0.050886\n",
      "15    flight  0.026186\n",
      "31      your  0.016935\n",
      "40      this  0.013233\n",
      "0      _unk_  0.013048\n",
      "69       all  0.009171\n",
      "165  another  0.007184\n",
      "54        an  0.006042\n",
      "90       one  0.005903\n",
      "504     both  0.005573\n",
      "60         2  0.005407\n",
      "30      that  0.004406\n",
      "55         \"  0.004212\n",
      "346    board  0.003879\n",
      "74      hold  0.003347\n"
     ]
    }
   ],
   "source": [
    "stoi_df = pd.DataFrame(stoi, index = stoi.values())\n",
    "stoi_df = pd.DataFrame(stoi_df.columns[:vs], stoi_df.iloc[0][:vs])\n",
    "stoi_df['prob'] = np.array(pred)\n",
    "print(stoi_df.iloc[pred_tok])"
   ]
  },
  {
   "cell_type": "markdown",
   "metadata": {},
   "source": [
    "# Schneller Durchlauf der Prediction\n",
    "\n",
    "Dafür muss allerdings der Hauptcode schon ausgeführt worden sein"
   ]
  },
  {
   "cell_type": "code",
   "execution_count": 762,
   "metadata": {},
   "outputs": [
    {
     "name": "stderr",
     "output_type": "stream",
     "text": [
      "/Users/michaelschimpke/anaconda3/envs/fastai-cpu/lib/python3.6/site-packages/ipykernel_launcher.py:7: FutureWarning: Method .as_matrix will be removed in a future version. Use .values instead.\n",
      "  import sys\n",
      "/Users/michaelschimpke/anaconda3/envs/fastai-cpu/lib/python3.6/site-packages/ipykernel_launcher.py:8: FutureWarning: Method .as_matrix will be removed in a future version. Use .values instead.\n",
      "  \n"
     ]
    }
   ],
   "source": [
    "#Preparation\n",
    "text = 'my flight was on'\n",
    "labels = 0\n",
    "text = pd.Series(text)\n",
    "labels = pd.Series(labels)\n",
    "\n",
    "text = pd.Series.as_matrix(text)\n",
    "labels = pd.Series.as_matrix(labels)\n",
    "\n",
    "colNames = ['labels','text']\n",
    "textdf = pd.DataFrame({'text':text, 'labels':labels}, columns = colNames)\n",
    "textdf.to_csv('Test_lm/text.csv', header=False, index=False)"
   ]
  },
  {
   "cell_type": "code",
   "execution_count": 763,
   "metadata": {},
   "outputs": [],
   "source": [
    "chunksize = 1\n",
    "BOS = 'xbos'\n",
    "textdf = pd.read_csv('Test_lm/text.csv', header=None, chunksize=chunksize)\n",
    "\n",
    "#Tokenizer\n",
    "tok_text = get_all(textdf,1)\n",
    "tok = (tok_text[0])\n",
    "\n",
    "textLm = [[stoi[o] for o in p] for p in tok]\n",
    "textLm = textLm[0]\n",
    "\n",
    "#One-Hot Encoding und Embedding Layer\n",
    "onehot = oneHot(textLm)\n",
    "one = np.array([onehot])\n",
    "embed = np.matmul(one[0], lm_wgts_unfr['0.encoder.weight'])\n",
    "\n",
    "#LSTMs mit Hidden States\n",
    "alpha = LSTM(embed, lm_wgts_unfr, 1150, stage = '0')\n",
    "beta = LSTM(alpha, lm_wgts_unfr, 1150, stage = '1')\n",
    "gamma = LSTM(beta, lm_wgts_unfr, 400, stage = '2')"
   ]
  },
  {
   "cell_type": "code",
   "execution_count": 764,
   "metadata": {},
   "outputs": [],
   "source": [
    "#Softmax Layer\n",
    "prediction = np.matmul(gamma[-1], np.transpose(lm_wgts_unfr['1.decoder.weight']))\n",
    "pred = softmax(prediction)"
   ]
  },
  {
   "cell_type": "code",
   "execution_count": 754,
   "metadata": {},
   "outputs": [
    {
     "name": "stdout",
     "output_type": "stream",
     "text": [
      "        word  probability\n",
      "13         ,     0.031965\n",
      "4          .     0.041592\n",
      "38        at     0.000056\n",
      "18       and     0.004235\n",
      "9          !     0.162758\n",
      "23        in     0.000078\n",
      "14       for     0.000424\n",
      "6          i     0.003539\n",
      "19        my     0.011067\n",
      "35      with     0.000172\n",
      "286    night     0.000010\n",
      "15    flight     0.005140\n",
      "17        on     0.000064\n",
      "57       ...     0.017402\n",
      "7        the     0.002102\n",
      "251  morning     0.000070\n",
      "123        (     0.000170\n",
      "42         -     0.000765\n",
      "44       but     0.004279\n"
     ]
    }
   ],
   "source": [
    "#Prediction\n",
    "pred_tok = pred.argsort()[-19:][::-1]\n",
    "print(stoi_df.iloc[pred_tok])"
   ]
  },
  {
   "cell_type": "code",
   "execution_count": 702,
   "metadata": {},
   "outputs": [
    {
     "data": {
      "text/plain": [
       "array([[0., 0., 1., 0., ..., 0., 0., 0., 0.],\n",
       "       [0., 0., 0., 1., ..., 0., 0., 0., 0.],\n",
       "       [0., 0., 0., 0., ..., 0., 0., 0., 0.]])"
      ]
     },
     "execution_count": 702,
     "metadata": {},
     "output_type": "execute_result"
    }
   ],
   "source": [
    "onehot"
   ]
  },
  {
   "cell_type": "code",
   "execution_count": 743,
   "metadata": {},
   "outputs": [
    {
     "name": "stdout",
     "output_type": "stream",
     "text": [
      "None\n"
     ]
    }
   ],
   "source": [
    "print(pred_tok.sort(axis=0))"
   ]
  },
  {
   "cell_type": "code",
   "execution_count": null,
   "metadata": {},
   "outputs": [],
   "source": []
  },
  {
   "cell_type": "markdown",
   "metadata": {},
   "source": [
    "# Test- und Probierzeilen"
   ]
  },
  {
   "cell_type": "code",
   "execution_count": 199,
   "metadata": {
    "scrolled": true
   },
   "outputs": [
    {
     "data": {
      "text/plain": [
       "torch.Size([1150, 400])"
      ]
     },
     "execution_count": 199,
     "metadata": {},
     "output_type": "execute_result"
    }
   ],
   "source": [
    "nh = 1150\n",
    "ht = np.zeros(nh)\n",
    "lm_wgts_unfr['0.rnns.0.module.weight_ih_l0'][nh:2*nh].size()"
   ]
  },
  {
   "cell_type": "code",
   "execution_count": 296,
   "metadata": {},
   "outputs": [
    {
     "data": {
      "text/plain": [
       "(1, 1150)"
      ]
     },
     "execution_count": 296,
     "metadata": {},
     "output_type": "execute_result"
    }
   ],
   "source": [
    "a = np.matrix(lm_wgts_unfr['0.rnns.0.module.weight_hh_l0_raw'][:nh].numpy())\n",
    "b = np.zeros(nh)\n",
    "c = sigmoid(np.matmul(a,b))\n",
    "c.shape"
   ]
  },
  {
   "cell_type": "code",
   "execution_count": 269,
   "metadata": {},
   "outputs": [
    {
     "data": {
      "text/plain": [
       "matrix([[ 0.3324 , -3.77108, -0.25524, -4.84101, ..., -1.42723, -4.43494, -2.45823, -3.24682]])"
      ]
     },
     "execution_count": 269,
     "metadata": {},
     "output_type": "execute_result"
    }
   ],
   "source": [
    "b = np.matmul(a, embed[0])\n",
    "b.shape\n",
    "c = np.add(b,lm_wgts_unfr['0.rnns.0.module.bias_ih_l0'][nh:2*nh])\n",
    "c"
   ]
  },
  {
   "cell_type": "code",
   "execution_count": 184,
   "metadata": {
    "scrolled": true
   },
   "outputs": [
    {
     "data": {
      "text/plain": [
       "array([ 0.68714, -3.42605,  0.19375, -4.35618, ..., -1.10531, -3.83029, -2.00408, -2.96782])"
      ]
     },
     "execution_count": 184,
     "metadata": {},
     "output_type": "execute_result"
    }
   ],
   "source": [
    "np.matmul(lm_wgts_unfr['0.rnns.0.module.weight_ih_l0'][:1150],embed[0])"
   ]
  },
  {
   "cell_type": "code",
   "execution_count": 185,
   "metadata": {},
   "outputs": [
    {
     "data": {
      "text/plain": [
       "array([ 2.0036 , -0.51683,  1.0608 ,  1.59737, ..., -0.00028, -0.4793 ,  0.06419, -0.0609 ])"
      ]
     },
     "execution_count": 185,
     "metadata": {},
     "output_type": "execute_result"
    }
   ],
   "source": [
    "embed[1].shape\n",
    "test1 = np.matmul(lm_wgts_unfr['0.rnns.0.module.weight_ih_l0'][:1150],embed[1])\n",
    "test1"
   ]
  },
  {
   "cell_type": "code",
   "execution_count": 186,
   "metadata": {},
   "outputs": [
    {
     "data": {
      "text/plain": [
       "array([ 2.0036 , -0.51683,  1.0608 ,  1.59737, ..., -0.00028, -0.4793 ,  0.06419, -0.0609 ])"
      ]
     },
     "execution_count": 186,
     "metadata": {},
     "output_type": "execute_result"
    }
   ],
   "source": [
    "test2 = np.matmul(lm_wgts_unfr['0.rnns.0.module.weight_ih_l0'][:1150],embed[1])\n",
    "test2"
   ]
  },
  {
   "cell_type": "code",
   "execution_count": 187,
   "metadata": {},
   "outputs": [
    {
     "data": {
      "text/plain": [
       "array([4.01441, 0.26712, 1.12531, 2.55158, ..., 0.     , 0.22973, 0.00412, 0.00371])"
      ]
     },
     "execution_count": 187,
     "metadata": {},
     "output_type": "execute_result"
    }
   ],
   "source": [
    "np.multiply(test1, test2)"
   ]
  },
  {
   "cell_type": "code",
   "execution_count": 99,
   "metadata": {},
   "outputs": [
    {
     "ename": "TypeError",
     "evalue": "mul received an invalid combination of arguments - got (numpy.ndarray), but expected one of:\n * (float value)\n      didn't match because some of the arguments have invalid types: (\u001b[31;1mnumpy.ndarray\u001b[0m)\n * (torch.FloatTensor other)\n      didn't match because some of the arguments have invalid types: (\u001b[31;1mnumpy.ndarray\u001b[0m)\n",
     "output_type": "error",
     "traceback": [
      "\u001b[0;31m---------------------------------------------------------------------------\u001b[0m",
      "\u001b[0;31mTypeError\u001b[0m                                 Traceback (most recent call last)",
      "\u001b[0;32m<ipython-input-99-375bedc23ec3>\u001b[0m in \u001b[0;36m<module>\u001b[0;34m\u001b[0m\n\u001b[0;32m----> 1\u001b[0;31m \u001b[0mtest3\u001b[0m \u001b[0;34m=\u001b[0m \u001b[0mlm_wgts_unfr\u001b[0m\u001b[0;34m[\u001b[0m\u001b[0;34m'0.rnns.0.module.weight_ih_l0'\u001b[0m\u001b[0;34m]\u001b[0m\u001b[0;34m[\u001b[0m\u001b[0;34m:\u001b[0m\u001b[0;36m1150\u001b[0m\u001b[0;34m]\u001b[0m\u001b[0;34m*\u001b[0m\u001b[0membed\u001b[0m\u001b[0;34m[\u001b[0m\u001b[0;36m0\u001b[0m\u001b[0;34m]\u001b[0m\u001b[0;34m\u001b[0m\u001b[0;34m\u001b[0m\u001b[0m\n\u001b[0m\u001b[1;32m      2\u001b[0m \u001b[0mprint\u001b[0m\u001b[0;34m(\u001b[0m\u001b[0mtest3\u001b[0m\u001b[0;34m)\u001b[0m\u001b[0;34m\u001b[0m\u001b[0;34m\u001b[0m\u001b[0m\n",
      "\u001b[0;32m~/anaconda3/envs/fastai-cpu/lib/python3.6/site-packages/torch/tensor.py\u001b[0m in \u001b[0;36m__mul__\u001b[0;34m(self, other)\u001b[0m\n\u001b[1;32m    319\u001b[0m \u001b[0;34m\u001b[0m\u001b[0m\n\u001b[1;32m    320\u001b[0m     \u001b[0;32mdef\u001b[0m \u001b[0m__mul__\u001b[0m\u001b[0;34m(\u001b[0m\u001b[0mself\u001b[0m\u001b[0;34m,\u001b[0m \u001b[0mother\u001b[0m\u001b[0;34m)\u001b[0m\u001b[0;34m:\u001b[0m\u001b[0;34m\u001b[0m\u001b[0;34m\u001b[0m\u001b[0m\n\u001b[0;32m--> 321\u001b[0;31m         \u001b[0;32mreturn\u001b[0m \u001b[0mself\u001b[0m\u001b[0;34m.\u001b[0m\u001b[0mmul\u001b[0m\u001b[0;34m(\u001b[0m\u001b[0mother\u001b[0m\u001b[0;34m)\u001b[0m\u001b[0;34m\u001b[0m\u001b[0;34m\u001b[0m\u001b[0m\n\u001b[0m\u001b[1;32m    322\u001b[0m     \u001b[0m__rmul__\u001b[0m \u001b[0;34m=\u001b[0m \u001b[0m__mul__\u001b[0m\u001b[0;34m\u001b[0m\u001b[0;34m\u001b[0m\u001b[0m\n\u001b[1;32m    323\u001b[0m \u001b[0;34m\u001b[0m\u001b[0m\n",
      "\u001b[0;31mTypeError\u001b[0m: mul received an invalid combination of arguments - got (numpy.ndarray), but expected one of:\n * (float value)\n      didn't match because some of the arguments have invalid types: (\u001b[31;1mnumpy.ndarray\u001b[0m)\n * (torch.FloatTensor other)\n      didn't match because some of the arguments have invalid types: (\u001b[31;1mnumpy.ndarray\u001b[0m)\n"
     ]
    }
   ],
   "source": [
    "test3 = lm_wgts_unfr['0.rnns.0.module.weight_ih_l0'][:1150]*embed[0]\n",
    "print(test3)"
   ]
  },
  {
   "cell_type": "code",
   "execution_count": 306,
   "metadata": {},
   "outputs": [
    {
     "name": "stdout",
     "output_type": "stream",
     "text": [
      "0\n",
      "1\n",
      "2\n",
      "3\n",
      "4\n",
      "5\n"
     ]
    }
   ],
   "source": [
    "for t,values in enumerate(embed):\n",
    "       print(t)"
   ]
  },
  {
   "cell_type": "code",
   "execution_count": 319,
   "metadata": {},
   "outputs": [
    {
     "data": {
      "text/plain": [
       "(1, 1150)"
      ]
     },
     "execution_count": 319,
     "metadata": {},
     "output_type": "execute_result"
    }
   ],
   "source": [
    "wii = np.matrix(lm_wgts_unfr['0.rnns.0.module.weight_ih_l0'][:nh].numpy())\n",
    "whi = np.matrix(lm_wgts_unfr['0.rnns.0.module.weight_hh_l0_raw'][:nh].numpy())\n",
    "bii = np.matrix(lm_wgts_unfr['0.rnns.0.module.bias_ih_l0'][:nh].numpy())\n",
    "bhi = np.matrix(lm_wgts_unfr['0.rnns.0.module.bias_hh_l0'][:nh].numpy())\n",
    "\n",
    "for t, values in enumerate(embed):\n",
    "        it = sigmoid(np.matmul(wii,embed[t]) + bii + np.matmul(whi,np.transpose(np.zeros(nh))) + bhi)\n",
    "        \n",
    "it.shape"
   ]
  },
  {
   "cell_type": "code",
   "execution_count": 114,
   "metadata": {},
   "outputs": [
    {
     "data": {
      "text/plain": [
       "array([0., 0., 0., 0., ..., 0., 0., 0., 0.])"
      ]
     },
     "execution_count": 114,
     "metadata": {},
     "output_type": "execute_result"
    }
   ],
   "source": [
    "#hadamard product\n",
    "np.multiply(np.ones(1150), np.zeros(1150))"
   ]
  },
  {
   "cell_type": "code",
   "execution_count": 115,
   "metadata": {},
   "outputs": [
    {
     "data": {
      "text/plain": [
       "array([[ 0.,  1.,  4.],\n",
       "       [ 0.,  4., 10.],\n",
       "       [ 0.,  7., 16.]])"
      ]
     },
     "execution_count": 115,
     "metadata": {},
     "output_type": "execute_result"
    }
   ],
   "source": [
    "x1 = np.arange(9.0).reshape((3, 3))\n",
    "x2 = np.arange(3.0)\n",
    "np.multiply(x1, x2)"
   ]
  },
  {
   "cell_type": "code",
   "execution_count": 116,
   "metadata": {},
   "outputs": [
    {
     "data": {
      "text/plain": [
       "array([[0., 1., 2.],\n",
       "       [3., 4., 5.],\n",
       "       [6., 7., 8.]])"
      ]
     },
     "execution_count": 116,
     "metadata": {},
     "output_type": "execute_result"
    }
   ],
   "source": []
  },
  {
   "cell_type": "code",
   "execution_count": 117,
   "metadata": {},
   "outputs": [
    {
     "data": {
      "text/plain": [
       "array([0., 1., 2.])"
      ]
     },
     "execution_count": 117,
     "metadata": {},
     "output_type": "execute_result"
    }
   ],
   "source": [
    "x2"
   ]
  }
 ],
 "metadata": {
  "kernelspec": {
   "display_name": "Python 3",
   "language": "python",
   "name": "python3"
  },
  "language_info": {
   "codemirror_mode": {
    "name": "ipython",
    "version": 3
   },
   "file_extension": ".py",
   "mimetype": "text/x-python",
   "name": "python",
   "nbconvert_exporter": "python",
   "pygments_lexer": "ipython3",
   "version": "3.6.8"
  }
 },
 "nbformat": 4,
 "nbformat_minor": 2
}
