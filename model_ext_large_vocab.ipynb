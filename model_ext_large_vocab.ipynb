{
 "cells": [
  {
   "cell_type": "code",
   "execution_count": 2,
   "metadata": {
    "colab": {
     "base_uri": "https://localhost:8080/",
     "height": 3343
    },
    "colab_type": "code",
    "executionInfo": {
     "elapsed": 174088,
     "status": "ok",
     "timestamp": 1549464942643,
     "user": {
      "displayName": "Michael Schimpke",
      "photoUrl": "",
      "userId": "08866054739853401103"
     },
     "user_tz": -60
    },
    "id": "6W60aDN_beEL",
    "outputId": "389b9e92-3b2a-4897-fa68-4132ae65050d"
   },
   "outputs": [
    {
     "name": "stdout",
     "output_type": "stream",
     "text": [
      "Collecting torch==0.3.1 from http://download.pytorch.org/whl/cu80/torch-0.3.1-cp36-cp36m-linux_x86_64.whl\n",
      "\u001b[?25l  Downloading http://download.pytorch.org/whl/cu80/torch-0.3.1-cp36-cp36m-linux_x86_64.whl (496.4MB)\n",
      "\u001b[K    100% |████████████████████████████████| 496.4MB 80.6MB/s \n",
      "\u001b[?25hRequirement already satisfied: numpy in /usr/local/lib/python3.6/dist-packages (from torch==0.3.1) (1.14.6)\n",
      "Requirement already satisfied: pyyaml in /usr/local/lib/python3.6/dist-packages (from torch==0.3.1) (3.13)\n",
      "\u001b[31mtorchvision 0.2.1 has requirement pillow>=4.1.1, but you'll have pillow 4.0.0 which is incompatible.\u001b[0m\n",
      "\u001b[31mfastai 1.0.42 has requirement torch>=1.0.0, but you'll have torch 0.3.1 which is incompatible.\u001b[0m\n",
      "Installing collected packages: torch\n",
      "  Found existing installation: torch 1.0.0\n",
      "    Uninstalling torch-1.0.0:\n",
      "      Successfully uninstalled torch-1.0.0\n",
      "Successfully installed torch-0.3.1\n",
      "Collecting fastai==0.7.0\n",
      "\u001b[?25l  Downloading https://files.pythonhosted.org/packages/50/6d/9d0d6e17a78b0598d5e8c49a0d03ffc7ff265ae62eca3e2345fab14edb9b/fastai-0.7.0-py3-none-any.whl (112kB)\n",
      "\u001b[K    100% |████████████████████████████████| 122kB 8.2MB/s \n",
      "\u001b[?25hRequirement already satisfied: ipykernel in /usr/local/lib/python3.6/dist-packages (from fastai==0.7.0) (4.6.1)\n",
      "Requirement already satisfied: certifi in /usr/local/lib/python3.6/dist-packages (from fastai==0.7.0) (2018.11.29)\n",
      "Requirement already satisfied: MarkupSafe in /usr/local/lib/python3.6/dist-packages (from fastai==0.7.0) (1.1.0)\n",
      "Requirement already satisfied: simplegeneric in /usr/local/lib/python3.6/dist-packages (from fastai==0.7.0) (0.8.1)\n",
      "Requirement already satisfied: python-dateutil in /usr/local/lib/python3.6/dist-packages (from fastai==0.7.0) (2.5.3)\n",
      "Requirement already satisfied: cycler in /usr/local/lib/python3.6/dist-packages (from fastai==0.7.0) (0.10.0)\n",
      "Requirement already satisfied: torch<0.4 in /usr/local/lib/python3.6/dist-packages (from fastai==0.7.0) (0.3.1)\n",
      "Requirement already satisfied: ipywidgets in /usr/local/lib/python3.6/dist-packages (from fastai==0.7.0) (7.4.2)\n",
      "Requirement already satisfied: tornado in /usr/local/lib/python3.6/dist-packages (from fastai==0.7.0) (4.5.3)\n",
      "Requirement already satisfied: pickleshare in /usr/local/lib/python3.6/dist-packages (from fastai==0.7.0) (0.7.5)\n",
      "Requirement already satisfied: testpath in /usr/local/lib/python3.6/dist-packages (from fastai==0.7.0) (0.4.2)\n",
      "Requirement already satisfied: graphviz in /usr/local/lib/python3.6/dist-packages (from fastai==0.7.0) (0.10.1)\n",
      "Collecting jedi (from fastai==0.7.0)\n",
      "\u001b[?25l  Downloading https://files.pythonhosted.org/packages/c2/bc/54d53f5bc4658380d0eca9055d72be4df45e5bfd91a4bac97da224a92553/jedi-0.13.2-py2.py3-none-any.whl (177kB)\n",
      "\u001b[K    100% |████████████████████████████████| 184kB 15.7MB/s \n",
      "\u001b[?25hCollecting plotnine (from fastai==0.7.0)\n",
      "\u001b[?25l  Downloading https://files.pythonhosted.org/packages/84/02/b171c828560aea3a5da1efda464230dac3ef4f4834b88e0bd52ad14a08f0/plotnine-0.5.1-py2.py3-none-any.whl (3.6MB)\n",
      "\u001b[K    100% |████████████████████████████████| 3.6MB 10.9MB/s \n",
      "\u001b[?25hCollecting feather-format (from fastai==0.7.0)\n",
      "  Downloading https://files.pythonhosted.org/packages/08/55/940b97cc6f19a19f5dab9efef2f68a0ce43a7632f858b272391f0b851a7e/feather-format-0.4.0.tar.gz\n",
      "Requirement already satisfied: torchvision in /usr/local/lib/python3.6/dist-packages (from fastai==0.7.0) (0.2.1)\n",
      "Requirement already satisfied: pyzmq in /usr/local/lib/python3.6/dist-packages (from fastai==0.7.0) (17.0.0)\n",
      "Requirement already satisfied: ipython-genutils in /usr/local/lib/python3.6/dist-packages (from fastai==0.7.0) (0.2.0)\n",
      "Requirement already satisfied: Pillow in /usr/local/lib/python3.6/dist-packages (from fastai==0.7.0) (4.0.0)\n",
      "Requirement already satisfied: scipy in /usr/local/lib/python3.6/dist-packages (from fastai==0.7.0) (1.1.0)\n",
      "Requirement already satisfied: opencv-python in /usr/local/lib/python3.6/dist-packages (from fastai==0.7.0) (3.4.5.20)\n",
      "Requirement already satisfied: torchtext in /usr/local/lib/python3.6/dist-packages (from fastai==0.7.0) (0.3.1)\n",
      "Requirement already satisfied: matplotlib in /usr/local/lib/python3.6/dist-packages (from fastai==0.7.0) (3.0.2)\n",
      "Requirement already satisfied: decorator in /usr/local/lib/python3.6/dist-packages (from fastai==0.7.0) (4.3.2)\n",
      "Collecting sklearn-pandas (from fastai==0.7.0)\n",
      "  Downloading https://files.pythonhosted.org/packages/1f/48/4e1461d828baf41d609efaa720d20090ac6ec346b5daad3c88e243e2207e/sklearn_pandas-1.8.0-py2.py3-none-any.whl\n",
      "Requirement already satisfied: html5lib in /usr/local/lib/python3.6/dist-packages (from fastai==0.7.0) (1.0.1)\n",
      "Requirement already satisfied: seaborn in /usr/local/lib/python3.6/dist-packages (from fastai==0.7.0) (0.7.1)\n",
      "Requirement already satisfied: pyparsing in /usr/local/lib/python3.6/dist-packages (from fastai==0.7.0) (2.3.1)\n",
      "Requirement already satisfied: widgetsnbextension in /usr/local/lib/python3.6/dist-packages (from fastai==0.7.0) (3.4.2)\n",
      "Requirement already satisfied: pandas in /usr/local/lib/python3.6/dist-packages (from fastai==0.7.0) (0.22.0)\n",
      "Requirement already satisfied: tqdm in /usr/local/lib/python3.6/dist-packages (from fastai==0.7.0) (4.28.1)\n",
      "Requirement already satisfied: traitlets in /usr/local/lib/python3.6/dist-packages (from fastai==0.7.0) (4.3.2)\n",
      "Collecting isoweek (from fastai==0.7.0)\n",
      "  Downloading https://files.pythonhosted.org/packages/c2/d4/fe7e2637975c476734fcbf53776e650a29680194eb0dd21dbdc020ca92de/isoweek-1.3.3-py2.py3-none-any.whl\n",
      "Requirement already satisfied: jsonschema in /usr/local/lib/python3.6/dist-packages (from fastai==0.7.0) (2.6.0)\n",
      "Requirement already satisfied: bleach in /usr/local/lib/python3.6/dist-packages (from fastai==0.7.0) (3.1.0)\n",
      "Requirement already satisfied: entrypoints in /usr/local/lib/python3.6/dist-packages (from fastai==0.7.0) (0.3)\n",
      "Requirement already satisfied: numpy in /usr/local/lib/python3.6/dist-packages (from fastai==0.7.0) (1.14.6)\n",
      "Requirement already satisfied: Pygments in /usr/local/lib/python3.6/dist-packages (from fastai==0.7.0) (2.1.3)\n",
      "Requirement already satisfied: Jinja2 in /usr/local/lib/python3.6/dist-packages (from fastai==0.7.0) (2.10)\n",
      "Requirement already satisfied: ptyprocess in /usr/local/lib/python3.6/dist-packages (from fastai==0.7.0) (0.6.0)\n",
      "Requirement already satisfied: PyYAML in /usr/local/lib/python3.6/dist-packages (from fastai==0.7.0) (3.13)\n",
      "Requirement already satisfied: jupyter in /usr/local/lib/python3.6/dist-packages (from fastai==0.7.0) (1.0.0)\n",
      "Requirement already satisfied: webencodings in /usr/local/lib/python3.6/dist-packages (from fastai==0.7.0) (0.5.1)\n",
      "Collecting bcolz (from fastai==0.7.0)\n",
      "\u001b[?25l  Downloading https://files.pythonhosted.org/packages/5c/4e/23942de9d5c0fb16f10335fa83e52b431bcb8c0d4a8419c9ac206268c279/bcolz-1.2.1.tar.gz (1.5MB)\n",
      "\u001b[K    100% |████████████████████████████████| 1.5MB 16.4MB/s \n",
      "\u001b[?25hRequirement already satisfied: wcwidth in /usr/local/lib/python3.6/dist-packages (from fastai==0.7.0) (0.1.7)\n",
      "Collecting pandas-summary (from fastai==0.7.0)\n",
      "  Downloading https://files.pythonhosted.org/packages/6b/00/f7b4d7fd901db9a79d63e88000bd1e12efba4f5fb52608f906d7fea2b18f/pandas_summary-0.0.6-py2.py3-none-any.whl\n",
      "Requirement already satisfied: ipython in /usr/local/lib/python3.6/dist-packages (from fastai==0.7.0) (5.5.0)\n",
      "Requirement already satisfied: pytz in /usr/local/lib/python3.6/dist-packages (from fastai==0.7.0) (2018.9)\n",
      "Requirement already satisfied: jupyter-client in /usr/local/lib/python3.6/dist-packages (from ipykernel->fastai==0.7.0) (5.2.4)\n",
      "Requirement already satisfied: six>=1.5 in /usr/local/lib/python3.6/dist-packages (from python-dateutil->fastai==0.7.0) (1.11.0)\n",
      "Requirement already satisfied: nbformat>=4.2.0 in /usr/local/lib/python3.6/dist-packages (from ipywidgets->fastai==0.7.0) (4.4.0)\n",
      "Collecting parso>=0.3.0 (from jedi->fastai==0.7.0)\n",
      "\u001b[?25l  Downloading https://files.pythonhosted.org/packages/f9/95/917fbfaca4c173651cb8f02bd50712414a0e2a154c8b7077a80027c0864b/parso-0.3.3-py2.py3-none-any.whl (93kB)\n",
      "\u001b[K    100% |████████████████████████████████| 102kB 29.7MB/s \n",
      "\u001b[?25hRequirement already satisfied: patsy>=0.4.1 in /usr/local/lib/python3.6/dist-packages (from plotnine->fastai==0.7.0) (0.5.1)\n",
      "Collecting descartes>=1.1.0 (from plotnine->fastai==0.7.0)\n",
      "  Downloading https://files.pythonhosted.org/packages/e5/b6/1ed2eb03989ae574584664985367ba70cd9cf8b32ee8cad0e8aaeac819f3/descartes-1.1.0-py3-none-any.whl\n",
      "Collecting mizani>=0.5.2 (from plotnine->fastai==0.7.0)\n",
      "\u001b[?25l  Downloading https://files.pythonhosted.org/packages/21/00/f9b9334c94fe0f5267c81697b3f8a85b360144b3840f08526344c4dcae72/mizani-0.5.3-py2.py3-none-any.whl (59kB)\n",
      "\u001b[K    100% |████████████████████████████████| 61kB 23.0MB/s \n",
      "\u001b[?25hRequirement already satisfied: statsmodels>=0.8.0 in /usr/local/lib/python3.6/dist-packages (from plotnine->fastai==0.7.0) (0.8.0)\n",
      "Collecting pyarrow>=0.4.0 (from feather-format->fastai==0.7.0)\n",
      "\u001b[?25l  Downloading https://files.pythonhosted.org/packages/42/be/8682e7f6c12dd42f31f32b18d5d61b4f578f12aaa9058081aef954a481d3/pyarrow-0.12.0-cp36-cp36m-manylinux1_x86_64.whl (12.5MB)\n",
      "\u001b[K    100% |████████████████████████████████| 12.5MB 4.1MB/s \n",
      "\u001b[?25hRequirement already satisfied: olefile in /usr/local/lib/python3.6/dist-packages (from Pillow->fastai==0.7.0) (0.46)\n",
      "Requirement already satisfied: requests in /usr/local/lib/python3.6/dist-packages (from torchtext->fastai==0.7.0) (2.18.4)\n",
      "Requirement already satisfied: kiwisolver>=1.0.1 in /usr/local/lib/python3.6/dist-packages (from matplotlib->fastai==0.7.0) (1.0.1)\n",
      "Requirement already satisfied: scikit-learn>=0.15.0 in /usr/local/lib/python3.6/dist-packages (from sklearn-pandas->fastai==0.7.0) (0.20.2)\n",
      "Requirement already satisfied: notebook>=4.4.1 in /usr/local/lib/python3.6/dist-packages (from widgetsnbextension->fastai==0.7.0) (5.2.2)\n",
      "Requirement already satisfied: jupyter-console in /usr/local/lib/python3.6/dist-packages (from jupyter->fastai==0.7.0) (6.0.0)\n",
      "Requirement already satisfied: qtconsole in /usr/local/lib/python3.6/dist-packages (from jupyter->fastai==0.7.0) (4.4.3)\n",
      "Requirement already satisfied: nbconvert in /usr/local/lib/python3.6/dist-packages (from jupyter->fastai==0.7.0) (5.4.0)\n",
      "Requirement already satisfied: pexpect; sys_platform != \"win32\" in /usr/local/lib/python3.6/dist-packages (from ipython->fastai==0.7.0) (4.6.0)\n",
      "Requirement already satisfied: setuptools>=18.5 in /usr/local/lib/python3.6/dist-packages (from ipython->fastai==0.7.0) (40.7.3)\n",
      "Requirement already satisfied: prompt-toolkit<2.0.0,>=1.0.4 in /usr/local/lib/python3.6/dist-packages (from ipython->fastai==0.7.0) (1.0.15)\n",
      "Requirement already satisfied: jupyter-core in /usr/local/lib/python3.6/dist-packages (from jupyter-client->ipykernel->fastai==0.7.0) (4.4.0)\n",
      "Collecting palettable (from mizani>=0.5.2->plotnine->fastai==0.7.0)\n",
      "\u001b[?25l  Downloading https://files.pythonhosted.org/packages/56/8a/84537c0354f0d1f03bf644b71bf8e0a50db9c1294181905721a5f3efbf66/palettable-3.1.1-py2.py3-none-any.whl (77kB)\n",
      "\u001b[K    100% |████████████████████████████████| 81kB 26.2MB/s \n",
      "\u001b[?25hRequirement already satisfied: chardet<3.1.0,>=3.0.2 in /usr/local/lib/python3.6/dist-packages (from requests->torchtext->fastai==0.7.0) (3.0.4)\n",
      "Requirement already satisfied: idna<2.7,>=2.5 in /usr/local/lib/python3.6/dist-packages (from requests->torchtext->fastai==0.7.0) (2.6)\n",
      "Requirement already satisfied: urllib3<1.23,>=1.21.1 in /usr/local/lib/python3.6/dist-packages (from requests->torchtext->fastai==0.7.0) (1.22)\n",
      "Requirement already satisfied: terminado>=0.3.3; sys_platform != \"win32\" in /usr/local/lib/python3.6/dist-packages (from notebook>=4.4.1->widgetsnbextension->fastai==0.7.0) (0.8.1)\n",
      "Requirement already satisfied: defusedxml in /usr/local/lib/python3.6/dist-packages (from nbconvert->jupyter->fastai==0.7.0) (0.5.0)\n",
      "Requirement already satisfied: mistune>=0.8.1 in /usr/local/lib/python3.6/dist-packages (from nbconvert->jupyter->fastai==0.7.0) (0.8.4)\n",
      "Requirement already satisfied: pandocfilters>=1.4.1 in /usr/local/lib/python3.6/dist-packages (from nbconvert->jupyter->fastai==0.7.0) (1.4.2)\n",
      "Building wheels for collected packages: feather-format, bcolz\n",
      "  Building wheel for feather-format (setup.py) ... \u001b[?25ldone\n",
      "\u001b[?25h  Stored in directory: /root/.cache/pip/wheels/85/7d/12/2dfa5c0195f921ac935f5e8f27deada74972edc0ae9988a9c1\n",
      "  Building wheel for bcolz (setup.py) ... \u001b[?25ldone\n",
      "\u001b[?25h  Stored in directory: /root/.cache/pip/wheels/9f/78/26/fb8c0acb91a100dc8914bf236c4eaa4b207cb876893c40b745\n",
      "Successfully built feather-format bcolz\n",
      "\u001b[31mmizani 0.5.3 has requirement pandas>=0.23.4, but you'll have pandas 0.22.0 which is incompatible.\u001b[0m\n",
      "\u001b[31mplotnine 0.5.1 has requirement pandas>=0.23.4, but you'll have pandas 0.22.0 which is incompatible.\u001b[0m\n",
      "Installing collected packages: parso, jedi, descartes, palettable, mizani, plotnine, pyarrow, feather-format, sklearn-pandas, isoweek, bcolz, pandas-summary, fastai\n",
      "  Found existing installation: fastai 1.0.42\n",
      "    Uninstalling fastai-1.0.42:\n",
      "      Successfully uninstalled fastai-1.0.42\n",
      "Successfully installed bcolz-1.2.1 descartes-1.1.0 fastai-0.7.0 feather-format-0.4.0 isoweek-1.3.3 jedi-0.13.2 mizani-0.5.3 palettable-3.1.1 pandas-summary-0.0.6 parso-0.3.3 plotnine-0.5.1 pyarrow-0.12.0 sklearn-pandas-1.8.0\n",
      "Collecting torchtext==0.2.3\n",
      "\u001b[?25l  Downloading https://files.pythonhosted.org/packages/78/90/474d5944d43001a6e72b9aaed5c3e4f77516fbef2317002da2096fd8b5ea/torchtext-0.2.3.tar.gz (42kB)\n",
      "\u001b[K    100% |████████████████████████████████| 51kB 4.8MB/s \n",
      "\u001b[?25hRequirement already satisfied: tqdm in /usr/local/lib/python3.6/dist-packages (from torchtext==0.2.3) (4.28.1)\n",
      "Requirement already satisfied: requests in /usr/local/lib/python3.6/dist-packages (from torchtext==0.2.3) (2.18.4)\n",
      "Requirement already satisfied: certifi>=2017.4.17 in /usr/local/lib/python3.6/dist-packages (from requests->torchtext==0.2.3) (2018.11.29)\n",
      "Requirement already satisfied: chardet<3.1.0,>=3.0.2 in /usr/local/lib/python3.6/dist-packages (from requests->torchtext==0.2.3) (3.0.4)\n",
      "Requirement already satisfied: urllib3<1.23,>=1.21.1 in /usr/local/lib/python3.6/dist-packages (from requests->torchtext==0.2.3) (1.22)\n",
      "Requirement already satisfied: idna<2.7,>=2.5 in /usr/local/lib/python3.6/dist-packages (from requests->torchtext==0.2.3) (2.6)\n",
      "Building wheels for collected packages: torchtext\n",
      "  Building wheel for torchtext (setup.py) ... \u001b[?25ldone\n",
      "\u001b[?25h  Stored in directory: /root/.cache/pip/wheels/42/a6/f4/b267328bde6bb680094a0c173e8e5627ccc99543abded97204\n",
      "Successfully built torchtext\n",
      "Installing collected packages: torchtext\n",
      "  Found existing installation: torchtext 0.3.1\n",
      "    Uninstalling torchtext-0.3.1:\n",
      "      Successfully uninstalled torchtext-0.3.1\n",
      "Successfully installed torchtext-0.2.3\n",
      "Requirement already satisfied: spacy in /usr/local/lib/python3.6/dist-packages (2.0.18)\n",
      "Requirement already satisfied: preshed<2.1.0,>=2.0.1 in /usr/local/lib/python3.6/dist-packages (from spacy) (2.0.1)\n",
      "Requirement already satisfied: requests<3.0.0,>=2.13.0 in /usr/local/lib/python3.6/dist-packages (from spacy) (2.18.4)\n",
      "Requirement already satisfied: dill<0.3,>=0.2 in /usr/local/lib/python3.6/dist-packages (from spacy) (0.2.9)\n",
      "Requirement already satisfied: ujson>=1.35 in /usr/local/lib/python3.6/dist-packages (from spacy) (1.35)\n",
      "Requirement already satisfied: murmurhash<1.1.0,>=0.28.0 in /usr/local/lib/python3.6/dist-packages (from spacy) (1.0.1)\n",
      "Requirement already satisfied: cymem<2.1.0,>=2.0.2 in /usr/local/lib/python3.6/dist-packages (from spacy) (2.0.2)\n",
      "Collecting numpy>=1.15.0 (from spacy)\n",
      "\u001b[?25l  Downloading https://files.pythonhosted.org/packages/f5/bf/4981bcbee43934f0adb8f764a1e70ab0ee5a448f6505bd04a87a2fda2a8b/numpy-1.16.1-cp36-cp36m-manylinux1_x86_64.whl (17.3MB)\n",
      "\u001b[K    100% |████████████████████████████████| 17.3MB 2.2MB/s \n",
      "\u001b[?25hRequirement already satisfied: thinc<6.13.0,>=6.12.1 in /usr/local/lib/python3.6/dist-packages (from spacy) (6.12.1)\n",
      "Requirement already satisfied: regex==2018.01.10 in /usr/local/lib/python3.6/dist-packages (from spacy) (2018.1.10)\n",
      "Requirement already satisfied: plac<1.0.0,>=0.9.6 in /usr/local/lib/python3.6/dist-packages (from spacy) (0.9.6)\n",
      "Requirement already satisfied: certifi>=2017.4.17 in /usr/local/lib/python3.6/dist-packages (from requests<3.0.0,>=2.13.0->spacy) (2018.11.29)\n",
      "Requirement already satisfied: idna<2.7,>=2.5 in /usr/local/lib/python3.6/dist-packages (from requests<3.0.0,>=2.13.0->spacy) (2.6)\n",
      "Requirement already satisfied: chardet<3.1.0,>=3.0.2 in /usr/local/lib/python3.6/dist-packages (from requests<3.0.0,>=2.13.0->spacy) (3.0.4)\n",
      "Requirement already satisfied: urllib3<1.23,>=1.21.1 in /usr/local/lib/python3.6/dist-packages (from requests<3.0.0,>=2.13.0->spacy) (1.22)\n",
      "Requirement already satisfied: six<2.0.0,>=1.10.0 in /usr/local/lib/python3.6/dist-packages (from thinc<6.13.0,>=6.12.1->spacy) (1.11.0)\n",
      "Requirement already satisfied: cytoolz<0.10,>=0.9.0 in /usr/local/lib/python3.6/dist-packages (from thinc<6.13.0,>=6.12.1->spacy) (0.9.0.1)\n",
      "Requirement already satisfied: tqdm<5.0.0,>=4.10.0 in /usr/local/lib/python3.6/dist-packages (from thinc<6.13.0,>=6.12.1->spacy) (4.28.1)\n",
      "Requirement already satisfied: msgpack<0.6.0,>=0.5.6 in /usr/local/lib/python3.6/dist-packages (from thinc<6.13.0,>=6.12.1->spacy) (0.5.6)\n",
      "Collecting wrapt<1.11.0,>=1.10.0 (from thinc<6.13.0,>=6.12.1->spacy)\n",
      "  Downloading https://files.pythonhosted.org/packages/a0/47/66897906448185fcb77fc3c2b1bc20ed0ecca81a0f2f88eda3fc5a34fc3d/wrapt-1.10.11.tar.gz\n",
      "Requirement already satisfied: msgpack-numpy<0.4.4 in /usr/local/lib/python3.6/dist-packages (from thinc<6.13.0,>=6.12.1->spacy) (0.4.3.2)\n",
      "Requirement already satisfied: toolz>=0.8.0 in /usr/local/lib/python3.6/dist-packages (from cytoolz<0.10,>=0.9.0->thinc<6.13.0,>=6.12.1->spacy) (0.9.0)\n",
      "Building wheels for collected packages: wrapt\n",
      "  Building wheel for wrapt (setup.py) ... \u001b[?25ldone\n",
      "\u001b[?25h  Stored in directory: /root/.cache/pip/wheels/48/5d/04/22361a593e70d23b1f7746d932802efe1f0e523376a74f321e\n",
      "Successfully built wrapt\n",
      "\u001b[31myellowbrick 0.9 has requirement matplotlib<3.0,>=1.5.1, but you'll have matplotlib 3.0.2 which is incompatible.\u001b[0m\n",
      "\u001b[31mtorchvision 0.2.1 has requirement pillow>=4.1.1, but you'll have pillow 4.0.0 which is incompatible.\u001b[0m\n",
      "\u001b[31mpymc3 3.6 has requirement joblib<0.13.0, but you'll have joblib 0.13.1 which is incompatible.\u001b[0m\n",
      "\u001b[31mplotnine 0.5.1 has requirement pandas>=0.23.4, but you'll have pandas 0.22.0 which is incompatible.\u001b[0m\n",
      "\u001b[31mmizani 0.5.3 has requirement pandas>=0.23.4, but you'll have pandas 0.22.0 which is incompatible.\u001b[0m\n",
      "\u001b[31mfeaturetools 0.4.1 has requirement pandas>=0.23.0, but you'll have pandas 0.22.0 which is incompatible.\u001b[0m\n",
      "\u001b[31mcufflinks 0.14.6 has requirement plotly>=3.0.0, but you'll have plotly 1.12.12 which is incompatible.\u001b[0m\n",
      "\u001b[31malbumentations 0.1.11 has requirement numpy<1.16.0,>=1.11.1, but you'll have numpy 1.16.1 which is incompatible.\u001b[0m\n",
      "Installing collected packages: numpy, wrapt\n",
      "  Found existing installation: numpy 1.14.6\n",
      "    Uninstalling numpy-1.14.6:\n",
      "      Successfully uninstalled numpy-1.14.6\n",
      "  Found existing installation: wrapt 1.11.1\n",
      "    Uninstalling wrapt-1.11.1:\n",
      "      Successfully uninstalled wrapt-1.11.1\n",
      "Successfully installed numpy-1.16.1 wrapt-1.10.11\n"
     ]
    },
    {
     "data": {
      "application/vnd.colab-display-data+json": {
       "pip_warning": {
        "packages": [
         "numpy",
         "wrapt"
        ]
       }
      }
     },
     "metadata": {
      "tags": []
     },
     "output_type": "display_data"
    },
    {
     "name": "stdout",
     "output_type": "stream",
     "text": [
      "Requirement already satisfied: en_core_web_sm==2.0.0 from https://github.com/explosion/spacy-models/releases/download/en_core_web_sm-2.0.0/en_core_web_sm-2.0.0.tar.gz#egg=en_core_web_sm==2.0.0 in /usr/local/lib/python3.6/dist-packages (2.0.0)\n",
      "\n",
      "\u001b[93m    Linking successful\u001b[0m\n",
      "    /usr/local/lib/python3.6/dist-packages/en_core_web_sm -->\n",
      "    /usr/local/lib/python3.6/dist-packages/spacy/data/en\n",
      "\n",
      "    You can now load the model via spacy.load('en')\n",
      "\n"
     ]
    }
   ],
   "source": [
    "import pandas as pd\n",
    "import numpy as np\n",
    "import torch\n",
    "!pip install fastai==0.7.0\n",
    "!pip install torchtext==0.2.3\n",
    "\n",
    "import fastai\n",
    "from fastai.imports import *\n",
    "from fastai.torch_imports import *\n",
    "from fastai.core import *\n",
    "from fastai.model import fit\n",
    "from fastai.dataset import *\n",
    "\n",
    "import torchtext\n",
    "from torchtext import vocab, data\n",
    "from torchtext.datasets import language_modeling\n",
    "\n",
    "from fastai.rnn_reg import *\n",
    "from fastai.rnn_train import *\n",
    "from fastai.nlp import *\n",
    "from fastai.lm_rnn import *\n",
    "from fastai.text import *\n",
    "\n",
    "import dill as pickle\n",
    "!pip install spacy\n",
    "!python -m spacy download en\n",
    "import spacy\n",
    "import html\n",
    "\n",
    "import pickle\n",
    "import collections\n",
    "import math\n",
    "!pip install nbimporter\n",
    "import nbimporter"
   ]
  },
  {
   "cell_type": "code",
   "execution_count": 0,
   "metadata": {
    "colab": {},
    "colab_type": "code",
    "id": "oGp4RuNEbrcj"
   },
   "outputs": [],
   "source": [
    "## DATA CLEANING AND TOKENIZATION\n",
    "\n",
    "\n",
    "# define paths and load data\n",
    "clas_path = Path('model_extension_parameters/ft_classifier_large_vocab/clas')\n",
    "lm_path   = Path('model_extension_parameters/ft_classifier_large_vocab/lm')\n",
    "my_data   = pd.read_csv('Tweets.csv')\n",
    "\n",
    "y = my_data.airline_sentiment\n",
    "x = my_data.text\n",
    "\n",
    "## classification\n",
    "# create training and validation sets\n",
    "trn_texts, val_texts, trn_labels, val_labels = sklearn.model_selection.train_test_split(\n",
    "                                              x, y, test_size = 0.2,\n",
    "                                              random_state = 41)\n",
    "\n",
    "trn_texts  = np.array(trn_texts)\n",
    "trn_labels = np.array(trn_labels)\n",
    "val_texts  = np.array(val_texts)\n",
    "val_labels = np.array(val_labels)\n",
    "\n",
    "\n",
    "# randomize order\n",
    "np.random.seed(42)\n",
    "trn_idx = np.random.permutation(len(trn_texts))\n",
    "val_idx = np.random.permutation(len(val_texts))\n",
    "\n",
    "\n",
    "# reorder texts\n",
    "trn_texts = trn_texts[trn_idx]\n",
    "val_texts = val_texts[val_idx]\n",
    "\n",
    "\n",
    "# reorder labels \n",
    "trn_labels = trn_labels[trn_idx]\n",
    "val_labels = val_labels[val_idx]\n",
    "\n",
    "\n",
    "# create dataframe\n",
    "col_names = ['labels','text']\n",
    "df_trn    = pd.DataFrame({'text':trn_texts, 'labels':trn_labels}, columns = col_names)\n",
    "df_val    = pd.DataFrame({'text':val_texts, 'labels':val_labels}, columns = col_names)\n",
    "\n",
    "\n",
    "# save training and validation dataset\n",
    "classes = ['Positive', 'Negative', 'Neutral']\n",
    "df_trn.to_csv(clas_path/'train.csv', header = False, index = False)\n",
    "df_val.to_csv(clas_path/'test.csv', header = False, index = False)\n",
    "(clas_path/'classes.txt').open('w').writelines(f'{o}\\n' for o in classes)\n",
    "\n",
    "\n",
    "## language model\n",
    "# create training and validation sets\n",
    "trn_texts, val_texts = sklearn.model_selection.train_test_split(\n",
    "                     np.concatenate([trn_texts,val_texts]), test_size = 0.1,\n",
    "                     random_state = 43)\n",
    "\n",
    "\n",
    "# saving training and validation dataset\n",
    "df_trn = pd.DataFrame({'text':trn_texts, 'labels':\n",
    "                       [0]*len(trn_texts)}, columns = col_names)\n",
    "df_val = pd.DataFrame({'text':val_texts, 'labels':\n",
    "                       [0]*len(val_texts)}, columns = col_names)\n",
    "\n",
    "df_trn.to_csv(lm_path/'train.csv', header = False, index = False)\n",
    "df_val.to_csv(lm_path/'test.csv', header = False, index = False)"
   ]
  },
  {
   "cell_type": "code",
   "execution_count": 5,
   "metadata": {
    "colab": {
     "base_uri": "https://localhost:8080/",
     "height": 154
    },
    "colab_type": "code",
    "executionInfo": {
     "elapsed": 193771,
     "status": "ok",
     "timestamp": 1549464962362,
     "user": {
      "displayName": "Michael Schimpke",
      "photoUrl": "",
      "userId": "08866054739853401103"
     },
     "user_tz": -60
    },
    "id": "P0mwjjOsbu36",
    "outputId": "fa41673c-7078-4692-c063-b9f054669059"
   },
   "outputs": [
    {
     "name": "stdout",
     "output_type": "stream",
     "text": [
      "0\n",
      "1\n",
      "2\n",
      "0\n"
     ]
    }
   ],
   "source": [
    "from functions import Prep\n",
    "\n",
    "# tokenization\n",
    "chunksize = 5000\n",
    "BOS       = 'xbos'  # beginning-of-sentence tag\n",
    "df_trn    = pd.read_csv(lm_path/'train.csv', header = None, \n",
    "                        chunksize = chunksize)\n",
    "df_val    = pd.read_csv(lm_path/'test.csv', header = None, \n",
    "                        chunksize = chunksize)\n",
    "\n",
    "tok_trn, trn_labels = Prep.get_all(df_trn, 1)\n",
    "tok_val, val_labels = Prep.get_all(df_val, 1)\n",
    "\n",
    "\n",
    "# save tokenization\n",
    "np.save(lm_path/'tok_trn.npy', tok_trn)\n",
    "np.save(lm_path/'tok_val.npy', tok_val)"
   ]
  },
  {
   "cell_type": "code",
   "execution_count": 0,
   "metadata": {
    "colab": {},
    "colab_type": "code",
    "id": "7ujOSQLy0GW0"
   },
   "outputs": [],
   "source": [
    "# limit vocabulary\n",
    "max_vocab = 60000\n",
    "min_freq  = 2\n",
    "\n",
    "\n",
    "# count frequencies of tokens of small twitter airline dataset\n",
    "freq     = Counter(p for o in tok_trn for p in o)\n",
    "freq_min = {x : freq[x] for x in freq if freq[x] > min_freq }\n",
    "freq_min = Counter(freq_min)\n",
    "\n",
    "\n",
    "# load tokens of big twitter dataset in order to keep its vocabulary\n",
    "tok_trn_big  = np.load('model_extension_parameters/fine_tuning_big_dataset/lm/tok_trn.npy')\n",
    "freq_big     = Counter(p for o in tok_trn_big for p in o)\n",
    "freq_big_min = {x : freq_big[x] for x in freq_big if freq_big[x] > min_freq }\n",
    "freq_big_min = Counter(freq_big_min)\n",
    "\n",
    "\n",
    "# add word frequencies of both vocabularies\n",
    "freq_total = freq_min + freq_big_min"
   ]
  },
  {
   "cell_type": "code",
   "execution_count": 0,
   "metadata": {
    "colab": {},
    "colab_type": "code",
    "id": "_bxCH-BrYXCb"
   },
   "outputs": [],
   "source": [
    "# create translation from integer to string and string to integer\n",
    "itos = [o for o,c in freq_total.most_common(max_vocab) if c > min_freq]\n",
    "itos.insert(0, '_unk_')\n",
    "itos.insert(1, '_pad_')\n",
    "\n",
    "stoi = collections.defaultdict(lambda:0, \n",
    "                               {v:k for k,v in enumerate(itos)})\n",
    "\n",
    "\n",
    "# tweets expressed as integers\n",
    "trn_lm = np.array([[stoi[o] for o in p] for p in tok_trn])\n",
    "val_lm = np.array([[stoi[o] for o in p] for p in tok_val])\n",
    "\n",
    "\n",
    "# save dictionary\n",
    "np.save(lm_path/'trn_ids.npy', trn_lm)\n",
    "np.save(lm_path/'val_ids.npy', val_lm)\n",
    "pickle.dump(itos, open(lm_path/'itos.pkl', 'wb'))"
   ]
  },
  {
   "cell_type": "code",
   "execution_count": 0,
   "metadata": {
    "colab": {},
    "colab_type": "code",
    "id": "wzoQzRBnb2xo"
   },
   "outputs": [],
   "source": [
    "## PRETRAINED LANGUAGE MODEL\n",
    "\n",
    "em_sz, nh, nl = 400, 1150, 3\n",
    "\n",
    "\n",
    "# load itos and stoi from the pretrained Wikitext language model fine-tuned with the big twitter dataset\n",
    "with open('model_extension_parameters/fine_tuning_big_dataset/lm/itos.pkl', 'rb') as pickle_file:\n",
    "    itos_big = pickle.load(pickle_file)\n",
    "    \n",
    "stoi_big = collections.defaultdict(lambda:-1, {v:k for k,v \n",
    "                                              in enumerate(itos_big)})\n",
    "\n",
    "\n",
    "# load model weights from the pretrained Wikitext language model fine-tuned by the big twitter dataset\n",
    "lm_wgts_big = torch.load('model_extension_parameters/fine_tuning_big_dataset/models/lmbig.h5', \n",
    "                         map_location=lambda storage, loc: storage)\n",
    "\n",
    "\n",
    "# match tokens between the two vocabularies\n",
    "enc_wgts = lm_wgts_big['0.encoder.weight'].numpy()\n",
    "row_m    = np.mean(enc_wgts, axis = 0)\n",
    "\n",
    "new_wm   = np.zeros((len(itos), em_sz), dtype = np.float32)\n",
    "for i,w in enumerate(itos):\n",
    "    r         = stoi_big[w]\n",
    "    new_wm[i] = enc_wgts[r] if r >= 0 else row_m\n",
    "    \n",
    "lm_wgts_big['0.encoder.weight']                    = T(new_wm)\n",
    "lm_wgts_big['0.encoder_with_dropout.embed.weight'] = T(np.copy(new_wm))\n",
    "lm_wgts_big['1.decoder.weight']                    = T(np.copy(new_wm))"
   ]
  },
  {
   "cell_type": "code",
   "execution_count": 0,
   "metadata": {
    "colab": {},
    "colab_type": "code",
    "id": "BCPLZLBNb3zL"
   },
   "outputs": [],
   "source": [
    "wd   = 1e-7\n",
    "bptt = 70\n",
    "bs   = 64\n",
    "t    = len(np.concatenate(trn_lm))\n",
    "\n",
    "\n",
    "# define optimizer and create data loader \n",
    "opt_fn  = partial(optim.Adam, betas = (0.8, 0.99))\n",
    "trn_dl  = LanguageModelLoader(np.concatenate(trn_lm), bs, bptt)\n",
    "val_dl  = LanguageModelLoader(np.concatenate(val_lm), bs, bptt)"
   ]
  },
  {
   "cell_type": "code",
   "execution_count": 0,
   "metadata": {
    "colab": {},
    "colab_type": "code",
    "id": "1DzY0eLCcJU3"
   },
   "outputs": [],
   "source": [
    "## CREATE MODEL ARCHITECTURE\n",
    "\n",
    "\n",
    "md = LanguageModelData('model_extension_parameters/ft_classifier_large_vocab', \n",
    "                       pad_idx = 1, n_tok = len(itos), trn_dl = trn_dl, val_dl = val_dl, bs = bs, \n",
    "                       bptt = bptt)\n",
    "\n",
    "\n",
    "# define droupout parameters and create model architecture\n",
    "drops   = np.array([0.25, 0.1, 0.2, 0.02, 0.15])*0.7\n",
    "learner = md.get_model(opt_fn, em_sz, nh, nl, \n",
    "          dropouti = drops[0], dropout = drops[1], wdrop = drops[2],\n",
    "          dropoute = drops[3], dropouth = drops[4])\n",
    "\n",
    "\n",
    "learner.metrics = [accuracy]\n",
    "learner.freeze_to(-1)"
   ]
  },
  {
   "cell_type": "code",
   "execution_count": 11,
   "metadata": {
    "colab": {
     "base_uri": "https://localhost:8080/",
     "height": 1020
    },
    "colab_type": "code",
    "executionInfo": {
     "elapsed": 249274,
     "status": "ok",
     "timestamp": 1549465017906,
     "user": {
      "displayName": "Michael Schimpke",
      "photoUrl": "",
      "userId": "08866054739853401103"
     },
     "user_tz": -60
    },
    "id": "KdFu5IaZcLvq",
    "outputId": "7ac62f97-74ba-412e-8ef5-6b74430f04f6"
   },
   "outputs": [
    {
     "data": {
      "application/vnd.jupyter.widget-view+json": {
       "model_id": "f3fe619e0be94d43af4bf1b7563c68f8",
       "version_major": 2,
       "version_minor": 0
      },
      "text/plain": [
       "HBox(children=(IntProgress(value=0, description='Epoch', max=1, style=ProgressStyle(description_width='initial…"
      ]
     },
     "metadata": {
      "tags": []
     },
     "output_type": "display_data"
    },
    {
     "name": "stdout",
     "output_type": "stream",
     "text": [
      "epoch      trn_loss   val_loss   accuracy   \n",
      "    0      5.471065   5.16631    0.217466  \n",
      "\n"
     ]
    },
    {
     "data": {
      "text/plain": [
       "[array([5.16631]), 0.21746575488755693]"
      ]
     },
     "execution_count": 11,
     "metadata": {
      "tags": []
     },
     "output_type": "execute_result"
    }
   ],
   "source": [
    "# load model weights from pretrained wiki model fine-tuned with big twitter dataset\n",
    "learner.model.load_state_dict(lm_wgts_big)\n",
    "\n",
    "\n",
    "# set initial learning rate\n",
    "lr  = 1e-3\n",
    "\n",
    "\n",
    "# fit model with frozen lstm for one epoch\n",
    "learner.fit(lr, 1, wds = wd, use_clr = (32,2), cycle_len = 1) "
   ]
  },
  {
   "cell_type": "code",
   "execution_count": 12,
   "metadata": {
    "colab": {
     "base_uri": "https://localhost:8080/",
     "height": 1020
    },
    "colab_type": "code",
    "executionInfo": {
     "elapsed": 295277,
     "status": "ok",
     "timestamp": 1549465063919,
     "user": {
      "displayName": "Michael Schimpke",
      "photoUrl": "",
      "userId": "08866054739853401103"
     },
     "user_tz": -60
    },
    "id": "la6XE4XIcPj3",
    "outputId": "8f6019dd-e108-4f59-f8f5-1f8da368330e"
   },
   "outputs": [
    {
     "data": {
      "application/vnd.jupyter.widget-view+json": {
       "model_id": "2cded20e0a064beba27c11c0e4c1ae94",
       "version_major": 2,
       "version_minor": 0
      },
      "text/plain": [
       "HBox(children=(IntProgress(value=0, description='Epoch', max=1, style=ProgressStyle(description_width='initial…"
      ]
     },
     "metadata": {
      "tags": []
     },
     "output_type": "display_data"
    },
    {
     "name": "stdout",
     "output_type": "stream",
     "text": [
      " 86%|████████▋ | 57/66 [00:36<00:05,  1.79it/s, loss=22.5]"
     ]
    },
    {
     "data": {
      "image/png": "[encoded data removed]",
      "text/plain": [
       "<Figure size 576x396 with 1 Axes>"
      ]
     },
     "metadata": {
      "tags": []
     },
     "output_type": "display_data"
    }
   ],
   "source": [
    "# save learner for further training\n",
    "learner.save('lm_last_ft_ext_comb')\n",
    "\n",
    "\n",
    "# unfreeze all layers\n",
    "learner.unfreeze()\n",
    "\n",
    "\n",
    "# perform and plot algorithm to find optimal learning rate\n",
    "learner.lr_find(lr/1000)\n",
    "learner.sched.plot()"
   ]
  },
  {
   "cell_type": "code",
   "execution_count": 13,
   "metadata": {
    "colab": {
     "base_uri": "https://localhost:8080/",
     "height": 1020
    },
    "colab_type": "code",
    "executionInfo": {
     "elapsed": 429855,
     "status": "ok",
     "timestamp": 1549465198503,
     "user": {
      "displayName": "Michael Schimpke",
      "photoUrl": "",
      "userId": "08866054739853401103"
     },
     "user_tz": -60
    },
    "id": "IUhPAR7KUPUu",
    "outputId": "5ab4d556-178f-4047-fd37-8ad86aa1579a"
   },
   "outputs": [
    {
     "data": {
      "application/vnd.jupyter.widget-view+json": {
       "model_id": "cfe153f3922b41e587ed3d977b21b1c3",
       "version_major": 2,
       "version_minor": 0
      },
      "text/plain": [
       "HBox(children=(IntProgress(value=0, description='Epoch', max=3, style=ProgressStyle(description_width='initial…"
      ]
     },
     "metadata": {
      "tags": []
     },
     "output_type": "display_data"
    },
    {
     "name": "stdout",
     "output_type": "stream",
     "text": [
      "epoch      trn_loss   val_loss   accuracy   \n",
      "    0      4.412381   4.064965   0.276865  \n",
      "    1      4.03363    3.978301   0.285105  \n",
      "    2      3.767617   3.952309   0.28883   \n"
     ]
    },
    {
     "data": {
      "text/plain": [
       "[array([3.95231]), 0.28883008825969914]"
      ]
     },
     "execution_count": 13,
     "metadata": {
      "tags": []
     },
     "output_type": "execute_result"
    }
   ],
   "source": [
    "learner.load('lm_last_ft_ext_comb')\n",
    "\n",
    "\n",
    "# set discriminative learning rate\n",
    "lr  = 1e-2\n",
    "lrm = 2.6\n",
    "lrs = np.array([lr/(lrm**3), lr/(lrm**2), lr/lrm, lr])\n",
    "\n",
    "\n",
    "# fit model with unfrozen lstm layers until it overfits\n",
    "learner.fit(lrs, 1, wds = wd, use_clr = (20,10), cycle_len = 3)"
   ]
  },
  {
   "cell_type": "code",
   "execution_count": 14,
   "metadata": {
    "colab": {
     "base_uri": "https://localhost:8080/",
     "height": 370
    },
    "colab_type": "code",
    "executionInfo": {
     "elapsed": 430139,
     "status": "ok",
     "timestamp": 1549465198792,
     "user": {
      "displayName": "Michael Schimpke",
      "photoUrl": "",
      "userId": "08866054739853401103"
     },
     "user_tz": -60
    },
    "id": "9H2qON-TcaEK",
    "outputId": "66368bf9-e78f-4e16-b413-f309a5ff51b5"
   },
   "outputs": [
    {
     "data": {
      "image/png": "[encoded data removed]",
      "text/plain": [
       "<Figure size 576x396 with 1 Axes>"
      ]
     },
     "metadata": {
      "tags": []
     },
     "output_type": "display_data"
    }
   ],
   "source": [
    "learner.sched.plot_loss()"
   ]
  },
  {
   "cell_type": "code",
   "execution_count": 0,
   "metadata": {
    "colab": {},
    "colab_type": "code",
    "id": "dw3NgXbfccss"
   },
   "outputs": [],
   "source": [
    "# save complete model and encoder\n",
    "learner.save('lm2_ext_comb')\n",
    "learner.save_encoder('lm2_enc_ext_comb')"
   ]
  },
  {
   "cell_type": "code",
   "execution_count": 16,
   "metadata": {
    "colab": {
     "base_uri": "https://localhost:8080/",
     "height": 154
    },
    "colab_type": "code",
    "executionInfo": {
     "elapsed": 460179,
     "status": "ok",
     "timestamp": 1549465228842,
     "user": {
      "displayName": "Michael Schimpke",
      "photoUrl": "",
      "userId": "08866054739853401103"
     },
     "user_tz": -60
    },
    "id": "KW7NxacaEg2c",
    "outputId": "fdda1118-2a21-4b0f-e85c-7f86450363cc"
   },
   "outputs": [
    {
     "name": "stdout",
     "output_type": "stream",
     "text": [
      "0\n",
      "1\n",
      "2\n",
      "0\n"
     ]
    }
   ],
   "source": [
    "## DATA PREPARATION FOR CLASSIFIER\n",
    "\n",
    "# tokenize saved training and validation datasets\n",
    "df_trn = pd.read_csv(clas_path/'train.csv', header = None, chunksize = chunksize)\n",
    "df_val = pd.read_csv(clas_path/'test.csv', header = None, chunksize = chunksize)\n",
    "\n",
    "\n",
    "tok_trn, trn_labels = Prep.get_all(df_trn, 1)\n",
    "tok_val, val_labels = Prep.get_all(df_val, 1)\n",
    "\n",
    "\n",
    "(clas_path/'tmp').mkdir(exist_ok = True)\n",
    "np.save(clas_path/'tmp'/'tok_trn.npy', tok_trn)\n",
    "np.save(clas_path/'tmp'/'tok_val.npy', tok_val)\n",
    "np.save(clas_path/'tmp'/'trn_labels.npy', trn_labels)\n",
    "np.save(clas_path/'tmp'/'val_labels.npy', val_labels)\n",
    "tok_trn = np.load(clas_path/'tmp'/'tok_trn.npy')\n",
    "tok_val = np.load(clas_path/'tmp'/'tok_val.npy')"
   ]
  },
  {
   "cell_type": "code",
   "execution_count": 0,
   "metadata": {
    "colab": {},
    "colab_type": "code",
    "id": "pmXqnBkKE2y8"
   },
   "outputs": [],
   "source": [
    "# load vocabulary from language model\n",
    "itos = pickle.load((lm_path/'itos.pkl').open('rb'))\n",
    "stoi = collections.defaultdict(lambda:0, {v:k for k,v in \n",
    "                                          enumerate(itos)})\n",
    "\n",
    "\n",
    "# encode tokens\n",
    "trn_clas = np.array([[stoi[o] for o in p] for p in tok_trn])\n",
    "val_clas = np.array([[stoi[o] for o in p] for p in tok_val])\n",
    "np.save(clas_path/'tmp'/'trn_ids.npy', trn_clas)\n",
    "np.save(clas_path/'tmp'/'val_ids.npy', val_clas)"
   ]
  },
  {
   "cell_type": "code",
   "execution_count": 0,
   "metadata": {
    "colab": {},
    "colab_type": "code",
    "id": "3AWJhbzBKOh-"
   },
   "outputs": [],
   "source": [
    "trn_clas   = np.load(clas_path/'tmp'/'trn_ids.npy')\n",
    "val_clas   = np.load(clas_path/'tmp'/'val_ids.npy')\n",
    "trn_labels = np.load(clas_path/'tmp'/'trn_labels.npy')\n",
    "val_labels = np.load(clas_path/'tmp'/'val_labels.npy')"
   ]
  },
  {
   "cell_type": "code",
   "execution_count": 0,
   "metadata": {
    "colab": {},
    "colab_type": "code",
    "id": "c9F-JKfwLWeo"
   },
   "outputs": [],
   "source": [
    "# set hyperparameters\n",
    "bptt, nh   = 70, 1150 \n",
    "em_sz, nl  = 400, 3\n",
    "bs, c      = 64, 3\n",
    "vs         = len(itos)\n",
    "\n",
    "opt_fn = partial(optim.Adam, betas = (0.8, 0.99))"
   ]
  },
  {
   "cell_type": "code",
   "execution_count": 0,
   "metadata": {
    "colab": {},
    "colab_type": "code",
    "id": "UPf8b2ViLc8b"
   },
   "outputs": [],
   "source": [
    "import functions as fct\n",
    "md = fct.data_loader('model_extension_parameters/ft_classifier_large_vocab', trn_clas, \n",
    "                     val_clas, trn_labels, val_labels, bs = bs, pad_idx = 1)"
   ]
  },
  {
   "cell_type": "code",
   "execution_count": 0,
   "metadata": {
    "colab": {},
    "colab_type": "code",
    "id": "QKT-ZrNkQexl"
   },
   "outputs": [],
   "source": [
    "# define droupout parameters and create model architecture\n",
    "dps = np.array([0.4, 0.5, 0.05, 0.3, 0.4])*0.7\n",
    "m   = get_rnn_classifer(bptt, 20*70, c, vs, emb_sz = em_sz, n_hid = nh, \n",
    "                        n_layers = nl, pad_token = 1,\n",
    "                        layers   = [em_sz*3, 50, c], drops = [dps[4], 0.1],\n",
    "                        dropouti = dps[0], wdrop = dps[1],        \n",
    "                        dropoute = dps[2], dropouth = dps[3])"
   ]
  },
  {
   "cell_type": "code",
   "execution_count": 0,
   "metadata": {
    "colab": {},
    "colab_type": "code",
    "id": "yWJFfV0fTgUi"
   },
   "outputs": [],
   "source": [
    "# build rnn classifier model\n",
    "learn         = RNN_Learner(md, TextModel(to_gpu(m)), opt_fn = opt_fn)\n",
    "learn.reg_fn  = partial(seq2seq_reg, alpha = 2, beta = 1)\n",
    "learn.clip    = .25\n",
    "learn.metrics = [accuracy]"
   ]
  },
  {
   "cell_type": "code",
   "execution_count": 0,
   "metadata": {
    "colab": {},
    "colab_type": "code",
    "id": "N0VH6eX0Tlpp"
   },
   "outputs": [],
   "source": [
    "# set discriminative learning rate\n",
    "lr  = 3e-3\n",
    "lrm = 2.6\n",
    "lrs = np.array([lr/(lrm**4), lr/(lrm**3), lr/(lrm**2), lr/lrm, lr])"
   ]
  },
  {
   "cell_type": "code",
   "execution_count": 0,
   "metadata": {
    "colab": {},
    "colab_type": "code",
    "id": "lRJhegRrTspO"
   },
   "outputs": [],
   "source": [
    "# set weight decay and load encoder from language model\n",
    "wd = 1e-7\n",
    "learn.load_encoder('lm2_enc_ext_comb')"
   ]
  },
  {
   "cell_type": "code",
   "execution_count": 27,
   "metadata": {
    "colab": {
     "base_uri": "https://localhost:8080/",
     "height": 1020
    },
    "colab_type": "code",
    "executionInfo": {
     "elapsed": 480218,
     "status": "ok",
     "timestamp": 1549465248929,
     "user": {
      "displayName": "Michael Schimpke",
      "photoUrl": "",
      "userId": "08866054739853401103"
     },
     "user_tz": -60
    },
    "id": "brCJGifhTsgn",
    "outputId": "d90ff8cc-de9f-4283-a70b-8da200f8e400"
   },
   "outputs": [
    {
     "data": {
      "application/vnd.jupyter.widget-view+json": {
       "model_id": "5def550adbed4d2082cbf0bbe5a4c716",
       "version_major": 2,
       "version_minor": 0
      },
      "text/plain": [
       "HBox(children=(IntProgress(value=0, description='Epoch', max=1, style=ProgressStyle(description_width='initial…"
      ]
     },
     "metadata": {
      "tags": []
     },
     "output_type": "display_data"
    },
    {
     "name": "stdout",
     "output_type": "stream",
     "text": [
      " 86%|████████▋ | 316/366 [00:16<00:02, 21.85it/s, loss=3.21]"
     ]
    },
    {
     "data": {
      "image/png": "[encoded data removed]",
      "text/plain": [
       "<Figure size 576x396 with 1 Axes>"
      ]
     },
     "metadata": {
      "tags": []
     },
     "output_type": "display_data"
    }
   ],
   "source": [
    "# freeze lstms and relu layer\n",
    "learn.freeze_to(-1)\n",
    "\n",
    "\n",
    "# perform and plot algorithm to find optimal learning rate\n",
    "learn.lr_find(lrs/1000)\n",
    "learn.sched.plot()"
   ]
  },
  {
   "cell_type": "code",
   "execution_count": null,
   "metadata": {},
   "outputs": [],
   "source": [
    "# readjust discriminative learning rate if necessary\n",
    "lr  = 3e-3\n",
    "lrm = 2.6\n",
    "lrs = np.array([lr/(lrm**4), lr/(lrm**3), lr/(lrm**2), lr/lrm, lr])"
   ]
  },
  {
   "cell_type": "code",
   "execution_count": 28,
   "metadata": {
    "colab": {
     "base_uri": "https://localhost:8080/",
     "height": 1020
    },
    "colab_type": "code",
    "executionInfo": {
     "elapsed": 502310,
     "status": "ok",
     "timestamp": 1549465271025,
     "user": {
      "displayName": "Michael Schimpke",
      "photoUrl": "",
      "userId": "08866054739853401103"
     },
     "user_tz": -60
    },
    "id": "LBucThaGm04h",
    "outputId": "7de94a4d-1bed-4fee-a849-426fbf2e6fb9"
   },
   "outputs": [
    {
     "data": {
      "application/vnd.jupyter.widget-view+json": {
       "model_id": "c6fbc3a59dcd4dc1946f8c9b2a9f839a",
       "version_major": 2,
       "version_minor": 0
      },
      "text/plain": [
       "HBox(children=(IntProgress(value=0, description='Epoch', max=1, style=ProgressStyle(description_width='initial…"
      ]
     },
     "metadata": {
      "tags": []
     },
     "output_type": "display_data"
    },
    {
     "name": "stdout",
     "output_type": "stream",
     "text": [
      "epoch      trn_loss   val_loss   accuracy   \n",
      "    0      0.673547   0.483317   0.811842  \n"
     ]
    }
   ],
   "source": [
    "# fit frozen model for one epoch\n",
    "learn.fit(lrs, 1, wds = wd, cycle_len = 1, use_clr = (8,3))\n",
    "learn.save('clas_0_ext_comb')"
   ]
  },
  {
   "cell_type": "code",
   "execution_count": 29,
   "metadata": {
    "colab": {
     "base_uri": "https://localhost:8080/",
     "height": 1020
    },
    "colab_type": "code",
    "executionInfo": {
     "elapsed": 529136,
     "status": "ok",
     "timestamp": 1549465297855,
     "user": {
      "displayName": "Michael Schimpke",
      "photoUrl": "",
      "userId": "08866054739853401103"
     },
     "user_tz": -60
    },
    "id": "rv68qb2vYrPD",
    "outputId": "b5457b2e-2482-4519-cbf9-2a511a7d5b99"
   },
   "outputs": [
    {
     "data": {
      "application/vnd.jupyter.widget-view+json": {
       "model_id": "5534568840294489986835b34a21eddb",
       "version_major": 2,
       "version_minor": 0
      },
      "text/plain": [
       "HBox(children=(IntProgress(value=0, description='Epoch', max=1, style=ProgressStyle(description_width='initial…"
      ]
     },
     "metadata": {
      "tags": []
     },
     "output_type": "display_data"
    },
    {
     "name": "stdout",
     "output_type": "stream",
     "text": [
      "epoch      trn_loss   val_loss   accuracy   \n",
      "    0      0.630775   0.463105   0.822629  \n"
     ]
    }
   ],
   "source": [
    "learn.load('clas_0_ext_comb')\n",
    "\n",
    "\n",
    "# unfreeze relu layer and fit another epoch\n",
    "learn.freeze_to(-2)\n",
    "learn.fit(lrs, 1, wds = wd, cycle_len = 1, use_clr = (8,3))\n",
    "\n",
    "learn.save('clas_1_ext_comb')"
   ]
  },
  {
   "cell_type": "code",
   "execution_count": 30,
   "metadata": {
    "colab": {
     "base_uri": "https://localhost:8080/",
     "height": 1020
    },
    "colab_type": "code",
    "executionInfo": {
     "elapsed": 690318,
     "status": "ok",
     "timestamp": 1549465459041,
     "user": {
      "displayName": "Michael Schimpke",
      "photoUrl": "",
      "userId": "08866054739853401103"
     },
     "user_tz": -60
    },
    "id": "5qeLjtdVm89O",
    "outputId": "9e31816e-c92d-438e-f144-2a48c04bc222"
   },
   "outputs": [
    {
     "data": {
      "application/vnd.jupyter.widget-view+json": {
       "model_id": "2f6dabc1577f4c73a5066c776f2f9c5e",
       "version_major": 2,
       "version_minor": 0
      },
      "text/plain": [
       "HBox(children=(IntProgress(value=0, description='Epoch', max=3, style=ProgressStyle(description_width='initial…"
      ]
     },
     "metadata": {
      "tags": []
     },
     "output_type": "display_data"
    },
    {
     "name": "stdout",
     "output_type": "stream",
     "text": [
      "epoch      trn_loss   val_loss   accuracy   \n",
      "    0      0.570198   0.449392   0.826225  \n",
      "    1      0.537183   0.430676   0.831955  \n",
      "    2      0.497061   0.453483   0.830814  \n"
     ]
    },
    {
     "data": {
      "image/png": "[encoded data removed]",
      "text/plain": [
       "<Figure size 576x396 with 1 Axes>"
      ]
     },
     "metadata": {
      "tags": []
     },
     "output_type": "display_data"
    }
   ],
   "source": [
    "learn.load('clas_1_ext_comb')\n",
    "\n",
    "\n",
    "# unfreeze all layers and execute final fit\n",
    "learn.unfreeze()\n",
    "learn.fit(lrs, 1, wds = wd, cycle_len = 3, use_clr = (32,10))\n",
    "\n",
    "\n",
    "learn.sched.plot_loss()\n",
    "learn.save('clas_2_ext_comb')"
   ]
  },
  {
   "cell_type": "code",
   "execution_count": 0,
   "metadata": {
    "colab": {},
    "colab_type": "code",
    "id": "QZgjSTcYZGbQ"
   },
   "outputs": [],
   "source": [
    "# load trained classifier for prediction on GOP dataset\n",
    "learn.load('clas_2_ext_comb')\n",
    "\n",
    "# load GOP Debate twitter dataset\n",
    "my_test = pd.read_csv('GOP_Debate.csv')\n",
    "\n",
    "\n",
    "y = my_test.sentiment\n",
    "x = my_test.text"
   ]
  },
  {
   "cell_type": "code",
   "execution_count": 0,
   "metadata": {
    "colab": {},
    "colab_type": "code",
    "id": "ZUKhXGULaII7"
   },
   "outputs": [],
   "source": [
    "test_texts  = np.array(x)\n",
    "test_labels = np.array(y)\n",
    "\n",
    "\n",
    "# create dataframe\n",
    "col_names = ['labels','text']\n",
    "df_test   = pd.DataFrame({'text':test_texts, 'labels':test_labels}, columns = col_names)\n",
    "df_test.to_csv('model_extension_parameters/ft_classifier_large_vocab/test_final_test.csv', \n",
    "               header = False, index = False)"
   ]
  },
  {
   "cell_type": "code",
   "execution_count": 33,
   "metadata": {
    "colab": {
     "base_uri": "https://localhost:8080/",
     "height": 134
    },
    "colab_type": "code",
    "executionInfo": {
     "elapsed": 706477,
     "status": "ok",
     "timestamp": 1549465475211,
     "user": {
      "displayName": "Michael Schimpke",
      "photoUrl": "",
      "userId": "08866054739853401103"
     },
     "user_tz": -60
    },
    "id": "mNpzDnpEazkL",
    "outputId": "118729ce-3e01-4caf-c10f-70bf3fcd18df"
   },
   "outputs": [
    {
     "name": "stdout",
     "output_type": "stream",
     "text": [
      "0\n",
      "1\n",
      "2\n"
     ]
    }
   ],
   "source": [
    "df_test = pd.read_csv('model_extension_parameters/ft_classifier_large_vocab/test_final.csv', \n",
    "                      header = None, chunksize = chunksize)\n",
    "\n",
    "\n",
    "#tokenize dataset\n",
    "tok_test, test_labels = Prep.get_all(df_test, 1)"
   ]
  },
  {
   "cell_type": "code",
   "execution_count": 34,
   "metadata": {
    "colab": {
     "base_uri": "https://localhost:8080/",
     "height": 158
    },
    "colab_type": "code",
    "executionInfo": {
     "elapsed": 706474,
     "status": "ok",
     "timestamp": 1549465475213,
     "user": {
      "displayName": "Michael Schimpke",
      "photoUrl": "",
      "userId": "08866054739853401103"
     },
     "user_tz": -60
    },
    "id": "6A6UnzOrng04",
    "outputId": "5887547d-d7e2-4707-d397-c1f782986d36"
   },
   "outputs": [
    {
     "data": {
      "text/plain": [
       "array([list([2, 3, 1727, 32577, 82, 83, 76, 208, 136, 78, 8, 7913, 464, 952, 114, 96, 17, 950, 5, 0]),\n",
       "       list([2, 3, 1727, 0, 82, 76, 24, 781, 8, 493, 0, 114, 96, 5, 109, 49, 87, 21, 3539, 22, 200, 1571, 19, 2233, 2134, 5, 0, 5396]),\n",
       "       list([2, 3, 1727, 0, 82, 51, 1361, 21, 0, 2143, 13, 8, 0, 36, 3143, 19, 3427, 17, 290, 5]), ...,\n",
       "       list([2, 3, 1727, 0, 82, 0, 102, 4180, 9, 4, 74, 225, 291, 8, 2099, 9, 13, 30, 63, 4, 323, 4, 126, 30, 5, 0]),\n",
       "       list([2, 3, 1727, 0, 82, 0, 13374, 11821, 449, 25, 103, 160, 24, 28, 66, 18, 7671, 0, 5, 83, 160, 1116, 1499, 54, 1171, 6649, 54, 963, 182, 5396]),\n",
       "       list([2, 3, 1727, 0, 82, 0, 1084, 267, 8, 32167, 0, 5, 53, 11, 7174, 6, 6, 6115, 0])], dtype=object)"
      ]
     },
     "execution_count": 34,
     "metadata": {
      "tags": []
     },
     "output_type": "execute_result"
    }
   ],
   "source": [
    "# encode tokens\n",
    "test_clas = np.array([[stoi[o] for o in p] for p in tok_test])\n",
    "test_clas"
   ]
  },
  {
   "cell_type": "code",
   "execution_count": 0,
   "metadata": {
    "colab": {},
    "colab_type": "code",
    "id": "qykxppzHPtpW"
   },
   "outputs": [],
   "source": [
    "# arrange dataset for prediction\n",
    "test_ds = TextDataset(test_clas, test_labels)\n",
    "dl_test = DataLoader(test_ds, bs, transpose = True, num_workers = 1, \n",
    "                     pad_idx = 1)"
   ]
  },
  {
   "cell_type": "code",
   "execution_count": 37,
   "metadata": {
    "colab": {
     "base_uri": "https://localhost:8080/",
     "height": 94
    },
    "colab_type": "code",
    "executionInfo": {
     "elapsed": 723038,
     "status": "ok",
     "timestamp": 1549465491790,
     "user": {
      "displayName": "Michael Schimpke",
      "photoUrl": "",
      "userId": "08866054739853401103"
     },
     "user_tz": -60
    },
    "id": "7JcwxbroNZ2g",
    "outputId": "b050970e-feaa-4570-8aaa-06bc0bfc1e63"
   },
   "outputs": [
    {
     "name": "stdout",
     "output_type": "stream",
     "text": [
      "Accuracy: 0.520942974551222\n"
     ]
    }
   ],
   "source": [
    "# prediction\n",
    "pred_test = learn.predict_dl(dl_test)\n",
    "counter   = 0\n",
    "for i in range(0, len(test_labels)): \n",
    "        pred_test2  = pred_test[i]\n",
    "        pred_aslist = pred_test2.tolist()\n",
    "        probs       = fct.softmax(pred_aslist)\n",
    "        idx,        = np.where(probs == np.amax(probs))\n",
    "        if test_labels[i] == idx:\n",
    "                  counter = counter + 1\n",
    "            \n",
    "            \n",
    "# print out accuracy\n",
    "print('Accuracy: ' + str(counter/len(test_labels)))"
   ]
  }
 ],
 "metadata": {
  "accelerator": "GPU",
  "colab": {
   "collapsed_sections": [],
   "name": "ft_clas_large_vocab",
   "provenance": [],
   "version": "0.3.2"
  },
  "kernelspec": {
   "display_name": "Python 3",
   "language": "python",
   "name": "python3"
  },
  "language_info": {
   "codemirror_mode": {
    "name": "ipython",
    "version": 3
   },
   "file_extension": ".py",
   "mimetype": "text/x-python",
   "name": "python",
   "nbconvert_exporter": "python",
   "pygments_lexer": "ipython3",
   "version": "3.6.8"
  }
 },
 "nbformat": 4,
 "nbformat_minor": 1
}
