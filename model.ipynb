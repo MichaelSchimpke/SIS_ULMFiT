{
 "cells": [
  {
   "cell_type": "code",
   "execution_count": 0,
   "metadata": {
    "colab": {
     "base_uri": "https://localhost:8080/",
     "height": 3409
    },
    "colab_type": "code",
    "executionInfo": {
     "elapsed": 181423,
     "status": "ok",
     "timestamp": 1549459462269,
     "user": {
      "displayName": "Michael Schimpke",
      "photoUrl": "",
      "userId": "08866054739853401103"
     },
     "user_tz": -60
    },
    "id": "oU2jqmXTRihq",
    "outputId": "612625a6-7234-4961-d2ee-1529e8526595"
   },
   "outputs": [
    {
     "name": "stdout",
     "output_type": "stream",
     "text": [
      "Requirement already satisfied: torch==0.3.1 from http://download.pytorch.org/whl/cu80/torch-0.3.1-cp36-cp36m-linux_x86_64.whl in /usr/local/lib/python3.6/dist-packages (0.3.1)\n",
      "Requirement already satisfied: numpy in /usr/local/lib/python3.6/dist-packages (from torch==0.3.1) (1.16.1)\n",
      "Requirement already satisfied: pyyaml in /usr/local/lib/python3.6/dist-packages (from torch==0.3.1) (3.13)\n",
      "Collecting git+https://github.com/fastai/fastai.git\n",
      "  Cloning https://github.com/fastai/fastai.git to /tmp/pip-req-build-duvqc178\n",
      "Requirement already satisfied: bottleneck in /usr/local/lib/python3.6/dist-packages (from fastai==1.0.43.dev0) (1.2.1)\n",
      "Requirement already satisfied: fastprogress>=0.1.18 in /usr/local/lib/python3.6/dist-packages (from fastai==1.0.43.dev0) (0.1.18)\n",
      "Requirement already satisfied: beautifulsoup4 in /usr/local/lib/python3.6/dist-packages (from fastai==1.0.43.dev0) (4.6.3)\n",
      "Requirement already satisfied: matplotlib in /usr/local/lib/python3.6/dist-packages (from fastai==1.0.43.dev0) (3.0.2)\n",
      "Requirement already satisfied: numexpr in /usr/local/lib/python3.6/dist-packages (from fastai==1.0.43.dev0) (2.6.9)\n",
      "Requirement already satisfied: numpy>=1.12 in /usr/local/lib/python3.6/dist-packages (from fastai==1.0.43.dev0) (1.16.1)\n",
      "Requirement already satisfied: nvidia-ml-py3 in /usr/local/lib/python3.6/dist-packages (from fastai==1.0.43.dev0) (7.352.0)\n",
      "Requirement already satisfied: pandas in /usr/local/lib/python3.6/dist-packages (from fastai==1.0.43.dev0) (0.22.0)\n",
      "Requirement already satisfied: packaging in /usr/local/lib/python3.6/dist-packages (from fastai==1.0.43.dev0) (19.0)\n",
      "Requirement already satisfied: Pillow in /usr/local/lib/python3.6/dist-packages (from fastai==1.0.43.dev0) (4.0.0)\n",
      "Requirement already satisfied: pyyaml in /usr/local/lib/python3.6/dist-packages (from fastai==1.0.43.dev0) (3.13)\n",
      "Requirement already satisfied: requests in /usr/local/lib/python3.6/dist-packages (from fastai==1.0.43.dev0) (2.18.4)\n",
      "Requirement already satisfied: scipy in /usr/local/lib/python3.6/dist-packages (from fastai==1.0.43.dev0) (1.1.0)\n",
      "Collecting torch>=1.0.0 (from fastai==1.0.43.dev0)\n",
      "\u001b[?25l  Downloading https://files.pythonhosted.org/packages/f7/92/1ae072a56665e36e81046d5fb8a2f39c7728c25c21df1777486c49b179ae/torch-1.0.1-cp36-cp36m-manylinux1_x86_64.whl (560.0MB)\n",
      "\u001b[K    100% |████████████████████████████████| 560.1MB 24kB/s \n",
      "\u001b[?25hRequirement already satisfied: typing in /usr/local/lib/python3.6/dist-packages (from fastai==1.0.43.dev0) (3.6.6)\n",
      "Requirement already satisfied: spacy>=2.0.18 in /usr/local/lib/python3.6/dist-packages (from fastai==1.0.43.dev0) (2.0.18)\n",
      "Requirement already satisfied: torchvision in /usr/local/lib/python3.6/dist-packages (from fastai==1.0.43.dev0) (0.2.1)\n",
      "Requirement already satisfied: dataclasses in /usr/local/lib/python3.6/dist-packages (from fastai==1.0.43.dev0) (0.6)\n",
      "Requirement already satisfied: cycler>=0.10 in /usr/local/lib/python3.6/dist-packages (from matplotlib->fastai==1.0.43.dev0) (0.10.0)\n",
      "Requirement already satisfied: python-dateutil>=2.1 in /usr/local/lib/python3.6/dist-packages (from matplotlib->fastai==1.0.43.dev0) (2.5.3)\n",
      "Requirement already satisfied: kiwisolver>=1.0.1 in /usr/local/lib/python3.6/dist-packages (from matplotlib->fastai==1.0.43.dev0) (1.0.1)\n",
      "Requirement already satisfied: pyparsing!=2.0.4,!=2.1.2,!=2.1.6,>=2.0.1 in /usr/local/lib/python3.6/dist-packages (from matplotlib->fastai==1.0.43.dev0) (2.3.1)\n",
      "Requirement already satisfied: pytz>=2011k in /usr/local/lib/python3.6/dist-packages (from pandas->fastai==1.0.43.dev0) (2018.9)\n",
      "Requirement already satisfied: six in /usr/local/lib/python3.6/dist-packages (from packaging->fastai==1.0.43.dev0) (1.11.0)\n",
      "Requirement already satisfied: olefile in /usr/local/lib/python3.6/dist-packages (from Pillow->fastai==1.0.43.dev0) (0.46)\n",
      "Requirement already satisfied: urllib3<1.23,>=1.21.1 in /usr/local/lib/python3.6/dist-packages (from requests->fastai==1.0.43.dev0) (1.22)\n",
      "Requirement already satisfied: chardet<3.1.0,>=3.0.2 in /usr/local/lib/python3.6/dist-packages (from requests->fastai==1.0.43.dev0) (3.0.4)\n",
      "Requirement already satisfied: certifi>=2017.4.17 in /usr/local/lib/python3.6/dist-packages (from requests->fastai==1.0.43.dev0) (2018.11.29)\n",
      "Requirement already satisfied: idna<2.7,>=2.5 in /usr/local/lib/python3.6/dist-packages (from requests->fastai==1.0.43.dev0) (2.6)\n",
      "Requirement already satisfied: plac<1.0.0,>=0.9.6 in /usr/local/lib/python3.6/dist-packages (from spacy>=2.0.18->fastai==1.0.43.dev0) (0.9.6)\n",
      "Requirement already satisfied: cymem<2.1.0,>=2.0.2 in /usr/local/lib/python3.6/dist-packages (from spacy>=2.0.18->fastai==1.0.43.dev0) (2.0.2)\n",
      "Requirement already satisfied: dill<0.3,>=0.2 in /usr/local/lib/python3.6/dist-packages (from spacy>=2.0.18->fastai==1.0.43.dev0) (0.2.9)\n",
      "Requirement already satisfied: regex==2018.01.10 in /usr/local/lib/python3.6/dist-packages (from spacy>=2.0.18->fastai==1.0.43.dev0) (2018.1.10)\n",
      "Requirement already satisfied: ujson>=1.35 in /usr/local/lib/python3.6/dist-packages (from spacy>=2.0.18->fastai==1.0.43.dev0) (1.35)\n",
      "Requirement already satisfied: thinc<6.13.0,>=6.12.1 in /usr/local/lib/python3.6/dist-packages (from spacy>=2.0.18->fastai==1.0.43.dev0) (6.12.1)\n",
      "Requirement already satisfied: murmurhash<1.1.0,>=0.28.0 in /usr/local/lib/python3.6/dist-packages (from spacy>=2.0.18->fastai==1.0.43.dev0) (1.0.1)\n",
      "Requirement already satisfied: preshed<2.1.0,>=2.0.1 in /usr/local/lib/python3.6/dist-packages (from spacy>=2.0.18->fastai==1.0.43.dev0) (2.0.1)\n",
      "Requirement already satisfied: setuptools in /usr/local/lib/python3.6/dist-packages (from kiwisolver>=1.0.1->matplotlib->fastai==1.0.43.dev0) (40.7.3)\n",
      "Requirement already satisfied: msgpack-numpy<0.4.4 in /usr/local/lib/python3.6/dist-packages (from thinc<6.13.0,>=6.12.1->spacy>=2.0.18->fastai==1.0.43.dev0) (0.4.3.2)\n",
      "Requirement already satisfied: tqdm<5.0.0,>=4.10.0 in /usr/local/lib/python3.6/dist-packages (from thinc<6.13.0,>=6.12.1->spacy>=2.0.18->fastai==1.0.43.dev0) (4.28.1)\n",
      "Requirement already satisfied: cytoolz<0.10,>=0.9.0 in /usr/local/lib/python3.6/dist-packages (from thinc<6.13.0,>=6.12.1->spacy>=2.0.18->fastai==1.0.43.dev0) (0.9.0.1)\n",
      "Requirement already satisfied: wrapt<1.11.0,>=1.10.0 in /usr/local/lib/python3.6/dist-packages (from thinc<6.13.0,>=6.12.1->spacy>=2.0.18->fastai==1.0.43.dev0) (1.10.11)\n",
      "Requirement already satisfied: msgpack<0.6.0,>=0.5.6 in /usr/local/lib/python3.6/dist-packages (from thinc<6.13.0,>=6.12.1->spacy>=2.0.18->fastai==1.0.43.dev0) (0.5.6)\n",
      "Requirement already satisfied: toolz>=0.8.0 in /usr/local/lib/python3.6/dist-packages (from cytoolz<0.10,>=0.9.0->thinc<6.13.0,>=6.12.1->spacy>=2.0.18->fastai==1.0.43.dev0) (0.9.0)\n",
      "Building wheels for collected packages: fastai\n",
      "  Building wheel for fastai (setup.py) ... \u001b[?25ldone\n",
      "\u001b[?25h  Stored in directory: /tmp/pip-ephem-wheel-cache-ps14yyaf/wheels/cf/46/39/b2d08762125ed2376861976ab2c4ac30c029b86e375735d9b8\n",
      "Successfully built fastai\n",
      "\u001b[31mtorchvision 0.2.1 has requirement pillow>=4.1.1, but you'll have pillow 4.0.0 which is incompatible.\u001b[0m\n",
      "Installing collected packages: torch, fastai\n",
      "  Found existing installation: torch 0.3.1\n",
      "    Uninstalling torch-0.3.1:\n",
      "      Successfully uninstalled torch-0.3.1\n",
      "  Found existing installation: fastai 0.7.0\n",
      "    Uninstalling fastai-0.7.0:\n",
      "      Successfully uninstalled fastai-0.7.0\n",
      "Successfully installed fastai-1.0.43.dev0 torch-1.0.1\n",
      "Collecting fastai==0.7.0\n",
      "  Using cached https://files.pythonhosted.org/packages/50/6d/9d0d6e17a78b0598d5e8c49a0d03ffc7ff265ae62eca3e2345fab14edb9b/fastai-0.7.0-py3-none-any.whl\n",
      "Requirement already satisfied: certifi in /usr/local/lib/python3.6/dist-packages (from fastai==0.7.0) (2018.11.29)\n",
      "Requirement already satisfied: ipywidgets in /usr/local/lib/python3.6/dist-packages (from fastai==0.7.0) (7.4.2)\n",
      "Requirement already satisfied: bcolz in /usr/local/lib/python3.6/dist-packages (from fastai==0.7.0) (1.2.1)\n",
      "Requirement already satisfied: isoweek in /usr/local/lib/python3.6/dist-packages (from fastai==0.7.0) (1.3.3)\n",
      "Requirement already satisfied: pyparsing in /usr/local/lib/python3.6/dist-packages (from fastai==0.7.0) (2.3.1)\n",
      "Requirement already satisfied: traitlets in /usr/local/lib/python3.6/dist-packages (from fastai==0.7.0) (4.3.2)\n",
      "Requirement already satisfied: Pygments in /usr/local/lib/python3.6/dist-packages (from fastai==0.7.0) (2.1.3)\n",
      "Requirement already satisfied: tqdm in /usr/local/lib/python3.6/dist-packages (from fastai==0.7.0) (4.28.1)\n",
      "Requirement already satisfied: simplegeneric in /usr/local/lib/python3.6/dist-packages (from fastai==0.7.0) (0.8.1)\n",
      "Requirement already satisfied: opencv-python in /usr/local/lib/python3.6/dist-packages (from fastai==0.7.0) (3.4.5.20)\n",
      "Requirement already satisfied: seaborn in /usr/local/lib/python3.6/dist-packages (from fastai==0.7.0) (0.7.1)\n",
      "Requirement already satisfied: MarkupSafe in /usr/local/lib/python3.6/dist-packages (from fastai==0.7.0) (1.1.0)\n",
      "Requirement already satisfied: Pillow in /usr/local/lib/python3.6/dist-packages (from fastai==0.7.0) (4.0.0)\n",
      "Requirement already satisfied: webencodings in /usr/local/lib/python3.6/dist-packages (from fastai==0.7.0) (0.5.1)\n",
      "Requirement already satisfied: ipython-genutils in /usr/local/lib/python3.6/dist-packages (from fastai==0.7.0) (0.2.0)\n",
      "Requirement already satisfied: testpath in /usr/local/lib/python3.6/dist-packages (from fastai==0.7.0) (0.4.2)\n",
      "Requirement already satisfied: ptyprocess in /usr/local/lib/python3.6/dist-packages (from fastai==0.7.0) (0.6.0)\n",
      "Requirement already satisfied: pandas in /usr/local/lib/python3.6/dist-packages (from fastai==0.7.0) (0.22.0)\n",
      "Requirement already satisfied: torchtext in /usr/local/lib/python3.6/dist-packages (from fastai==0.7.0) (0.2.3)\n",
      "Requirement already satisfied: entrypoints in /usr/local/lib/python3.6/dist-packages (from fastai==0.7.0) (0.3)\n",
      "Requirement already satisfied: wcwidth in /usr/local/lib/python3.6/dist-packages (from fastai==0.7.0) (0.1.7)\n",
      "Requirement already satisfied: Jinja2 in /usr/local/lib/python3.6/dist-packages (from fastai==0.7.0) (2.10)\n",
      "Requirement already satisfied: jupyter in /usr/local/lib/python3.6/dist-packages (from fastai==0.7.0) (1.0.0)\n",
      "Requirement already satisfied: feather-format in /usr/local/lib/python3.6/dist-packages (from fastai==0.7.0) (0.4.0)\n",
      "Requirement already satisfied: pyzmq in /usr/local/lib/python3.6/dist-packages (from fastai==0.7.0) (17.0.0)\n",
      "Requirement already satisfied: matplotlib in /usr/local/lib/python3.6/dist-packages (from fastai==0.7.0) (3.0.2)\n",
      "Requirement already satisfied: cycler in /usr/local/lib/python3.6/dist-packages (from fastai==0.7.0) (0.10.0)\n",
      "Requirement already satisfied: plotnine in /usr/local/lib/python3.6/dist-packages (from fastai==0.7.0) (0.5.1)\n",
      "Requirement already satisfied: html5lib in /usr/local/lib/python3.6/dist-packages (from fastai==0.7.0) (1.0.1)\n",
      "Requirement already satisfied: pandas-summary in /usr/local/lib/python3.6/dist-packages (from fastai==0.7.0) (0.0.6)\n",
      "Requirement already satisfied: ipython in /usr/local/lib/python3.6/dist-packages (from fastai==0.7.0) (5.5.0)\n",
      "Requirement already satisfied: graphviz in /usr/local/lib/python3.6/dist-packages (from fastai==0.7.0) (0.10.1)\n",
      "Requirement already satisfied: bleach in /usr/local/lib/python3.6/dist-packages (from fastai==0.7.0) (3.1.0)\n",
      "Requirement already satisfied: widgetsnbextension in /usr/local/lib/python3.6/dist-packages (from fastai==0.7.0) (3.4.2)\n",
      "Requirement already satisfied: decorator in /usr/local/lib/python3.6/dist-packages (from fastai==0.7.0) (4.3.2)\n",
      "Requirement already satisfied: pickleshare in /usr/local/lib/python3.6/dist-packages (from fastai==0.7.0) (0.7.5)\n",
      "Requirement already satisfied: pytz in /usr/local/lib/python3.6/dist-packages (from fastai==0.7.0) (2018.9)\n",
      "Collecting torch<0.4 (from fastai==0.7.0)\n",
      "\u001b[?25l  Downloading https://files.pythonhosted.org/packages/5b/a5/e8b50b55b1abac9f1e3346c4242f1e42a82d368a8442cbd50c532922f6c4/torch-0.3.1-cp36-cp36m-manylinux1_x86_64.whl (496.4MB)\n",
      "\u001b[K    100% |████████████████████████████████| 496.4MB 34kB/s \n",
      "\u001b[?25hRequirement already satisfied: jedi in /usr/local/lib/python3.6/dist-packages (from fastai==0.7.0) (0.13.2)\n",
      "Requirement already satisfied: jsonschema in /usr/local/lib/python3.6/dist-packages (from fastai==0.7.0) (2.6.0)\n",
      "Requirement already satisfied: sklearn-pandas in /usr/local/lib/python3.6/dist-packages (from fastai==0.7.0) (1.8.0)\n",
      "Requirement already satisfied: numpy in /usr/local/lib/python3.6/dist-packages (from fastai==0.7.0) (1.16.1)\n",
      "Requirement already satisfied: torchvision in /usr/local/lib/python3.6/dist-packages (from fastai==0.7.0) (0.2.1)\n",
      "Requirement already satisfied: python-dateutil in /usr/local/lib/python3.6/dist-packages (from fastai==0.7.0) (2.5.3)\n",
      "Requirement already satisfied: scipy in /usr/local/lib/python3.6/dist-packages (from fastai==0.7.0) (1.1.0)\n",
      "Requirement already satisfied: tornado in /usr/local/lib/python3.6/dist-packages (from fastai==0.7.0) (4.5.3)\n",
      "Requirement already satisfied: PyYAML in /usr/local/lib/python3.6/dist-packages (from fastai==0.7.0) (3.13)\n",
      "Requirement already satisfied: ipykernel in /usr/local/lib/python3.6/dist-packages (from fastai==0.7.0) (4.6.1)\n",
      "Requirement already satisfied: nbformat>=4.2.0 in /usr/local/lib/python3.6/dist-packages (from ipywidgets->fastai==0.7.0) (4.4.0)\n",
      "Requirement already satisfied: six in /usr/local/lib/python3.6/dist-packages (from traitlets->fastai==0.7.0) (1.11.0)\n",
      "Requirement already satisfied: olefile in /usr/local/lib/python3.6/dist-packages (from Pillow->fastai==0.7.0) (0.46)\n",
      "Requirement already satisfied: requests in /usr/local/lib/python3.6/dist-packages (from torchtext->fastai==0.7.0) (2.18.4)\n",
      "Requirement already satisfied: qtconsole in /usr/local/lib/python3.6/dist-packages (from jupyter->fastai==0.7.0) (4.4.3)\n",
      "Requirement already satisfied: notebook in /usr/local/lib/python3.6/dist-packages (from jupyter->fastai==0.7.0) (5.2.2)\n",
      "Requirement already satisfied: nbconvert in /usr/local/lib/python3.6/dist-packages (from jupyter->fastai==0.7.0) (5.4.0)\n",
      "Requirement already satisfied: jupyter-console in /usr/local/lib/python3.6/dist-packages (from jupyter->fastai==0.7.0) (6.0.0)\n",
      "Requirement already satisfied: pyarrow>=0.4.0 in /usr/local/lib/python3.6/dist-packages (from feather-format->fastai==0.7.0) (0.12.0)\n",
      "Requirement already satisfied: kiwisolver>=1.0.1 in /usr/local/lib/python3.6/dist-packages (from matplotlib->fastai==0.7.0) (1.0.1)\n",
      "Requirement already satisfied: descartes>=1.1.0 in /usr/local/lib/python3.6/dist-packages (from plotnine->fastai==0.7.0) (1.1.0)\n",
      "Requirement already satisfied: mizani>=0.5.2 in /usr/local/lib/python3.6/dist-packages (from plotnine->fastai==0.7.0) (0.5.3)\n",
      "Requirement already satisfied: patsy>=0.4.1 in /usr/local/lib/python3.6/dist-packages (from plotnine->fastai==0.7.0) (0.5.1)\n",
      "Requirement already satisfied: statsmodels>=0.8.0 in /usr/local/lib/python3.6/dist-packages (from plotnine->fastai==0.7.0) (0.8.0)\n",
      "Requirement already satisfied: pexpect; sys_platform != \"win32\" in /usr/local/lib/python3.6/dist-packages (from ipython->fastai==0.7.0) (4.6.0)\n",
      "Requirement already satisfied: setuptools>=18.5 in /usr/local/lib/python3.6/dist-packages (from ipython->fastai==0.7.0) (40.7.3)\n",
      "Requirement already satisfied: prompt-toolkit<2.0.0,>=1.0.4 in /usr/local/lib/python3.6/dist-packages (from ipython->fastai==0.7.0) (1.0.15)\n",
      "Requirement already satisfied: parso>=0.3.0 in /usr/local/lib/python3.6/dist-packages (from jedi->fastai==0.7.0) (0.3.3)\n",
      "Requirement already satisfied: scikit-learn>=0.15.0 in /usr/local/lib/python3.6/dist-packages (from sklearn-pandas->fastai==0.7.0) (0.20.2)\n",
      "Requirement already satisfied: jupyter-client in /usr/local/lib/python3.6/dist-packages (from ipykernel->fastai==0.7.0) (5.2.4)\n",
      "Requirement already satisfied: jupyter-core in /usr/local/lib/python3.6/dist-packages (from nbformat>=4.2.0->ipywidgets->fastai==0.7.0) (4.4.0)\n",
      "Requirement already satisfied: chardet<3.1.0,>=3.0.2 in /usr/local/lib/python3.6/dist-packages (from requests->torchtext->fastai==0.7.0) (3.0.4)\n",
      "Requirement already satisfied: idna<2.7,>=2.5 in /usr/local/lib/python3.6/dist-packages (from requests->torchtext->fastai==0.7.0) (2.6)\n",
      "Requirement already satisfied: urllib3<1.23,>=1.21.1 in /usr/local/lib/python3.6/dist-packages (from requests->torchtext->fastai==0.7.0) (1.22)\n",
      "Requirement already satisfied: terminado>=0.3.3; sys_platform != \"win32\" in /usr/local/lib/python3.6/dist-packages (from notebook->jupyter->fastai==0.7.0) (0.8.1)\n",
      "Requirement already satisfied: defusedxml in /usr/local/lib/python3.6/dist-packages (from nbconvert->jupyter->fastai==0.7.0) (0.5.0)\n",
      "Requirement already satisfied: pandocfilters>=1.4.1 in /usr/local/lib/python3.6/dist-packages (from nbconvert->jupyter->fastai==0.7.0) (1.4.2)\n",
      "Requirement already satisfied: mistune>=0.8.1 in /usr/local/lib/python3.6/dist-packages (from nbconvert->jupyter->fastai==0.7.0) (0.8.4)\n",
      "Requirement already satisfied: palettable in /usr/local/lib/python3.6/dist-packages (from mizani>=0.5.2->plotnine->fastai==0.7.0) (3.1.1)\n",
      "\u001b[31mtorchvision 0.2.1 has requirement pillow>=4.1.1, but you'll have pillow 4.0.0 which is incompatible.\u001b[0m\n",
      "Installing collected packages: torch, fastai\n",
      "  Found existing installation: torch 1.0.1\n",
      "    Uninstalling torch-1.0.1:\n",
      "      Successfully uninstalled torch-1.0.1\n",
      "  Found existing installation: fastai 1.0.43.dev0\n",
      "    Uninstalling fastai-1.0.43.dev0:\n",
      "      Successfully uninstalled fastai-1.0.43.dev0\n",
      "Successfully installed fastai-0.7.0 torch-0.3.1\n"
     ]
    },
    {
     "data": {
      "application/vnd.colab-display-data+json": {
       "pip_warning": {
        "packages": [
         "torch"
        ]
       }
      }
     },
     "metadata": {
      "tags": []
     },
     "output_type": "display_data"
    },
    {
     "name": "stdout",
     "output_type": "stream",
     "text": [
      "Requirement already satisfied: torchtext==0.2.3 in /usr/local/lib/python3.6/dist-packages (0.2.3)\n",
      "Requirement already satisfied: tqdm in /usr/local/lib/python3.6/dist-packages (from torchtext==0.2.3) (4.28.1)\n",
      "Requirement already satisfied: requests in /usr/local/lib/python3.6/dist-packages (from torchtext==0.2.3) (2.18.4)\n",
      "Requirement already satisfied: urllib3<1.23,>=1.21.1 in /usr/local/lib/python3.6/dist-packages (from requests->torchtext==0.2.3) (1.22)\n",
      "Requirement already satisfied: idna<2.7,>=2.5 in /usr/local/lib/python3.6/dist-packages (from requests->torchtext==0.2.3) (2.6)\n",
      "Requirement already satisfied: certifi>=2017.4.17 in /usr/local/lib/python3.6/dist-packages (from requests->torchtext==0.2.3) (2018.11.29)\n",
      "Requirement already satisfied: chardet<3.1.0,>=3.0.2 in /usr/local/lib/python3.6/dist-packages (from requests->torchtext==0.2.3) (3.0.4)\n",
      "Requirement already satisfied: spacy in /usr/local/lib/python3.6/dist-packages (2.0.18)\n",
      "Requirement already satisfied: cymem<2.1.0,>=2.0.2 in /usr/local/lib/python3.6/dist-packages (from spacy) (2.0.2)\n",
      "Requirement already satisfied: numpy>=1.15.0 in /usr/local/lib/python3.6/dist-packages (from spacy) (1.16.1)\n",
      "Requirement already satisfied: ujson>=1.35 in /usr/local/lib/python3.6/dist-packages (from spacy) (1.35)\n",
      "Requirement already satisfied: thinc<6.13.0,>=6.12.1 in /usr/local/lib/python3.6/dist-packages (from spacy) (6.12.1)\n",
      "Requirement already satisfied: dill<0.3,>=0.2 in /usr/local/lib/python3.6/dist-packages (from spacy) (0.2.9)\n",
      "Requirement already satisfied: plac<1.0.0,>=0.9.6 in /usr/local/lib/python3.6/dist-packages (from spacy) (0.9.6)\n",
      "Requirement already satisfied: preshed<2.1.0,>=2.0.1 in /usr/local/lib/python3.6/dist-packages (from spacy) (2.0.1)\n",
      "Requirement already satisfied: regex==2018.01.10 in /usr/local/lib/python3.6/dist-packages (from spacy) (2018.1.10)\n",
      "Requirement already satisfied: murmurhash<1.1.0,>=0.28.0 in /usr/local/lib/python3.6/dist-packages (from spacy) (1.0.1)\n",
      "Requirement already satisfied: requests<3.0.0,>=2.13.0 in /usr/local/lib/python3.6/dist-packages (from spacy) (2.18.4)\n",
      "Requirement already satisfied: wrapt<1.11.0,>=1.10.0 in /usr/local/lib/python3.6/dist-packages (from thinc<6.13.0,>=6.12.1->spacy) (1.10.11)\n",
      "Requirement already satisfied: tqdm<5.0.0,>=4.10.0 in /usr/local/lib/python3.6/dist-packages (from thinc<6.13.0,>=6.12.1->spacy) (4.28.1)\n",
      "Requirement already satisfied: six<2.0.0,>=1.10.0 in /usr/local/lib/python3.6/dist-packages (from thinc<6.13.0,>=6.12.1->spacy) (1.11.0)\n",
      "Requirement already satisfied: cytoolz<0.10,>=0.9.0 in /usr/local/lib/python3.6/dist-packages (from thinc<6.13.0,>=6.12.1->spacy) (0.9.0.1)\n",
      "Requirement already satisfied: msgpack-numpy<0.4.4 in /usr/local/lib/python3.6/dist-packages (from thinc<6.13.0,>=6.12.1->spacy) (0.4.3.2)\n",
      "Requirement already satisfied: msgpack<0.6.0,>=0.5.6 in /usr/local/lib/python3.6/dist-packages (from thinc<6.13.0,>=6.12.1->spacy) (0.5.6)\n",
      "Requirement already satisfied: idna<2.7,>=2.5 in /usr/local/lib/python3.6/dist-packages (from requests<3.0.0,>=2.13.0->spacy) (2.6)\n",
      "Requirement already satisfied: certifi>=2017.4.17 in /usr/local/lib/python3.6/dist-packages (from requests<3.0.0,>=2.13.0->spacy) (2018.11.29)\n",
      "Requirement already satisfied: urllib3<1.23,>=1.21.1 in /usr/local/lib/python3.6/dist-packages (from requests<3.0.0,>=2.13.0->spacy) (1.22)\n",
      "Requirement already satisfied: chardet<3.1.0,>=3.0.2 in /usr/local/lib/python3.6/dist-packages (from requests<3.0.0,>=2.13.0->spacy) (3.0.4)\n",
      "Requirement already satisfied: toolz>=0.8.0 in /usr/local/lib/python3.6/dist-packages (from cytoolz<0.10,>=0.9.0->thinc<6.13.0,>=6.12.1->spacy) (0.9.0)\n",
      "Requirement already satisfied: en_core_web_sm==2.0.0 from https://github.com/explosion/spacy-models/releases/download/en_core_web_sm-2.0.0/en_core_web_sm-2.0.0.tar.gz#egg=en_core_web_sm==2.0.0 in /usr/local/lib/python3.6/dist-packages (2.0.0)\n",
      "\n",
      "\u001b[93m    Linking successful\u001b[0m\n",
      "    /usr/local/lib/python3.6/dist-packages/en_core_web_sm -->\n",
      "    /usr/local/lib/python3.6/dist-packages/spacy/data/en\n",
      "\n",
      "    You can now load the model via spacy.load('en')\n",
      "\n",
      "Collecting nbimporter\n",
      "  Downloading https://files.pythonhosted.org/packages/39/a1/9771984f60c4ea6d0c36215b44a5c1537cfda845c08e7ee5cf748c43d7cf/nbimporter-0.3.1.tar.gz\n",
      "Building wheels for collected packages: nbimporter\n",
      "  Building wheel for nbimporter (setup.py) ... \u001b[?25ldone\n",
      "\u001b[?25h  Stored in directory: /root/.cache/pip/wheels/44/7d/40/f48fe3f0995a282d582ca73a6807b9bb23c8cc3f1525e62429\n",
      "Successfully built nbimporter\n",
      "Installing collected packages: nbimporter\n",
      "Successfully installed nbimporter-0.3.1\n"
     ]
    }
   ],
   "source": [
    "import pandas as pd\n",
    "import numpy as np\n",
    "import torch\n",
    "!pip install fastai==0.7.0\n",
    "!pip install torchtext==0.2.3\n",
    "\n",
    "import fastai\n",
    "from fastai.imports import *\n",
    "from fastai.torch_imports import *\n",
    "from fastai.core import *\n",
    "from fastai.model import fit\n",
    "from fastai.dataset import *\n",
    "\n",
    "import torchtext\n",
    "from torchtext import vocab, data\n",
    "from torchtext.datasets import language_modeling\n",
    "\n",
    "from fastai.rnn_reg import *\n",
    "from fastai.rnn_train import *\n",
    "from fastai.nlp import *\n",
    "from fastai.lm_rnn import *\n",
    "from fastai.text import *\n",
    "\n",
    "import dill as pickle\n",
    "!pip install spacy\n",
    "!python -m spacy download en\n",
    "import spacy\n",
    "import html\n",
    "\n",
    "import pickle\n",
    "import collections\n",
    "import math\n",
    "!pip install nbimporter\n",
    "import nbimporter"
   ]
  },
  {
   "cell_type": "code",
   "execution_count": 0,
   "metadata": {
    "colab": {},
    "colab_type": "code",
    "id": "j999xq9HP0SF"
   },
   "outputs": [],
   "source": [
    "## DATA CLEANING AND TOKENIZATION\n",
    "\n",
    "\n",
    "# define paths and load data\n",
    "clas_path = Path('clas')\n",
    "lm_path   = Path('lm')\n",
    "my_data   = pd.read_csv('datasets/us_airline.csv')\n",
    "\n",
    "y = my_data.airline_sentiment\n",
    "x = my_data.text\n",
    "\n",
    "## classification\n",
    "# create training and validation sets\n",
    "trn_texts,val_texts, trn_labels, val_labels = sklearn.model_selection.train_test_split(\n",
    "                                              x, y, test_size = 0.2,\n",
    "                                              random_state = 41)\n",
    "\n",
    "trn_texts  = np.array(trn_texts)\n",
    "trn_labels = np.array(trn_labels)\n",
    "val_texts  = np.array(val_texts)\n",
    "val_labels = np.array(val_labels)\n",
    "\n",
    "\n",
    "# randomize order\n",
    "np.random.seed(42)\n",
    "trn_idx = np.random.permutation(len(trn_texts))\n",
    "val_idx = np.random.permutation(len(val_texts))\n",
    "\n",
    "\n",
    "# reorder texts\n",
    "trn_texts = trn_texts[trn_idx]\n",
    "val_texts = val_texts[val_idx]\n",
    "\n",
    "\n",
    "# reorder labels \n",
    "trn_labels = trn_labels[trn_idx]\n",
    "val_labels = val_labels[val_idx]\n",
    "\n",
    "\n",
    "# create dataframe\n",
    "col_names = ['labels','text']\n",
    "df_trn    = pd.DataFrame({'text':trn_texts, 'labels':trn_labels}, columns = col_names)\n",
    "df_val    = pd.DataFrame({'text':val_texts, 'labels':val_labels}, columns = col_names)\n",
    "\n",
    "\n",
    "# save training and validation dataset\n",
    "classes = ['Positive', 'Negative', 'Neutral']\n",
    "df_trn.to_csv(clas_path/'train.csv', header = False, index = False)\n",
    "df_val.to_csv(clas_path/'test.csv', header = False, index = False)\n",
    "(clas_path/'classes.txt').open('w').writelines(f'{o}\\n' for o in classes)\n",
    "\n",
    "\n",
    "## language model\n",
    "# create training and validation sets\n",
    "trn_texts, val_texts = sklearn.model_selection.train_test_split(\n",
    "                     np.concatenate([trn_texts,val_texts]), test_size = 0.1,\n",
    "                     random_state = 43)\n",
    "\n",
    "\n",
    "# saving training and validation dataset\n",
    "df_trn = pd.DataFrame({'text':trn_texts, 'labels':\n",
    "                       [0]*len(trn_texts)}, columns = col_names)\n",
    "df_val = pd.DataFrame({'text':val_texts, 'labels':\n",
    "                       [0]*len(val_texts)}, columns = col_names)\n",
    "\n",
    "df_trn.to_csv(lm_path/'train.csv', header = False, index = False)\n",
    "df_val.to_csv(lm_path/'test.csv', header = False, index = False)"
   ]
  },
  {
   "cell_type": "code",
   "execution_count": 0,
   "metadata": {
    "colab": {
     "base_uri": "https://localhost:8080/",
     "height": 174
    },
    "colab_type": "code",
    "executionInfo": {
     "elapsed": 16839,
     "status": "ok",
     "timestamp": 1549316992073,
     "user": {
      "displayName": "Michael Schimpke",
      "photoUrl": "",
      "userId": "08866054739853401103"
     },
     "user_tz": -60
    },
    "id": "HlWY9XWqP0SJ",
    "outputId": "cb16ad4d-bf39-4c6b-9428-ba1c4676bcda"
   },
   "outputs": [
    {
     "name": "stdout",
     "output_type": "stream",
     "text": [
      "0\n",
      "1\n",
      "2\n",
      "0\n"
     ]
    }
   ],
   "source": [
    "from functions import Prep\n",
    "\n",
    "# tokenization\n",
    "chunksize = 5000\n",
    "BOS       = 'xbos'  # beginning-of-sentence tag\n",
    "df_trn    = pd.read_csv(lm_path/'train.csv', header = None, chunksize = chunksize)\n",
    "df_val    = pd.read_csv(lm_path/'test.csv', header = None, chunksize = chunksize)\n",
    "\n",
    "tok_trn, trn_labels = Prep.get_all(df_trn, 1)\n",
    "tok_val, val_labels = Prep.get_all(df_val, 1)\n",
    "\n",
    "# save tokenization\n",
    "np.save(lm_path/'tok_trn.npy', tok_trn)\n",
    "np.save(lm_path/'tok_val.npy', tok_val)"
   ]
  },
  {
   "cell_type": "code",
   "execution_count": 0,
   "metadata": {
    "colab": {},
    "colab_type": "code",
    "id": "qx90RCydP0SM"
   },
   "outputs": [],
   "source": [
    "# limit vocabulary\n",
    "max_vocab = 60000\n",
    "min_freq  = 2\n",
    "\n",
    "freq = Counter(p for o in tok_trn for p in o)\n",
    "\n",
    "\n",
    "# create translation from integer to string and string to integer\n",
    "itos = [o for o,c in freq.most_common(max_vocab) if c > min_freq]\n",
    "itos.insert(0, '_unk_')\n",
    "itos.insert(1, '_pad_')\n",
    "\n",
    "stoi = collections.defaultdict(lambda:0, \n",
    "                               {v:k for k,v in enumerate(itos)})\n",
    "\n",
    "\n",
    "# tweets expressed as integers\n",
    "trn_lm = np.array([[stoi[o] for o in p] for p in tok_trn])\n",
    "val_lm = np.array([[stoi[o] for o in p] for p in tok_val])\n",
    "\n",
    "\n",
    "# save dictionary\n",
    "np.save(lm_path/'trn_ids.npy', trn_lm)\n",
    "np.save(lm_path/'val_ids.npy', val_lm)\n",
    "pickle.dump(itos, open(lm_path/'itos.pkl', 'wb'))"
   ]
  },
  {
   "cell_type": "code",
   "execution_count": 0,
   "metadata": {
    "colab": {},
    "colab_type": "code",
    "id": "qvD_mDuTP0SO"
   },
   "outputs": [],
   "source": [
    "## PRETRAINED LANGUAGE MODEL\n",
    "\n",
    "\n",
    "# set model parameters\n",
    "em_sz, nh, nl = 400, 1150, 3\n",
    "\n",
    "\n",
    "# load itos and stoi from the pretrained Wikitext language model\n",
    "with open('wt103/itos_wt103.pkl', 'rb') as pickle_file:\n",
    "    itos_wiki = pickle.load(pickle_file)\n",
    "    \n",
    "stoi_wiki = collections.defaultdict(lambda: -1, {v:k for k,v \n",
    "                                              in enumerate(itos_wiki)})\n",
    "\n",
    "lm_wgts_wiki = torch.load('wt103/fwd_wt103.h5', map_location = lambda storage, \n",
    "                  loc: storage)\n",
    "\n",
    "\n",
    "# match tokens between the two vocabularies\n",
    "enc_wgts = lm_wgts_wiki['0.encoder.weight'].numpy()\n",
    "row_m    = np.mean(enc_wgts, axis = 0)\n",
    "\n",
    "new_wm = np.zeros((len(itos), em_sz), dtype = np.float32)\n",
    "for i,w in enumerate(itos):\n",
    "    r  = stoi_wiki[w]\n",
    "    new_wm[i] = enc_wgts[r] if r >= 0 else row_m\n",
    "    \n",
    "lm_wgts_wiki['0.encoder.weight']                    = T(new_wm)\n",
    "lm_wgts_wiki['0.encoder_with_dropout.embed.weight'] = T(np.copy(new_wm))\n",
    "lm_wgts_wiki['1.decoder.weight']                    = T(np.copy(new_wm))"
   ]
  },
  {
   "cell_type": "code",
   "execution_count": 0,
   "metadata": {
    "colab": {},
    "colab_type": "code",
    "id": "KVrEGUqIP0SP"
   },
   "outputs": [],
   "source": [
    "wd   = 1e-7\n",
    "bptt = 70\n",
    "bs   = 64\n",
    "t    = len(np.concatenate(trn_lm))\n",
    "\n",
    "\n",
    "# define optimizer and create data loader \n",
    "opt_fn  = partial(optim.Adam, betas = (0.8, 0.99))\n",
    "trn_dl  = LanguageModelLoader(np.concatenate(trn_lm), bs, bptt)\n",
    "val_dl  = LanguageModelLoader(np.concatenate(val_lm), bs, bptt)"
   ]
  },
  {
   "cell_type": "code",
   "execution_count": 0,
   "metadata": {
    "colab": {},
    "colab_type": "code",
    "id": "GRCppTrCP0SR"
   },
   "outputs": [],
   "source": [
    "## CREATE MODEL ARCHITECTURE\n",
    "\n",
    "\n",
    "md = LanguageModelData('', pad_idx = 1, n_tok = len(itos), trn_dl = trn_dl, val_dl = val_dl, bs = bs, \n",
    "                       bptt = bptt)\n",
    "\n",
    "# define droupout parameters and create model architecture\n",
    "drops   = np.array([0.25, 0.1, 0.2, 0.02, 0.15])*0.7\n",
    "learner = md.get_model(opt_fn, em_sz, nh, nl, \n",
    "          dropouti = drops[0], dropout = drops[1], wdrop = drops[2],\n",
    "          dropoute = drops[3], dropouth = drops[4])\n",
    "\n",
    "learner.metrics = [accuracy]\n",
    "learner.freeze_to(-1)"
   ]
  },
  {
   "cell_type": "code",
   "execution_count": 0,
   "metadata": {
    "colab": {
     "base_uri": "https://localhost:8080/",
     "height": 1020
    },
    "colab_type": "code",
    "executionInfo": {
     "elapsed": 25408,
     "status": "ok",
     "timestamp": 1549317047792,
     "user": {
      "displayName": "Michael Schimpke",
      "photoUrl": "",
      "userId": "08866054739853401103"
     },
     "user_tz": -60
    },
    "id": "8IDb-JyHP0SS",
    "outputId": "6aa675c6-d78a-496a-f2d7-f6c514057c8f",
    "scrolled": true
   },
   "outputs": [
    {
     "data": {
      "application/vnd.jupyter.widget-view+json": {
       "model_id": "920d91b5d16648afb5694d8553877d6a",
       "version_major": 2,
       "version_minor": 0
      },
      "text/plain": [
       "HBox(children=(IntProgress(value=0, description='Epoch', max=1, style=ProgressStyle(description_width='initial…"
      ]
     },
     "metadata": {
      "tags": []
     },
     "output_type": "display_data"
    },
    {
     "name": "stdout",
     "output_type": "stream",
     "text": [
      "epoch      trn_loss   val_loss   accuracy   \n",
      "    0      6.254568   5.924486   0.118115  \n",
      "\n"
     ]
    },
    {
     "data": {
      "text/plain": [
       "[array([5.92449]), 0.11811501228305847]"
      ]
     },
     "execution_count": 29,
     "metadata": {
      "tags": []
     },
     "output_type": "execute_result"
    }
   ],
   "source": [
    "# load model weights from pretrained wikipedia model\n",
    "learner.model.load_state_dict(lm_wgts_wiki)\n",
    "\n",
    "\n",
    "# set initial learning rate\n",
    "lr  = 1e-3\n",
    "\n",
    "\n",
    "# fit model with frozen lstm for one epoch\n",
    "learner.fit(lr, 1, wds = wd, use_clr = (32,2), cycle_len = 1) "
   ]
  },
  {
   "cell_type": "code",
   "execution_count": 0,
   "metadata": {
    "colab": {
     "base_uri": "https://localhost:8080/",
     "height": 1020
    },
    "colab_type": "code",
    "executionInfo": {
     "elapsed": 53175,
     "status": "ok",
     "timestamp": 1549317075866,
     "user": {
      "displayName": "Michael Schimpke",
      "photoUrl": "",
      "userId": "08866054739853401103"
     },
     "user_tz": -60
    },
    "id": "hYW-YwXDP0SU",
    "outputId": "08d0fa1f-7eec-4670-ec75-0a570a357358"
   },
   "outputs": [
    {
     "data": {
      "application/vnd.jupyter.widget-view+json": {
       "model_id": "6d457e7ab22945ccab3b6ed37f43c714",
       "version_major": 2,
       "version_minor": 0
      },
      "text/plain": [
       "HBox(children=(IntProgress(value=0, description='Epoch', max=1, style=ProgressStyle(description_width='initial…"
      ]
     },
     "metadata": {
      "tags": []
     },
     "output_type": "display_data"
    },
    {
     "name": "stdout",
     "output_type": "stream",
     "text": [
      " 97%|█████████▋| 64/66 [00:26<00:00,  2.64it/s, loss=26.8]"
     ]
    },
    {
     "data": {
      "image/png": "[encoded data removed]",
      "text/plain": [
       "<Figure size 576x396 with 1 Axes>"
      ]
     },
     "metadata": {
      "tags": []
     },
     "output_type": "display_data"
    }
   ],
   "source": [
    "# save learner for further training\n",
    "learner.save('lm_last_ft')\n",
    "\n",
    "\n",
    "# unfreeze all layers\n",
    "learner.unfreeze()\n",
    "\n",
    "\n",
    "# perform and plot algorithm to find optimal learning rate\n",
    "learner.lr_find(lr/1000)\n",
    "learner.sched.plot()"
   ]
  },
  {
   "cell_type": "code",
   "execution_count": 0,
   "metadata": {
    "colab": {
     "base_uri": "https://localhost:8080/",
     "height": 1020
    },
    "colab_type": "code",
    "executionInfo": {
     "elapsed": 131510,
     "status": "ok",
     "timestamp": 1549317162736,
     "user": {
      "displayName": "Michael Schimpke",
      "photoUrl": "",
      "userId": "08866054739853401103"
     },
     "user_tz": -60
    },
    "id": "wEHupMGlP0SV",
    "outputId": "6ef108ad-7c95-4418-c105-3b922e2c7947",
    "scrolled": true
   },
   "outputs": [
    {
     "data": {
      "application/vnd.jupyter.widget-view+json": {
       "model_id": "1dd4154e6d6244dcb961db86c0202a8c",
       "version_major": 2,
       "version_minor": 0
      },
      "text/plain": [
       "HBox(children=(IntProgress(value=0, description='Epoch', max=3, style=ProgressStyle(description_width='initial…"
      ]
     },
     "metadata": {
      "tags": []
     },
     "output_type": "display_data"
    },
    {
     "name": "stdout",
     "output_type": "stream",
     "text": [
      "epoch      trn_loss   val_loss   accuracy   \n",
      "    0      4.336937   3.914854   0.274203  \n",
      "    1      3.92364    3.78316    0.288591  \n",
      "    2      3.69587    3.764121   0.291678  \n"
     ]
    },
    {
     "data": {
      "text/plain": [
       "[array([3.76412]), 0.2916783712553174]"
      ]
     },
     "execution_count": 31,
     "metadata": {
      "tags": []
     },
     "output_type": "execute_result"
    }
   ],
   "source": [
    "learner.load('lm_last_ft')\n",
    "\n",
    "\n",
    "# set discriminative learning rate\n",
    "lr  = 1e-2\n",
    "lrm = 2.6\n",
    "lrs = np.array([lr/(lrm**3), lr/(lrm**2), lr/lrm, lr])\n",
    "\n",
    "\n",
    "# fit model with unfrozen lstm layers until it overfits\n",
    "learner.fit(lrs, 1, wds = wd, use_clr = (20,10), cycle_len = 3)"
   ]
  },
  {
   "cell_type": "code",
   "execution_count": 0,
   "metadata": {
    "colab": {},
    "colab_type": "code",
    "id": "wePEufHBP0SW"
   },
   "outputs": [],
   "source": [
    "# save complete model and encoder\n",
    "learner.save('lm2')\n",
    "learner.save_encoder('lm2_enc')"
   ]
  },
  {
   "cell_type": "code",
   "execution_count": 0,
   "metadata": {
    "colab": {
     "base_uri": "https://localhost:8080/",
     "height": 154
    },
    "colab_type": "code",
    "executionInfo": {
     "elapsed": 111755,
     "status": "ok",
     "timestamp": 1549317181011,
     "user": {
      "displayName": "Michael Schimpke",
      "photoUrl": "",
      "userId": "08866054739853401103"
     },
     "user_tz": -60
    },
    "id": "pcpgZsOuP0SX",
    "outputId": "58396561-7f36-440d-cc95-812a1bbc9d67"
   },
   "outputs": [
    {
     "name": "stdout",
     "output_type": "stream",
     "text": [
      "0\n",
      "1\n",
      "2\n",
      "0\n"
     ]
    }
   ],
   "source": [
    "## DATA PREPARATION FOR CLASSIFIER\n",
    "\n",
    "# tokenize saved training and validation datasets\n",
    "df_trn = pd.read_csv(clas_path/'train.csv', header = None, chunksize = chunksize)\n",
    "df_val = pd.read_csv(clas_path/'test.csv', header = None, chunksize = chunksize)\n",
    "\n",
    "tok_trn, trn_labels = Prep.get_all(df_trn, 1)\n",
    "tok_val, val_labels = Prep.get_all(df_val, 1)\n",
    "\n",
    "\n",
    "(clas_path/'tmp').mkdir(exist_ok = True)\n",
    "np.save(clas_path/'tmp'/'tok_trn.npy', tok_trn)\n",
    "np.save(clas_path/'tmp'/'tok_val.npy', tok_val)\n",
    "np.save(clas_path/'tmp'/'trn_labels.npy', trn_labels)\n",
    "np.save(clas_path/'tmp'/'val_labels.npy', val_labels)\n",
    "tok_trn = np.load(clas_path/'tmp'/'tok_trn.npy')\n",
    "tok_val = np.load(clas_path/'tmp'/'tok_val.npy')"
   ]
  },
  {
   "cell_type": "code",
   "execution_count": 0,
   "metadata": {
    "colab": {},
    "colab_type": "code",
    "id": "BrXwI5T9_Ksh"
   },
   "outputs": [],
   "source": [
    "# load vocabulary from language model\n",
    "itos = pickle.load((lm_path/'itos.pkl').open('rb'))\n",
    "stoi = collections.defaultdict(lambda:0, {v:k for k,v in \n",
    "                                          enumerate(itos)})"
   ]
  },
  {
   "cell_type": "code",
   "execution_count": 0,
   "metadata": {
    "colab": {},
    "colab_type": "code",
    "id": "Za-sXRKcP0SY"
   },
   "outputs": [],
   "source": [
    "# encode tokens\n",
    "trn_clas = np.array([[stoi[o] for o in p] for p in tok_trn])\n",
    "val_clas = np.array([[stoi[o] for o in p] for p in tok_val])\n",
    "np.save(clas_path/'tmp'/'trn_ids.npy', trn_clas)\n",
    "np.save(clas_path/'tmp'/'val_ids.npy', val_clas)"
   ]
  },
  {
   "cell_type": "code",
   "execution_count": 0,
   "metadata": {
    "colab": {},
    "colab_type": "code",
    "id": "RJ6jZ9MtP0SZ"
   },
   "outputs": [],
   "source": [
    "trn_clas   = np.load(clas_path/'tmp'/'trn_ids.npy')\n",
    "val_clas   = np.load(clas_path/'tmp'/'val_ids.npy')\n",
    "trn_labels = np.load(clas_path/'tmp'/'trn_labels.npy')\n",
    "val_labels = np.load(clas_path/'tmp'/'val_labels.npy')"
   ]
  },
  {
   "cell_type": "code",
   "execution_count": 0,
   "metadata": {
    "colab": {},
    "colab_type": "code",
    "id": "IWx05l_vP0Sa"
   },
   "outputs": [],
   "source": [
    "# set hyperparameters\n",
    "bptt, nh   = 70, 1150 \n",
    "em_sz, nl  = 400, 3\n",
    "bs, c      = 64, 3\n",
    "vs         = len(itos)\n",
    "\n",
    "opt_fn = partial(optim.Adam, betas = (0.8, 0.99))"
   ]
  },
  {
   "cell_type": "code",
   "execution_count": 0,
   "metadata": {
    "colab": {},
    "colab_type": "code",
    "id": "ZKnUHfRsP0Sb"
   },
   "outputs": [],
   "source": [
    "## CREATE MODEL ARCHITECTURE\n",
    "\n",
    "import functions as fct\n",
    "\n",
    "# function using sampler and data loader from fastai library\n",
    "md = fct.data_loader('', trn_clas, val_clas, trn_labels, val_labels, bs = bs, pad_idx = 1)\n",
    "\n",
    "\n",
    "# define droupout parameters and create model architecture\n",
    "dps = np.array([0.4, 0.5, 0.05, 0.3, 0.4])*0.7\n",
    "m   = get_rnn_classifer(bptt, 20*70, c, vs, emb_sz = em_sz, n_hid = nh, \n",
    "                        n_layers = nl, pad_token = 1,\n",
    "                        layers   = [em_sz*3, 50, c], drops = [dps[4], 0.1],\n",
    "                        dropouti = dps[0], wdrop = dps[1],        \n",
    "                        dropoute = dps[2], dropouth = dps[3])"
   ]
  },
  {
   "cell_type": "code",
   "execution_count": 0,
   "metadata": {
    "colab": {},
    "colab_type": "code",
    "id": "-KzSi_J5P0Sc"
   },
   "outputs": [],
   "source": [
    "# build rnn classifier model\n",
    "learn         = RNN_Learner(md, TextModel(to_gpu(m)), opt_fn = opt_fn)\n",
    "learn.reg_fn  = partial(seq2seq_reg, alpha = 2, beta = 1)\n",
    "learn.clip    = .25\n",
    "learn.metrics = [accuracy]"
   ]
  },
  {
   "cell_type": "code",
   "execution_count": 0,
   "metadata": {
    "colab": {},
    "colab_type": "code",
    "id": "edNhIpaTP0Se"
   },
   "outputs": [],
   "source": [
    "# set discriminative learning rate\n",
    "lr  = 3e-3\n",
    "lrm = 2.6\n",
    "lrs = np.array([lr/(lrm**4), lr/(lrm**3), lr/(lrm**2), lr/lrm, lr])"
   ]
  },
  {
   "cell_type": "code",
   "execution_count": 0,
   "metadata": {
    "colab": {},
    "colab_type": "code",
    "id": "HGI1ijzOP0Se"
   },
   "outputs": [],
   "source": [
    "# set weight decay and load encoder from language model\n",
    "wd = 1e-7\n",
    "learn.load_encoder('lm2_enc')"
   ]
  },
  {
   "cell_type": "code",
   "execution_count": 0,
   "metadata": {
    "colab": {
     "base_uri": "https://localhost:8080/",
     "height": 1020
    },
    "colab_type": "code",
    "executionInfo": {
     "elapsed": 11624,
     "status": "ok",
     "timestamp": 1549317214738,
     "user": {
      "displayName": "Michael Schimpke",
      "photoUrl": "",
      "userId": "08866054739853401103"
     },
     "user_tz": -60
    },
    "id": "EWduA-iIP0Sf",
    "outputId": "00a6a161-0fcb-4616-e477-91c1f6c46b3e",
    "scrolled": false
   },
   "outputs": [
    {
     "data": {
      "application/vnd.jupyter.widget-view+json": {
       "model_id": "fef9120cc1a448f1b1f9673a7690472a",
       "version_major": 2,
       "version_minor": 0
      },
      "text/plain": [
       "HBox(children=(IntProgress(value=0, description='Epoch', max=1, style=ProgressStyle(description_width='initial…"
      ]
     },
     "metadata": {
      "tags": []
     },
     "output_type": "display_data"
    },
    {
     "name": "stdout",
     "output_type": "stream",
     "text": [
      " 90%|████████▉ | 164/183 [00:10<00:01, 18.72it/s, loss=3.58]"
     ]
    },
    {
     "data": {
      "image/png": "[encoded data removed]",
      "text/plain": [
       "<Figure size 576x396 with 1 Axes>"
      ]
     },
     "metadata": {
      "tags": []
     },
     "output_type": "display_data"
    }
   ],
   "source": [
    "# freeze lstms and relu layer\n",
    "learn.freeze_to(-1)\n",
    "\n",
    "\n",
    "# perform and plot algorithm to find optimal learning rate\n",
    "learn.lr_find(lrs/1000)\n",
    "learn.sched.plot()"
   ]
  },
  {
   "cell_type": "code",
   "execution_count": null,
   "metadata": {},
   "outputs": [],
   "source": [
    "# readjust discriminative learning rate if necessary\n",
    "lr  = 3e-3\n",
    "lrm = 2.6\n",
    "lrs = np.array([lr/(lrm**4), lr/(lrm**3), lr/(lrm**2), lr/lrm, lr])"
   ]
  },
  {
   "cell_type": "code",
   "execution_count": 0,
   "metadata": {
    "colab": {
     "base_uri": "https://localhost:8080/",
     "height": 1020
    },
    "colab_type": "code",
    "executionInfo": {
     "elapsed": 24538,
     "status": "ok",
     "timestamp": 1549317228288,
     "user": {
      "displayName": "Michael Schimpke",
      "photoUrl": "",
      "userId": "08866054739853401103"
     },
     "user_tz": -60
    },
    "id": "o5IO33nnP0Sg",
    "outputId": "cde51fc5-2ea1-46d9-ba01-bd763624e37e"
   },
   "outputs": [
    {
     "data": {
      "application/vnd.jupyter.widget-view+json": {
       "model_id": "d7af2479e3944fbeb65a674b9401beb2",
       "version_major": 2,
       "version_minor": 0
      },
      "text/plain": [
       "HBox(children=(IntProgress(value=0, description='Epoch', max=1, style=ProgressStyle(description_width='initial…"
      ]
     },
     "metadata": {
      "tags": []
     },
     "output_type": "display_data"
    },
    {
     "name": "stdout",
     "output_type": "stream",
     "text": [
      "epoch      trn_loss   val_loss   accuracy   \n",
      "    0      0.702173   0.50605    0.807647  \n"
     ]
    }
   ],
   "source": [
    "# fit frozen model for one epoch\n",
    "learn.fit(lrs, 1, wds = wd, cycle_len = 1, use_clr = (8,3))\n",
    "learn.save('clas_0')"
   ]
  },
  {
   "cell_type": "code",
   "execution_count": 0,
   "metadata": {
    "colab": {
     "base_uri": "https://localhost:8080/",
     "height": 1020
    },
    "colab_type": "code",
    "executionInfo": {
     "elapsed": 39837,
     "status": "ok",
     "timestamp": 1549317244532,
     "user": {
      "displayName": "Michael Schimpke",
      "photoUrl": "",
      "userId": "08866054739853401103"
     },
     "user_tz": -60
    },
    "id": "1WmZEkFpP0Sh",
    "outputId": "d3b0811e-982d-4cfd-99c1-e79181040e08"
   },
   "outputs": [
    {
     "data": {
      "application/vnd.jupyter.widget-view+json": {
       "model_id": "0d949e4a34204fd9915436234cc85c83",
       "version_major": 2,
       "version_minor": 0
      },
      "text/plain": [
       "HBox(children=(IntProgress(value=0, description='Epoch', max=1, style=ProgressStyle(description_width='initial…"
      ]
     },
     "metadata": {
      "tags": []
     },
     "output_type": "display_data"
    },
    {
     "name": "stdout",
     "output_type": "stream",
     "text": [
      "epoch      trn_loss   val_loss   accuracy   \n",
      "    0      0.614546   0.477427   0.811608  \n"
     ]
    }
   ],
   "source": [
    "learn.load('clas_0')\n",
    "\n",
    "\n",
    "# unfreeze relu layer and fit another epoch\n",
    "learn.freeze_to(-2)\n",
    "learn.fit(lrs, 1, wds = wd, cycle_len = 1, use_clr = (8,3))\n",
    "\n",
    "learn.save('clas_1')"
   ]
  },
  {
   "cell_type": "code",
   "execution_count": 0,
   "metadata": {
    "colab": {
     "base_uri": "https://localhost:8080/",
     "height": 1020
    },
    "colab_type": "code",
    "executionInfo": {
     "elapsed": 165535,
     "status": "ok",
     "timestamp": 1549320054894,
     "user": {
      "displayName": "Michael Schimpke",
      "photoUrl": "",
      "userId": "08866054739853401103"
     },
     "user_tz": -60
    },
    "id": "z2tS3RtWP0Sh",
    "outputId": "3b539f8e-d03c-4bf0-9163-a337667975ff"
   },
   "outputs": [
    {
     "data": {
      "application/vnd.jupyter.widget-view+json": {
       "model_id": "89a0c711f064451aa6e23e4051c3f570",
       "version_major": 2,
       "version_minor": 0
      },
      "text/plain": [
       "HBox(children=(IntProgress(value=0, description='Epoch', max=5, style=ProgressStyle(description_width='initial…"
      ]
     },
     "metadata": {
      "tags": []
     },
     "output_type": "display_data"
    },
    {
     "name": "stdout",
     "output_type": "stream",
     "text": [
      "epoch      trn_loss   val_loss   accuracy   \n",
      "    0      0.610558   0.464401   0.824032  \n",
      "    1      0.559193   0.442491   0.82868   \n",
      "    2      0.536616   0.444981   0.832437  \n",
      "    3      0.46849    0.450206   0.836763  \n",
      "    4      0.419308   0.441725   0.841484  \n"
     ]
    },
    {
     "data": {
      "image/png": "[encoded data removed]",
      "text/plain": [
       "<Figure size 576x396 with 1 Axes>"
      ]
     },
     "metadata": {
      "tags": []
     },
     "output_type": "display_data"
    }
   ],
   "source": [
    "learn.load('clas_1')\n",
    "\n",
    "\n",
    "# unfreeze all layers and execute final fit\n",
    "learn.unfreeze()\n",
    "learn.fit(lrs, 1, wds = wd, cycle_len = 5, use_clr = (32,10))\n",
    "\n",
    "\n",
    "learn.sched.plot_loss()\n",
    "learn.save('clas_2')"
   ]
  },
  {
   "cell_type": "code",
   "execution_count": 0,
   "metadata": {
    "colab": {},
    "colab_type": "code",
    "id": "c-biurGJ8_oq"
   },
   "outputs": [],
   "source": [
    "# load trained classifier for prediction on other dataset\n",
    "learn.load('clas_2')"
   ]
  },
  {
   "cell_type": "code",
   "execution_count": 0,
   "metadata": {
    "colab": {},
    "colab_type": "code",
    "id": "vtfS3LPB9Aga"
   },
   "outputs": [],
   "source": [
    "# load GOP Debate twitter dataset\n",
    "my_test = pd.read_csv('datasets/gop_debate.csv')\n",
    "\n",
    "\n",
    "y = my_test.sentiment\n",
    "x = my_test.text"
   ]
  },
  {
   "cell_type": "code",
   "execution_count": 0,
   "metadata": {
    "colab": {},
    "colab_type": "code",
    "id": "az18CZux9Adk"
   },
   "outputs": [],
   "source": [
    "test_texts  = np.array(x)\n",
    "test_labels = np.array(y)\n",
    "\n",
    "\n",
    "# create dataframe\n",
    "col_names = ['labels','text']\n",
    "df_test   = pd.DataFrame({'text':test_texts, 'labels':test_labels}, columns=col_names)\n",
    "df_test.to_csv('prediction/test_final.csv', header = False, index = False)"
   ]
  },
  {
   "cell_type": "code",
   "execution_count": 0,
   "metadata": {
    "colab": {
     "base_uri": "https://localhost:8080/",
     "height": 134
    },
    "colab_type": "code",
    "executionInfo": {
     "elapsed": 15871,
     "status": "ok",
     "timestamp": 1549460003243,
     "user": {
      "displayName": "Michael Schimpke",
      "photoUrl": "",
      "userId": "08866054739853401103"
     },
     "user_tz": -60
    },
    "id": "U0upWzO19Aaa",
    "outputId": "c11e6665-f9bb-4e52-b266-89b4128e4398"
   },
   "outputs": [
    {
     "name": "stdout",
     "output_type": "stream",
     "text": [
      "0\n",
      "1\n",
      "2\n"
     ]
    }
   ],
   "source": [
    "chunksize = 5000\n",
    "BOS = 'xbos'\n",
    "df_test = pd.read_csv('prediction/test_final.csv', \n",
    "                      header = None, chunksize = chunksize)\n",
    "\n",
    "#tokenize dataset\n",
    "tok_test, test_labels = Prep.get_all(df_test, 1)"
   ]
  },
  {
   "cell_type": "code",
   "execution_count": 0,
   "metadata": {
    "colab": {
     "base_uri": "https://localhost:8080/",
     "height": 158
    },
    "colab_type": "code",
    "executionInfo": {
     "elapsed": 426,
     "status": "ok",
     "timestamp": 1549460005793,
     "user": {
      "displayName": "Michael Schimpke",
      "photoUrl": "",
      "userId": "08866054739853401103"
     },
     "user_tz": -60
    },
    "id": "v_k7tD-b9AUu",
    "outputId": "b4aaff4f-4df9-4a1c-8b4f-4d174201d4d5"
   },
   "outputs": [
    {
     "data": {
      "text/plain": [
       "array([list([2, 3, 407, 0, 88, 78, 93, 432, 660, 96, 7, 0, 150, 511, 152, 286, 10, 1262, 4, 0]),\n",
       "       list([2, 3, 407, 0, 88, 93, 28, 1019, 7, 419, 0, 152, 286, 4, 163, 48, 225, 27, 3498, 37, 230, 972, 23, 927, 2081, 4, 0, 754]),\n",
       "       list([2, 3, 407, 0, 88, 36, 1203, 27, 0, 0, 18, 7, 0, 33, 875, 23, 1971, 10, 653, 4]), ...,\n",
       "       list([2, 3, 407, 0, 88, 0, 104, 3956, 13, 6, 65, 352, 287, 7, 2717, 13, 18, 39, 61, 6, 243, 6, 82, 39, 4, 0]),\n",
       "       list([2, 3, 407, 0, 88, 0, 0, 0, 276, 30, 248, 127, 28, 32, 64, 14, 0, 0, 4, 78, 127, 453, 2229, 55, 2462, 0, 55, 1273, 520, 754]),\n",
       "       list([2, 3, 407, 0, 88, 0, 1112, 256, 7, 0, 0, 4, 148, 8, 0, 9, 9, 861, 0])], dtype=object)"
      ]
     },
     "execution_count": 37,
     "metadata": {
      "tags": []
     },
     "output_type": "execute_result"
    }
   ],
   "source": [
    "# encode tokens\n",
    "test_clas = np.array([[stoi[o] for o in p] for p in tok_test])\n",
    "test_clas"
   ]
  },
  {
   "cell_type": "code",
   "execution_count": 0,
   "metadata": {
    "colab": {},
    "colab_type": "code",
    "id": "D0c3-FJO9AKd"
   },
   "outputs": [],
   "source": [
    "# arrange dataset for prediction\n",
    "test_ds = TextDataset(test_clas, test_labels)\n",
    "dl_test = DataLoader(test_ds, bs, transpose = True, num_workers = 1, \n",
    "                     pad_idx = 1)"
   ]
  },
  {
   "cell_type": "code",
   "execution_count": 0,
   "metadata": {
    "colab": {
     "base_uri": "https://localhost:8080/",
     "height": 74
    },
    "colab_type": "code",
    "executionInfo": {
     "elapsed": 16570,
     "status": "ok",
     "timestamp": 1549460025158,
     "user": {
      "displayName": "Michael Schimpke",
      "photoUrl": "",
      "userId": "08866054739853401103"
     },
     "user_tz": -60
    },
    "id": "sc_lpqhr9uKE",
    "outputId": "768b8b8c-71da-4b12-e9b7-8307a26933e2"
   },
   "outputs": [
    {
     "name": "stdout",
     "output_type": "stream",
     "text": [
      "Accuracy: 0.5103453247783145\n"
     ]
    }
   ],
   "source": [
    "# prediction\n",
    "pred_test = learn.predict_dl(dl_test)\n",
    "counter   = 0\n",
    "for i in range(0, len(test_labels)): \n",
    "        pred_test2  = pred_test[i]\n",
    "        pred_aslist = pred_test2.tolist()\n",
    "        probs       = fct.softmax(pred_aslist)\n",
    "        idx,        = np.where(probs == np.amax(probs))\n",
    "        if test_labels[i] == idx:\n",
    "                  counter = counter + 1\n",
    "            \n",
    "            \n",
    "# print out accuracy\n",
    "print('Accuracy: ' + str(counter/len(test_labels)))"
   ]
  }
 ],
 "metadata": {
  "accelerator": "GPU",
  "colab": {
   "collapsed_sections": [],
   "name": "Code_komplett.ipynb",
   "provenance": [],
   "version": "0.3.2"
  },
  "kernelspec": {
   "display_name": "Python 3",
   "language": "python",
   "name": "python3"
  },
  "language_info": {
   "codemirror_mode": {
    "name": "ipython",
    "version": 3
   },
   "file_extension": ".py",
   "mimetype": "text/x-python",
   "name": "python",
   "nbconvert_exporter": "python",
   "pygments_lexer": "ipython3",
   "version": "3.6.8"
  }
 },
 "nbformat": 4,
 "nbformat_minor": 1
}
